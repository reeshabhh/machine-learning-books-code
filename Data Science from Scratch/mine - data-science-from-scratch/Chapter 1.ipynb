{
 "cells": [
  {
   "cell_type": "code",
   "execution_count": 1,
   "id": "47519ed4-2146-4885-8b99-8de80383311f",
   "metadata": {},
   "outputs": [],
   "source": [
    "users = [\n",
    "{ \"id\": 0, \"name\": \"Hero\" },\n",
    "{ \"id\": 1, \"name\": \"Dunn\" },\n",
    "{ \"id\": 2, \"name\": \"Sue\" },\n",
    "{ \"id\": 3, \"name\": \"Chi\" },\n",
    "{ \"id\": 4, \"name\": \"Thor\" },\n",
    "{ \"id\": 5, \"name\": \"Clive\" },\n",
    "{ \"id\": 6, \"name\": \"Hicks\" },\n",
    "{ \"id\": 7, \"name\": \"Devin\" },\n",
    "{ \"id\": 8, \"name\": \"Kate\" },\n",
    "{ \"id\": 9, \"name\": \"Klein\" }\n",
    "]"
   ]
  },
  {
   "cell_type": "code",
   "execution_count": 2,
   "id": "acc0836b-caee-4304-975b-f68d358d385a",
   "metadata": {},
   "outputs": [],
   "source": [
    "friendship_pairs = [(0, 1), (0, 2), (1, 2), (1, 3), (2, 3), (3, 4),\n",
    "(4, 5), (5, 6), (5, 7), (6, 8), (7, 8), (8, 9)]"
   ]
  },
  {
   "cell_type": "code",
   "execution_count": 3,
   "id": "083a9607-59d3-41b6-9af6-144ddf51af82",
   "metadata": {},
   "outputs": [],
   "source": [
    "# Initialize the dict with an empty list for each user id:\n",
    "friendships = {user[\"id\"]: [] for user in users}"
   ]
  },
  {
   "cell_type": "code",
   "execution_count": 5,
   "id": "8344842c-cab5-48d4-abed-d6dfb29a7f6d",
   "metadata": {},
   "outputs": [],
   "source": [
    "# And loop over the friendship pairs to populate it:\n",
    "for i, j in friendship_pairs:\n",
    "    friendships[i].append(j) # Add j as a friend of user i\n",
    "    friendships[j].append(i) # Add i as a friend of user j"
   ]
  },
  {
   "cell_type": "code",
   "execution_count": 6,
   "id": "b458ac64-1423-4c74-8405-def51b4f817c",
   "metadata": {},
   "outputs": [],
   "source": [
    "def number_of_friends(user):\n",
    "    \"\"\"How many friends does _user_ have?\"\"\"\n",
    "    user_id = user[\"id\"]\n",
    "    friend_ids = friendships[user_id]\n",
    "    return len(friend_ids)"
   ]
  },
  {
   "cell_type": "code",
   "execution_count": 7,
   "id": "21305c5f-e559-404e-8bdd-92e5b7be319e",
   "metadata": {},
   "outputs": [],
   "source": [
    "total_connections = sum(number_of_friends(user)\n",
    "for user in users) # 24"
   ]
  },
  {
   "cell_type": "code",
   "execution_count": 9,
   "id": "10e6e530-034f-4972-bafa-746ea8d6621c",
   "metadata": {},
   "outputs": [
    {
     "name": "stdout",
     "output_type": "stream",
     "text": [
      "24\n"
     ]
    }
   ],
   "source": [
    "print(total_connections)"
   ]
  },
  {
   "cell_type": "code",
   "execution_count": 8,
   "id": "886cf2e4-2ea2-4bde-9e1f-da60078789e3",
   "metadata": {},
   "outputs": [],
   "source": [
    "num_users = len(users) # length of the users list\n",
    "avg_connections = total_connections / num_users # 24 / 10 == 2.4"
   ]
  },
  {
   "cell_type": "code",
   "execution_count": 10,
   "id": "515cfa93-5b74-43d8-8371-9ec9512972f2",
   "metadata": {},
   "outputs": [],
   "source": [
    "# Create a list (user_id, number_of_friends).\n",
    "num_friends_by_id = [(user[\"id\"], number_of_friends(user))\n",
    "for user in users]"
   ]
  },
  {
   "cell_type": "code",
   "execution_count": 11,
   "id": "ee0e9d3d-b7a1-4ae7-9c3b-14e2b0f2969c",
   "metadata": {},
   "outputs": [],
   "source": [
    "num_friends_by_id.sort( # Sort the list\n",
    "key=lambda id_and_friends: id_and_friends[1], # by num_friends\n",
    "reverse=True) # largest to smallest\n",
    "# Each pair is (user_id, num_friends):\n",
    "# [(1, 3), (2, 3), (3, 3), (5, 3), (8, 3),\n",
    "# (0, 2), (4, 2), (6, 2), (7, 2), (9, 1)]"
   ]
  },
  {
   "cell_type": "code",
   "execution_count": 14,
   "id": "a9235b55-a60d-4e32-9add-6d12520518fe",
   "metadata": {},
   "outputs": [],
   "source": [
    "def foaf_ids_bad(user):\n",
    "    \"\"\"foaf is short for \"friend of a friend\" \"\"\"\n",
    "    return [foaf_id\n",
    "            for friend_id in friendships[user[\"id\"]]\n",
    "            for foaf_id in friendships[friend_id]]"
   ]
  },
  {
   "cell_type": "code",
   "execution_count": 18,
   "id": "44d31b8e-eada-488f-9d7b-a32159aeb3ee",
   "metadata": {},
   "outputs": [
    {
     "data": {
      "text/plain": [
       "[0, 2, 3, 0, 1, 3]"
      ]
     },
     "execution_count": 18,
     "metadata": {},
     "output_type": "execute_result"
    }
   ],
   "source": [
    "foaf_ids_bad(users[0])"
   ]
  },
  {
   "cell_type": "code",
   "execution_count": 17,
   "id": "48b3d148-a093-49a5-820e-211cacd04ed8",
   "metadata": {},
   "outputs": [
    {
     "name": "stdout",
     "output_type": "stream",
     "text": [
      "[1, 2]\n",
      "[0, 2, 3]\n",
      "[0, 1, 3]\n"
     ]
    }
   ],
   "source": [
    "print(friendships[0]) # [1, 2]\n",
    "print(friendships[1]) # [0, 2, 3]\n",
    "print(friendships[2]) # [0, 1, 3]"
   ]
  },
  {
   "cell_type": "code",
   "execution_count": 21,
   "id": "d319a575-1362-4413-a5ab-5a7fa1cea91c",
   "metadata": {},
   "outputs": [],
   "source": [
    "from collections import Counter # not loaded by default\n",
    "def friends_of_friends(user):\n",
    "    user_id = user[\"id\"]\n",
    "    return Counter(\n",
    "            foaf_id\n",
    "            for friend_id in friendships[user_id] # For each of my friends,\n",
    "            for foaf_id in friendships[friend_id] # find their friends\n",
    "            if foaf_id != user_id # who aren't me\n",
    "            and foaf_id not in friendships[user_id] # and aren't my friends.\n",
    "            )"
   ]
  },
  {
   "cell_type": "code",
   "execution_count": 22,
   "id": "e3f7be57-c21c-4640-bc9b-1d9be8efdcd6",
   "metadata": {},
   "outputs": [
    {
     "name": "stdout",
     "output_type": "stream",
     "text": [
      "Counter({0: 2, 5: 1})\n"
     ]
    }
   ],
   "source": [
    "print(friends_of_friends(users[3])) # Counter({0: 2, 5: 1})"
   ]
  },
  {
   "cell_type": "code",
   "execution_count": 23,
   "id": "ac8b51aa-438c-4637-8dc1-d0540ae5e8eb",
   "metadata": {},
   "outputs": [],
   "source": [
    "interests = [\n",
    "(0, \"Hadoop\"), (0, \"Big Data\"), (0, \"HBase\"), (0, \"Java\"),\n",
    "(0, \"Spark\"), (0, \"Storm\"), (0, \"Cassandra\"),\n",
    "(1, \"NoSQL\"), (1, \"MongoDB\"), (1, \"Cassandra\"), (1, \"HBase\"),\n",
    "(1, \"Postgres\"), (2, \"Python\"), (2, \"scikit-learn\"), (2, \"scipy\"),\n",
    "(2, \"numpy\"), (2, \"statsmodels\"), (2, \"pandas\"), (3, \"R\"), (3, \"Python\"),\n",
    "(3, \"statistics\"), (3, \"regression\"), (3, \"probability\"),\n",
    "(4, \"machine learning\"), (4, \"regression\"), (4, \"decision trees\"),\n",
    "(4, \"libsvm\"), (5, \"Python\"), (5, \"R\"), (5, \"Java\"), (5, \"C++\"),\n",
    "(5, \"Haskell\"), (5, \"programming languages\"), (6, \"statistics\"),\n",
    "(6, \"probability\"), (6, \"mathematics\"), (6, \"theory\"),\n",
    "(7, \"machine learning\"), (7, \"scikit-learn\"), (7, \"Mahout\"),\n",
    "(7, \"neural networks\"), (8, \"neural networks\"), (8, \"deep learning\"),\n",
    "(8, \"Big Data\"), (8, \"artificial intelligence\"), (9, \"Hadoop\"),\n",
    "(9, \"Java\"), (9, \"MapReduce\"), (9, \"Big Data\")\n",
    "]"
   ]
  },
  {
   "cell_type": "code",
   "execution_count": 25,
   "id": "42911b7a-b1cf-4a77-9268-c66046b81af0",
   "metadata": {},
   "outputs": [],
   "source": [
    "def data_scientists_who_like(target_interest):\n",
    "    \"\"\"Find the ids of all users who like the target interest.\"\"\"\n",
    "    return [user_id\n",
    "        for user_id, user_interest in interests\n",
    "        if user_interest == target_interest]"
   ]
  },
  {
   "cell_type": "code",
   "execution_count": 26,
   "id": "d73d5af6-ba4b-4966-882f-21d70b653893",
   "metadata": {},
   "outputs": [],
   "source": [
    "from collections import defaultdict\n",
    "# Keys are interests, values are lists of user_ids with that interest\n",
    "user_ids_by_interest = defaultdict(list)\n",
    "for user_id, interest in interests:\n",
    "    user_ids_by_interest[interest].append(user_id)"
   ]
  },
  {
   "cell_type": "code",
   "execution_count": 27,
   "id": "c5e60aa3-bf91-4eae-b72f-9755c8508e30",
   "metadata": {},
   "outputs": [],
   "source": [
    "# Keys are user_ids, values are lists of interests for that user_id.\n",
    "interests_by_user_id = defaultdict(list)\n",
    "for user_id, interest in interests:\n",
    "    interests_by_user_id[user_id].append(interest)"
   ]
  },
  {
   "cell_type": "code",
   "execution_count": 29,
   "id": "63a60451-f12c-4c44-8b01-823a4e2c2e9e",
   "metadata": {},
   "outputs": [],
   "source": [
    "def most_common_interests_with(user):\n",
    "    return Counter(\n",
    "            interested_user_id\n",
    "            for interest in interests_by_user_id[user[\"id\"]]\n",
    "            for interested_user_id in user_ids_by_interest[interest]\n",
    "            if interested_user_id != user[\"id\"]\n",
    "            )"
   ]
  },
  {
   "cell_type": "code",
   "execution_count": 30,
   "id": "1773a712-7489-471d-8be2-4401828d119d",
   "metadata": {},
   "outputs": [],
   "source": [
    "salaries_and_tenures = [(83000, 8.7), (88000, 8.1),\n",
    "                        (48000, 0.7), (76000, 6),\n",
    "                        (69000, 6.5), (76000, 7.5),\n",
    "                         (60000, 2.5), (83000, 10),\n",
    "                        (48000, 1.9), (63000, 4.2)]"
   ]
  },
  {
   "cell_type": "code",
   "execution_count": 31,
   "id": "fa975466-67c7-4935-8e27-48dbd4512f71",
   "metadata": {},
   "outputs": [
    {
     "ename": "IndentationError",
     "evalue": "expected an indented block after 'for' statement on line 3 (2332209245.py, line 4)",
     "output_type": "error",
     "traceback": [
      "\u001b[1;36m  Cell \u001b[1;32mIn[31], line 4\u001b[1;36m\u001b[0m\n\u001b[1;33m    salary_by_tenure[tenure].append(salary)\u001b[0m\n\u001b[1;37m    ^\u001b[0m\n\u001b[1;31mIndentationError\u001b[0m\u001b[1;31m:\u001b[0m expected an indented block after 'for' statement on line 3\n"
     ]
    }
   ],
   "source": [
    "# Keys are years, values are lists of the salaries for each tenure.\n",
    "salary_by_tenure = defaultdict(list)\n",
    "for salary, tenure in salaries_and_tenures:\n",
    "salary_by_tenure[tenure].append(salary)\n",
    "# Keys are years, each value is average salary for that tenure.\n",
    "average_salary_by_tenure = {\n",
    " tenure: sum(salaries) / len(salaries)\n",
    "for tenure, salaries in salary_by_tenure.items()\n",
    "}"
   ]
  },
  {
   "cell_type": "code",
   "execution_count": 32,
   "id": "34e92109-76fd-40db-95c4-1f34ebe5e1ff",
   "metadata": {},
   "outputs": [
    {
     "data": {
      "text/plain": [
       "{0.7: 48000.0,\n",
       " 1.9: 48000.0,\n",
       " 2.5: 60000.0,\n",
       " 4.2: 63000.0,\n",
       " 6: 76000.0,\n",
       " 6.5: 69000.0,\n",
       " 7.5: 76000.0,\n",
       " 8.1: 88000.0,\n",
       " 8.7: 83000.0,\n",
       " 10: 83000.0}"
      ]
     },
     "execution_count": 32,
     "metadata": {},
     "output_type": "execute_result"
    }
   ],
   "source": [
    "{0.7: 48000.0,\n",
    "1.9: 48000.0,\n",
    "2.5: 60000.0,\n",
    "4.2: 63000.0,\n",
    "6: 76000.0,\n",
    "6.5: 69000.0,\n",
    "7.5: 76000.0,\n",
    "8.1: 88000.0,\n",
    "8.7: 83000.0,\n",
    "10: 83000.0}"
   ]
  },
  {
   "cell_type": "code",
   "execution_count": 33,
   "id": "2d0eab17-daea-42d3-8c9d-757ae316d04b",
   "metadata": {},
   "outputs": [
    {
     "ename": "IndentationError",
     "evalue": "expected an indented block after function definition on line 1 (791917735.py, line 2)",
     "output_type": "error",
     "traceback": [
      "\u001b[1;36m  Cell \u001b[1;32mIn[33], line 2\u001b[1;36m\u001b[0m\n\u001b[1;33m    if tenure < 2:\u001b[0m\n\u001b[1;37m    ^\u001b[0m\n\u001b[1;31mIndentationError\u001b[0m\u001b[1;31m:\u001b[0m expected an indented block after function definition on line 1\n"
     ]
    }
   ],
   "source": [
    "def tenure_bucket(tenure):\n",
    "if tenure < 2:\n",
    "return \"less than two\"\n",
    "elif tenure < 5:\n",
    "return \"between two and five\"\n",
    "else:\n",
    "return \"more than five\""
   ]
  },
  {
   "cell_type": "code",
   "execution_count": 37,
   "id": "c1dba9f7-be55-4aad-a8a0-a1424a4d4842",
   "metadata": {},
   "outputs": [
    {
     "name": "stdout",
     "output_type": "stream",
     "text": [
      "Counter({0: 2, 5: 1})\n",
      "\n",
      "######################\n",
      "#\n",
      "# FINDING KEY CONNECTORS\n",
      "#\n",
      "######################\n",
      "\n",
      "total connections 24\n",
      "number of users 11\n",
      "average connections 2.1818181818181817\n",
      "\n",
      "users sorted by number of friends:\n",
      "[(1, 3), (2, 3), (3, 3), (5, 3), (8, 3), (0, 2), (4, 2), (6, 2), (7, 2), (9, 1), (10, 0)]\n",
      "\n",
      "######################\n",
      "#\n",
      "# DATA SCIENTISTS YOU MAY KNOW\n",
      "#\n",
      "######################\n",
      "\n",
      "friends of friends bad for user 0: [0, 2, 3, 0, 1, 3]\n",
      "friends of friends for user 3: Counter({0: 2, 5: 1})\n",
      "\n",
      "######################\n",
      "#\n",
      "# SALARIES AND TENURES\n",
      "#\n",
      "######################\n",
      "\n",
      "average salary by tenure {8.7: 83000.0, 8.1: 88000.0, 0.7: 48000.0, 6: 76000.0, 6.5: 69000.0, 7.5: 76000.0, 2.5: 60000.0, 10: 83000.0, 1.9: 48000.0, 4.2: 63000.0}\n",
      "average salary by tenure bucket {'more than five': 79166.66666666667, 'less than two': 48000.0, 'between two and five': 61500.0}\n",
      "\n",
      "######################\n",
      "#\n",
      "# MOST COMMON WORDS\n",
      "#\n",
      "######################\n",
      "\n",
      "big 3\n",
      "data 3\n",
      "java 3\n",
      "python 3\n",
      "learning 3\n",
      "hadoop 2\n",
      "hbase 2\n",
      "cassandra 2\n",
      "scikit-learn 2\n",
      "r 2\n",
      "statistics 2\n",
      "regression 2\n",
      "probability 2\n",
      "machine 2\n",
      "neural 2\n",
      "networks 2\n"
     ]
    }
   ],
   "source": [
    "# at this stage in the book we haven't actually installed matplotlib,\n",
    "# comment this out if you need to\n",
    "from matplotlib import pyplot as plt\n",
    "\n",
    "##########################\n",
    "#                        #\n",
    "# FINDING KEY CONNECTORS #\n",
    "#                        #\n",
    "##########################\n",
    "\n",
    "users = [\n",
    "    { \"id\": 0, \"name\": \"Hero\" },\n",
    "    { \"id\": 1, \"name\": \"Dunn\" },\n",
    "    { \"id\": 2, \"name\": \"Sue\" },\n",
    "    { \"id\": 3, \"name\": \"Chi\" },\n",
    "    { \"id\": 4, \"name\": \"Thor\" },\n",
    "    { \"id\": 5, \"name\": \"Clive\" },\n",
    "    { \"id\": 6, \"name\": \"Hicks\" },\n",
    "    { \"id\": 7, \"name\": \"Devin\" },\n",
    "    { \"id\": 8, \"name\": \"Kate\" },\n",
    "    { \"id\": 9, \"name\": \"Klein\" },\n",
    "    { \"id\": 10, \"name\": \"Jen\" }\n",
    "]\n",
    "\n",
    "friendships = [(0, 1), (0, 2), (1, 2), (1, 3), (2, 3), (3, 4),\n",
    "               (4, 5), (5, 6), (5, 7), (6, 8), (7, 8), (8, 9)]\n",
    "\n",
    "\n",
    "# first give each user an empty list\n",
    "for user in users:\n",
    "    user[\"friends\"] = []\n",
    "\n",
    "# and then populate the lists with friendships\n",
    "for i, j in friendships:\n",
    "    # this works because users[i] is the user whose id is i\n",
    "    users[i][\"friends\"].append(users[j]) # add i as a friend of j\n",
    "    users[j][\"friends\"].append(users[i]) # add j as a friend of i\n",
    "\n",
    "def number_of_friends(user):\n",
    "    \"\"\"how many friends does _user_ have?\"\"\"\n",
    "    return len(user[\"friends\"]) # length of friend_ids list\n",
    "\n",
    "total_connections = sum(number_of_friends(user)\n",
    "                        for user in users) # 24\n",
    "\n",
    "num_users = len(users)\n",
    "avg_connections = total_connections / num_users # 2.4\n",
    "\n",
    "################################\n",
    "#                              #\n",
    "# DATA SCIENTISTS YOU MAY KNOW #\n",
    "#                              #\n",
    "################################\n",
    "\n",
    "def friends_of_friend_ids_bad(user):\n",
    "    # \"foaf\" is short for \"friend of a friend\"\n",
    "    return [foaf[\"id\"]\n",
    "            for friend in user[\"friends\"] # for each of user's friends\n",
    "            for foaf in friend[\"friends\"]] # get each of _their_ friends\n",
    "\n",
    "from collections import Counter # not loaded by default\n",
    "\n",
    "def not_the_same(user, other_user):\n",
    "    \"\"\"two users are not the same if they have different ids\"\"\"\n",
    "    return user[\"id\"] != other_user[\"id\"]\n",
    "\n",
    "def not_friends(user, other_user):\n",
    "    \"\"\"other_user is not a friend if he's not in user[\"friends\"];\n",
    "    that is, if he's not_the_same as all the people in user[\"friends\"]\"\"\"\n",
    "    return all(not_the_same(friend, other_user)\n",
    "               for friend in user[\"friends\"])\n",
    "\n",
    "def friends_of_friend_ids(user):\n",
    "    return Counter(foaf[\"id\"]\n",
    "                   for friend in user[\"friends\"]  # for each of my friends\n",
    "                   for foaf in friend[\"friends\"]  # count *their* friends\n",
    "                   if not_the_same(user, foaf)    # who aren't me\n",
    "                   and not_friends(user, foaf))   # and aren't my friends\n",
    "\n",
    "print(friends_of_friend_ids(users[3])) # Counter({0: 2, 5: 1})\n",
    "\n",
    "interests = [\n",
    "    (0, \"Hadoop\"), (0, \"Big Data\"), (0, \"HBase\"), (0, \"Java\"),\n",
    "    (0, \"Spark\"), (0, \"Storm\"), (0, \"Cassandra\"),\n",
    "    (1, \"NoSQL\"), (1, \"MongoDB\"), (1, \"Cassandra\"), (1, \"HBase\"),\n",
    "    (1, \"Postgres\"), (2, \"Python\"), (2, \"scikit-learn\"), (2, \"scipy\"),\n",
    "    (2, \"numpy\"), (2, \"statsmodels\"), (2, \"pandas\"), (3, \"R\"), (3, \"Python\"),\n",
    "    (3, \"statistics\"), (3, \"regression\"), (3, \"probability\"),\n",
    "    (4, \"machine learning\"), (4, \"regression\"), (4, \"decision trees\"),\n",
    "    (4, \"libsvm\"), (5, \"Python\"), (5, \"R\"), (5, \"Java\"), (5, \"C++\"),\n",
    "    (5, \"Haskell\"), (5, \"programming languages\"), (6, \"statistics\"),\n",
    "    (6, \"probability\"), (6, \"mathematics\"), (6, \"theory\"),\n",
    "    (7, \"machine learning\"), (7, \"scikit-learn\"), (7, \"Mahout\"),\n",
    "    (7, \"neural networks\"), (8, \"neural networks\"), (8, \"deep learning\"),\n",
    "    (8, \"Big Data\"), (8, \"artificial intelligence\"), (9, \"Hadoop\"),\n",
    "    (9, \"Java\"), (9, \"MapReduce\"), (9, \"Big Data\")\n",
    "]\n",
    "\n",
    "def data_scientists_who_like(target_interest):\n",
    "    return [user_id\n",
    "            for user_id, user_interest in interests\n",
    "            if user_interest == target_interest]\n",
    "\n",
    "from collections import defaultdict\n",
    "\n",
    "# keys are interests, values are lists of user_ids with that interest\n",
    "user_ids_by_interest = defaultdict(list)\n",
    "\n",
    "for user_id, interest in interests:\n",
    "    user_ids_by_interest[interest].append(user_id)\n",
    "\n",
    "# keys are user_ids, values are lists of interests for that user_id\n",
    "interests_by_user_id = defaultdict(list)\n",
    "\n",
    "for user_id, interest in interests:\n",
    "    interests_by_user_id[user_id].append(interest)\n",
    "\n",
    "def most_common_interests_with(user_id):\n",
    "    return Counter(interested_user_id\n",
    "        for interest in interests_by_user_id[\"user_id\"]\n",
    "        for interested_user_id in user_ids_by_interest[interest]\n",
    "        if interested_user_id != user_id)\n",
    "\n",
    "###########################\n",
    "#                         #\n",
    "# SALARIES AND EXPERIENCE #\n",
    "#                         #\n",
    "###########################\n",
    "\n",
    "salaries_and_tenures = [(83000, 8.7), (88000, 8.1),\n",
    "                        (48000, 0.7), (76000, 6),\n",
    "                        (69000, 6.5), (76000, 7.5),\n",
    "                        (60000, 2.5), (83000, 10),\n",
    "                        (48000, 1.9), (63000, 4.2)]\n",
    "\n",
    "def make_chart_salaries_by_tenure():\n",
    "    tenures = [tenure for salary, tenure in salaries_and_tenures]\n",
    "    salaries = [salary for salary, tenure in salaries_and_tenures]\n",
    "    plt.scatter(tenures, salaries)\n",
    "    plt.xlabel(\"Years Experience\")\n",
    "    plt.ylabel(\"Salary\")\n",
    "    plt.show()\n",
    "\n",
    "# keys are years\n",
    "# values are the salaries for each tenure\n",
    "salary_by_tenure = defaultdict(list)\n",
    "\n",
    "for salary, tenure in salaries_and_tenures:\n",
    "    salary_by_tenure[tenure].append(salary)\n",
    "\n",
    "average_salary_by_tenure = {\n",
    "    tenure : sum(salaries) / len(salaries)\n",
    "    for tenure, salaries in salary_by_tenure.items()\n",
    "}\n",
    "\n",
    "def tenure_bucket(tenure):\n",
    "    if tenure < 2: return \"less than two\"\n",
    "    elif tenure < 5: return \"between two and five\"\n",
    "    else: return \"more than five\"\n",
    "\n",
    "salary_by_tenure_bucket = defaultdict(list)\n",
    "\n",
    "for salary, tenure in salaries_and_tenures:\n",
    "    bucket = tenure_bucket(tenure)\n",
    "    salary_by_tenure_bucket[bucket].append(salary)\n",
    "\n",
    "average_salary_by_bucket = {\n",
    "  tenure_bucket : sum(salaries) / len(salaries)\n",
    "  for tenure_bucket, salaries in salary_by_tenure_bucket.items()\n",
    "}\n",
    "\n",
    "\n",
    "#################\n",
    "#               #\n",
    "# PAID_ACCOUNTS #\n",
    "#               #\n",
    "#################\n",
    "\n",
    "def predict_paid_or_unpaid(years_experience):\n",
    "  if years_experience < 3.0: return \"paid\"\n",
    "  elif years_experience < 8.5: return \"unpaid\"\n",
    "  else: return \"paid\"\n",
    "\n",
    "######################\n",
    "#                    #\n",
    "# TOPICS OF INTEREST #\n",
    "#                    #\n",
    "######################\n",
    "\n",
    "words_and_counts = Counter(word\n",
    "                           for user, interest in interests\n",
    "                           for word in interest.lower().split())\n",
    "\n",
    "\n",
    "if __name__ == \"__main__\":\n",
    "\n",
    "    print()\n",
    "    print(\"######################\")\n",
    "    print(\"#\")\n",
    "    print(\"# FINDING KEY CONNECTORS\")\n",
    "    print(\"#\")\n",
    "    print(\"######################\")\n",
    "    print()\n",
    "\n",
    "\n",
    "    print(\"total connections\", total_connections)\n",
    "    print(\"number of users\", num_users)\n",
    "    print(\"average connections\", total_connections / num_users)\n",
    "    print()\n",
    "\n",
    "    # create a list (user_id, number_of_friends)\n",
    "    num_friends_by_id = [(user[\"id\"], number_of_friends(user))\n",
    "                         for user in users]\n",
    "\n",
    "    print(\"users sorted by number of friends:\")\n",
    "    print(sorted(num_friends_by_id,\n",
    "                 key=lambda pair: pair[1],                       # by number of friends\n",
    "                 reverse=True))                                  # largest to smallest\n",
    "\n",
    "    print()\n",
    "    print(\"######################\")\n",
    "    print(\"#\")\n",
    "    print(\"# DATA SCIENTISTS YOU MAY KNOW\")\n",
    "    print(\"#\")\n",
    "    print(\"######################\")\n",
    "    print()\n",
    "\n",
    "\n",
    "    print(\"friends of friends bad for user 0:\", friends_of_friend_ids_bad(users[0]))\n",
    "    print(\"friends of friends for user 3:\", friends_of_friend_ids(users[3]))\n",
    "\n",
    "    print()\n",
    "    print(\"######################\")\n",
    "    print(\"#\")\n",
    "    print(\"# SALARIES AND TENURES\")\n",
    "    print(\"#\")\n",
    "    print(\"######################\")\n",
    "    print()\n",
    "\n",
    "    print(\"average salary by tenure\", average_salary_by_tenure)\n",
    "    print(\"average salary by tenure bucket\", average_salary_by_bucket)\n",
    "\n",
    "    print()\n",
    "    print(\"######################\")\n",
    "    print(\"#\")\n",
    "    print(\"# MOST COMMON WORDS\")\n",
    "    print(\"#\")\n",
    "    print(\"######################\")\n",
    "    print()\n",
    "\n",
    "    for word, count in words_and_counts.most_common():\n",
    "        if count > 1:\n",
    "            print(word, count)\n"
   ]
  },
  {
   "cell_type": "code",
   "execution_count": null,
   "id": "548d25bc-9a82-4c45-8c09-f0b47adb0cb6",
   "metadata": {},
   "outputs": [],
   "source": []
  }
 ],
 "metadata": {
  "kernelspec": {
   "display_name": "Python 3 (ipykernel)",
   "language": "python",
   "name": "python3"
  },
  "language_info": {
   "codemirror_mode": {
    "name": "ipython",
    "version": 3
   },
   "file_extension": ".py",
   "mimetype": "text/x-python",
   "name": "python",
   "nbconvert_exporter": "python",
   "pygments_lexer": "ipython3",
   "version": "3.11.5"
  }
 },
 "nbformat": 4,
 "nbformat_minor": 5
}
