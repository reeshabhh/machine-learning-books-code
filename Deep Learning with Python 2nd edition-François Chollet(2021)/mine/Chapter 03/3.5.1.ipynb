{
 "cells": [
  {
   "cell_type": "markdown",
   "id": "16e5de23-0b7d-42dc-8ab6-406d0c08e873",
   "metadata": {},
   "source": [
    "### 3.5.1. \n",
    "Constant tensors and variables"
   ]
  },
  {
   "cell_type": "code",
   "execution_count": 1,
   "id": "8a7b4933-f87b-4edb-9b09-e2cf482be152",
   "metadata": {},
   "outputs": [],
   "source": [
    "import tensorflow as tf"
   ]
  },
  {
   "cell_type": "code",
   "execution_count": 2,
   "id": "d9ad7498-bb2a-49c6-ba05-4bf860b674a7",
   "metadata": {},
   "outputs": [
    {
     "data": {
      "text/plain": [
       "<tf.Tensor: shape=(3, 2), dtype=float32, numpy=\n",
       "array([[1., 1.],\n",
       "       [1., 1.],\n",
       "       [1., 1.]], dtype=float32)>"
      ]
     },
     "execution_count": 2,
     "metadata": {},
     "output_type": "execute_result"
    }
   ],
   "source": [
    "tf.ones(shape=(3, 2))"
   ]
  },
  {
   "cell_type": "code",
   "execution_count": 3,
   "id": "bd59c3ca-f93a-4694-a471-04fd5d5709d4",
   "metadata": {},
   "outputs": [
    {
     "data": {
      "text/plain": [
       "<tf.Tensor: shape=(3, 2), dtype=float32, numpy=\n",
       "array([[0., 0.],\n",
       "       [0., 0.],\n",
       "       [0., 0.]], dtype=float32)>"
      ]
     },
     "execution_count": 3,
     "metadata": {},
     "output_type": "execute_result"
    }
   ],
   "source": [
    "tf.zeros(shape=(3, 2))"
   ]
  },
  {
   "cell_type": "code",
   "execution_count": 4,
   "id": "726651d9-88d2-4766-a66a-47c459869ba9",
   "metadata": {},
   "outputs": [
    {
     "data": {
      "text/plain": [
       "<tf.Tensor: shape=(3, 2), dtype=float32, numpy=\n",
       "array([[0.08009648, 0.0058496 ],\n",
       "       [0.9541577 , 0.74284744],\n",
       "       [0.88072574, 0.9386958 ]], dtype=float32)>"
      ]
     },
     "execution_count": 4,
     "metadata": {},
     "output_type": "execute_result"
    }
   ],
   "source": [
    "tf.random.uniform(shape=(3, 2))"
   ]
  },
  {
   "cell_type": "code",
   "execution_count": 5,
   "id": "b80166dd-5219-4e05-88f4-a53287543bf0",
   "metadata": {},
   "outputs": [
    {
     "data": {
      "text/plain": [
       "<tf.Tensor: shape=(3, 2), dtype=float32, numpy=\n",
       "array([[-1.4652126 ,  2.3533165 ],\n",
       "       [-0.6244105 ,  0.24080466],\n",
       "       [ 0.49377567,  0.37547287]], dtype=float32)>"
      ]
     },
     "execution_count": 5,
     "metadata": {},
     "output_type": "execute_result"
    }
   ],
   "source": [
    "tf.random.normal(shape=(3, 2))"
   ]
  },
  {
   "cell_type": "code",
   "execution_count": 6,
   "id": "87829e58-c1a2-411f-98c3-5d9b1bac3556",
   "metadata": {},
   "outputs": [],
   "source": [
    "import numpy as np"
   ]
  },
  {
   "cell_type": "code",
   "execution_count": 7,
   "id": "739ed5c8-6b82-48c0-8054-57bfd19665a8",
   "metadata": {},
   "outputs": [
    {
     "data": {
      "text/plain": [
       "array([[1.05629014e-311, 1.05629014e-311],\n",
       "       [2.55479940e-312, 6.95312594e-310],\n",
       "       [0.00000000e+000, 7.41098469e-323]])"
      ]
     },
     "execution_count": 7,
     "metadata": {},
     "output_type": "execute_result"
    }
   ],
   "source": [
    "np.empty((3, 2))"
   ]
  },
  {
   "cell_type": "code",
   "execution_count": 8,
   "id": "eafb20cc-e4b0-42b5-8953-1494fc0d58b1",
   "metadata": {},
   "outputs": [
    {
     "data": {
      "text/plain": [
       "array([1, 2, 3])"
      ]
     },
     "execution_count": 8,
     "metadata": {},
     "output_type": "execute_result"
    }
   ],
   "source": [
    "a = np.array([1, 2, 3])\n",
    "a"
   ]
  },
  {
   "cell_type": "code",
   "execution_count": 9,
   "id": "baffa680-fe80-43d1-9399-c205a9504684",
   "metadata": {},
   "outputs": [
    {
     "data": {
      "text/plain": [
       "array([0, 0, 0])"
      ]
     },
     "execution_count": 9,
     "metadata": {},
     "output_type": "execute_result"
    }
   ],
   "source": [
    "np.empty_like(a)"
   ]
  },
  {
   "cell_type": "code",
   "execution_count": null,
   "id": "b50bd539-d622-4ae1-bb15-fdfd1cee9bf2",
   "metadata": {},
   "outputs": [],
   "source": []
  },
  {
   "cell_type": "code",
   "execution_count": 11,
   "id": "279c9fca-e404-4841-99b3-e36889713ed4",
   "metadata": {},
   "outputs": [
    {
     "data": {
      "text/plain": [
       "<tf.Tensor: shape=(2, 1), dtype=float32, numpy=\n",
       "array([[1.],\n",
       "       [1.]], dtype=float32)>"
      ]
     },
     "execution_count": 11,
     "metadata": {},
     "output_type": "execute_result"
    }
   ],
   "source": [
    "x = tf.ones(shape=(2, 1))\n",
    "x"
   ]
  },
  {
   "cell_type": "code",
   "execution_count": 13,
   "id": "46829c83-d6b9-4e5d-8690-9f21a6be19cb",
   "metadata": {},
   "outputs": [
    {
     "name": "stdout",
     "output_type": "stream",
     "text": [
      "tf.Tensor(\n",
      "[[0.]\n",
      " [0.]], shape=(2, 1), dtype=float32)\n"
     ]
    }
   ],
   "source": [
    "x = tf.zeros(shape = (2, 1))\n",
    "print(x)"
   ]
  },
  {
   "cell_type": "code",
   "execution_count": 16,
   "id": "120a1276-b46c-4678-83b3-7ce8a6c11081",
   "metadata": {},
   "outputs": [
    {
     "name": "stdout",
     "output_type": "stream",
     "text": [
      "tf.Tensor(\n",
      "[[-0.05390565]\n",
      " [ 2.3938437 ]\n",
      " [-0.7930214 ]], shape=(3, 1), dtype=float32)\n"
     ]
    }
   ],
   "source": [
    "x = tf.random.normal(shape = (3, 1), mean = 0., stddev = 1.) # Tensor random values drawn from a normal distribution with mean 0 and standard deviation 1\n",
    "print(x)"
   ]
  },
  {
   "cell_type": "code",
   "execution_count": 18,
   "id": "e4040723-e7e4-4421-8c2e-a5ad7c73e3c9",
   "metadata": {},
   "outputs": [
    {
     "name": "stdout",
     "output_type": "stream",
     "text": [
      "[[ 1.73162491]\n",
      " [ 1.41040651]\n",
      " [-1.51110798]]\n"
     ]
    }
   ],
   "source": [
    "x = np.random.normal(size=(3, 1), loc = 0., scale = 1.) # Tensor random values drawn from a normal distribution with mean 0 and standard deviation 1\n",
    "print(x)"
   ]
  },
  {
   "cell_type": "code",
   "execution_count": 19,
   "id": "32b00578-6fa2-4e7f-8917-fd3c0a1c8685",
   "metadata": {},
   "outputs": [
    {
     "name": "stdout",
     "output_type": "stream",
     "text": [
      "tf.Tensor(\n",
      "[[0.5365945 ]\n",
      " [0.04229391]\n",
      " [0.06423676]], shape=(3, 1), dtype=float32)\n"
     ]
    }
   ],
   "source": [
    "x = tf.random.uniform(shape=(3, 1), minval=0., maxval=1.) # Tensor of random values drawn from uniform distribution between 0 and 1\n",
    "print(x)"
   ]
  },
  {
   "cell_type": "code",
   "execution_count": 20,
   "id": "08502844-72c6-4d0e-961f-6df4f6d4aabe",
   "metadata": {},
   "outputs": [
    {
     "name": "stdout",
     "output_type": "stream",
     "text": [
      "[[0.30796546]\n",
      " [0.38951335]\n",
      " [0.637355  ]]\n"
     ]
    }
   ],
   "source": [
    "x = np.random.uniform(size=(3, 1), low=0., high=1.) # Tensor of random values drawn from uniform distribution between 0 and 1\n",
    "print(x)"
   ]
  },
  {
   "cell_type": "code",
   "execution_count": 22,
   "id": "1bac5029-be20-432a-a8dc-a926b710a1fd",
   "metadata": {},
   "outputs": [
    {
     "name": "stdout",
     "output_type": "stream",
     "text": [
      "[[1. 1.]\n",
      " [1. 1.]]\n"
     ]
    }
   ],
   "source": [
    "# Tensorflow tensors are not assignable they are constant\n",
    "x = np.ones(shape=(2, 2))\n",
    "print(x)"
   ]
  },
  {
   "cell_type": "code",
   "execution_count": 23,
   "id": "b72bc50d-1712-4552-94de-257c878ee980",
   "metadata": {},
   "outputs": [
    {
     "name": "stdout",
     "output_type": "stream",
     "text": [
      "[[0. 1.]\n",
      " [1. 1.]]\n"
     ]
    }
   ],
   "source": [
    "x[0, 0] = 0.\n",
    "print(x)"
   ]
  },
  {
   "cell_type": "code",
   "execution_count": 24,
   "id": "1e4a9e02-bc7e-4269-baad-b0a3ee191c0f",
   "metadata": {},
   "outputs": [
    {
     "name": "stdout",
     "output_type": "stream",
     "text": [
      "tf.Tensor(\n",
      "[[1. 1.]\n",
      " [1. 1.]], shape=(2, 2), dtype=float32)\n"
     ]
    }
   ],
   "source": [
    "x = tf.ones(shape=(2, 2))\n",
    "print(x)"
   ]
  },
  {
   "cell_type": "code",
   "execution_count": 26,
   "id": "27796633-a095-4319-aba4-75bed55c35e2",
   "metadata": {},
   "outputs": [],
   "source": [
    "# x[0, 0] = 0\n",
    "# throws an error"
   ]
  },
  {
   "cell_type": "code",
   "execution_count": 29,
   "id": "24f92c86-3a79-48e5-96d6-af8165711632",
   "metadata": {},
   "outputs": [
    {
     "name": "stdout",
     "output_type": "stream",
     "text": [
      "<tf.Variable 'Variable:0' shape=(3, 1) dtype=float32, numpy=\n",
      "array([[ 0.5025324 ],\n",
      "       [ 1.1146352 ],\n",
      "       [-0.66824096]], dtype=float32)>\n"
     ]
    }
   ],
   "source": [
    "v = tf.Variable(initial_value=tf.random.normal(shape=(3, 1)))\n",
    "print(v)"
   ]
  },
  {
   "cell_type": "code",
   "execution_count": 31,
   "id": "fc0d973f-9fdb-4f65-84b6-c732d2f3093a",
   "metadata": {},
   "outputs": [
    {
     "name": "stdout",
     "output_type": "stream",
     "text": [
      "<tf.Variable 'Variable:0' shape=(3, 1) dtype=float32, numpy=\n",
      "array([[1.],\n",
      "       [1.],\n",
      "       [1.]], dtype=float32)>\n"
     ]
    }
   ],
   "source": [
    "v.assign(tf.ones((3,1)))\n",
    "print(v)"
   ]
  },
  {
   "cell_type": "code",
   "execution_count": 32,
   "id": "7fee21a9-f75f-4bc6-b678-28905069a6c6",
   "metadata": {},
   "outputs": [
    {
     "name": "stdout",
     "output_type": "stream",
     "text": [
      "<tf.Variable 'Variable:0' shape=(3, 1) dtype=float32, numpy=\n",
      "array([[3.],\n",
      "       [1.],\n",
      "       [1.]], dtype=float32)>\n"
     ]
    }
   ],
   "source": [
    "v[0, 0].assign(3.)\n",
    "print(v)"
   ]
  },
  {
   "cell_type": "code",
   "execution_count": 33,
   "id": "fabc14ac-a6c2-4a2e-b811-2a027bc145ef",
   "metadata": {},
   "outputs": [
    {
     "name": "stdout",
     "output_type": "stream",
     "text": [
      "<tf.Variable 'Variable:0' shape=(3, 1) dtype=float32, numpy=\n",
      "array([[4.],\n",
      "       [2.],\n",
      "       [2.]], dtype=float32)>\n"
     ]
    }
   ],
   "source": [
    "v.assign_add(tf.ones(shape=(3, 1)))\n",
    "print(v)"
   ]
  },
  {
   "cell_type": "code",
   "execution_count": 34,
   "id": "d82abbdc-97e5-4db9-9f4d-6c9e1df53dab",
   "metadata": {},
   "outputs": [
    {
     "name": "stdout",
     "output_type": "stream",
     "text": [
      "<tf.Variable 'Variable:0' shape=(3, 1) dtype=float32, numpy=\n",
      "array([[3.],\n",
      "       [1.],\n",
      "       [1.]], dtype=float32)>\n"
     ]
    }
   ],
   "source": [
    "v.assign_sub(tf.ones(shape=(3, 1)))\n",
    "print(v)"
   ]
  },
  {
   "cell_type": "code",
   "execution_count": 36,
   "id": "45b06885-38e0-4851-b80d-88a7b0fad6f9",
   "metadata": {},
   "outputs": [],
   "source": [
    "a = tf.ones(shape=(2, 2))\n",
    "b = tf.square(a)\n",
    "c = tf.sqrt(a)\n",
    "d = b + c\n",
    "e = tf.matmul(a, b)\n",
    "f = tf.matmul(a, b)\n",
    "f *= d"
   ]
  },
  {
   "cell_type": "code",
   "execution_count": 37,
   "id": "93ca62a5-6791-423f-b1a7-9a5968b7f128",
   "metadata": {},
   "outputs": [
    {
     "name": "stdout",
     "output_type": "stream",
     "text": [
      "tf.Tensor(\n",
      "[[1. 1.]\n",
      " [1. 1.]], shape=(2, 2), dtype=float32)\n",
      "tf.Tensor(\n",
      "[[1. 1.]\n",
      " [1. 1.]], shape=(2, 2), dtype=float32)\n",
      "tf.Tensor(\n",
      "[[1. 1.]\n",
      " [1. 1.]], shape=(2, 2), dtype=float32)\n",
      "tf.Tensor(\n",
      "[[2. 2.]\n",
      " [2. 2.]], shape=(2, 2), dtype=float32)\n",
      "tf.Tensor(\n",
      "[[2. 2.]\n",
      " [2. 2.]], shape=(2, 2), dtype=float32)\n",
      "tf.Tensor(\n",
      "[[4. 4.]\n",
      " [4. 4.]], shape=(2, 2), dtype=float32)\n"
     ]
    }
   ],
   "source": [
    "print(a)\n",
    "print(b)\n",
    "print(c)\n",
    "print(d)\n",
    "print(e)\n",
    "print(f)"
   ]
  },
  {
   "cell_type": "markdown",
   "id": "f8ba906c-3cc4-42a4-b262-695d3ad9b92c",
   "metadata": {},
   "source": [
    "### 3.5.3 A second look at GradientTape API"
   ]
  },
  {
   "cell_type": "code",
   "execution_count": 44,
   "id": "74990946-6c17-448c-83e6-ee307f748383",
   "metadata": {},
   "outputs": [
    {
     "data": {
      "text/plain": [
       "<tf.Variable 'Variable:0' shape=() dtype=float32, numpy=3.0>"
      ]
     },
     "execution_count": 44,
     "metadata": {},
     "output_type": "execute_result"
    }
   ],
   "source": [
    "input_var = tf.Variable(initial_value = 3.)\n",
    "input_var # x"
   ]
  },
  {
   "cell_type": "code",
   "execution_count": 45,
   "id": "3d67fd09-c0f4-4520-a5e1-5aed5e186be3",
   "metadata": {},
   "outputs": [],
   "source": [
    "with tf.GradientTape() as tape:\n",
    "    result = tf.square(input_var) # x^2"
   ]
  },
  {
   "cell_type": "code",
   "execution_count": 46,
   "id": "b1fe37be-446a-48e6-ae7c-fdc001a3f5b4",
   "metadata": {},
   "outputs": [],
   "source": [
    "gradient = tape.gradient(result, input_var) # gradient of result w.r.t. input_var\n",
    "# d(x^2)/d(x) = 2x # 2*3 = 6"
   ]
  },
  {
   "cell_type": "code",
   "execution_count": 47,
   "id": "ec5a9621-e6f4-4ef2-9ee2-2b36dca3d169",
   "metadata": {},
   "outputs": [
    {
     "name": "stdout",
     "output_type": "stream",
     "text": [
      "tf.Tensor(6.0, shape=(), dtype=float32)\n"
     ]
    }
   ],
   "source": [
    "print(gradient)"
   ]
  },
  {
   "cell_type": "code",
   "execution_count": 48,
   "id": "c03adc71-2338-4f92-8fa9-33d347a92b25",
   "metadata": {},
   "outputs": [],
   "source": [
    "# we use this to calculate gradients of the loss w.r.t. it's weights\n",
    "# gradient = tape.gradient(loss, weights)"
   ]
  },
  {
   "cell_type": "code",
   "execution_count": 50,
   "id": "9fc8adfe-d7ed-4629-9f09-3dab6f32d013",
   "metadata": {},
   "outputs": [
    {
     "name": "stdout",
     "output_type": "stream",
     "text": [
      "tf.Tensor(6.0, shape=(), dtype=float32)\n"
     ]
    }
   ],
   "source": [
    "input_const = tf.constant(3.)\n",
    "with tf.GradientTape() as tape:\n",
    "    tape.watch(input_const)\n",
    "    result = tf.square(input_const)\n",
    "gradient = tape.gradient(result, input_const)\n",
    "print(gradient)"
   ]
  },
  {
   "cell_type": "code",
   "execution_count": 57,
   "id": "987aa944-7331-46df-a533-b57687ccef8d",
   "metadata": {},
   "outputs": [
    {
     "data": {
      "text/plain": [
       "<tf.Variable 'Variable:0' shape=() dtype=float32, numpy=2.0>"
      ]
     },
     "execution_count": 57,
     "metadata": {},
     "output_type": "execute_result"
    }
   ],
   "source": [
    "input_const = tf.Variable(2.)\n",
    "input_const"
   ]
  },
  {
   "cell_type": "code",
   "execution_count": 58,
   "id": "6381afde-437a-4c37-b59f-67ec945da266",
   "metadata": {},
   "outputs": [
    {
     "name": "stdout",
     "output_type": "stream",
     "text": [
      "tf.Tensor(4.0, shape=(), dtype=float32)\n"
     ]
    }
   ],
   "source": [
    "with tf.GradientTape() as tape:\n",
    "    tape.watch(input_const)\n",
    "    result = tf.square(input_const)\n",
    "gradient = tape.gradient(result, input_const)\n",
    "print(gradient)"
   ]
  },
  {
   "cell_type": "code",
   "execution_count": 62,
   "id": "ddb15b1e-1aca-4b05-98d1-f8f344b43f2c",
   "metadata": {},
   "outputs": [
    {
     "name": "stdout",
     "output_type": "stream",
     "text": [
      "tf.Tensor(0.0, shape=(), dtype=float32)\n",
      "tf.Tensor(9.8, shape=(), dtype=float32)\n"
     ]
    }
   ],
   "source": [
    "time = tf.Variable(0.)\n",
    "with tf.GradientTape() as outer_tape:\n",
    "    with tf.GradientTape() as inner_tape:\n",
    "        position = 4.9 * time ** 2\n",
    "    speed = inner_tape.gradient(position, time)\n",
    "acceleration = outer_tape.gradient(speed, time)\n",
    "print(speed)\n",
    "print(acceleration)"
   ]
  },
  {
   "cell_type": "code",
   "execution_count": null,
   "id": "92878175-a617-468b-b48c-46352a23350c",
   "metadata": {},
   "outputs": [],
   "source": []
  },
  {
   "cell_type": "code",
   "execution_count": null,
   "id": "e9ae6458-649b-4e76-8375-1228148f60b0",
   "metadata": {},
   "outputs": [],
   "source": []
  }
 ],
 "metadata": {
  "kernelspec": {
   "display_name": "Python 3 (ipykernel)",
   "language": "python",
   "name": "python3"
  },
  "language_info": {
   "codemirror_mode": {
    "name": "ipython",
    "version": 3
   },
   "file_extension": ".py",
   "mimetype": "text/x-python",
   "name": "python",
   "nbconvert_exporter": "python",
   "pygments_lexer": "ipython3",
   "version": "3.10.13"
  }
 },
 "nbformat": 4,
 "nbformat_minor": 5
}
