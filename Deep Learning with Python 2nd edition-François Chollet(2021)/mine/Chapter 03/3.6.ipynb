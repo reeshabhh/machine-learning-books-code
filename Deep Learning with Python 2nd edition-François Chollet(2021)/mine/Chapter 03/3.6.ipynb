{
 "cells": [
  {
   "cell_type": "markdown",
   "id": "90e409f7-73da-4767-aee0-c00f5fe57bb5",
   "metadata": {},
   "source": [
    "### 3.6 Anatomy of a neural network: Understanding core \n",
    "Keras APIs "
   ]
  },
  {
   "cell_type": "code",
   "execution_count": 1,
   "id": "f8ecad66-e7f6-4983-99a5-4993ca612bd7",
   "metadata": {},
   "outputs": [],
   "source": [
    "import numpy as np, tensorflow as tf, keras"
   ]
  },
  {
   "cell_type": "code",
   "execution_count": 2,
   "id": "7fbdcfd0-7a24-45c6-bfe4-4c71a71568f6",
   "metadata": {},
   "outputs": [],
   "source": [
    "from tensorflow import keras"
   ]
  },
  {
   "cell_type": "code",
   "execution_count": 3,
   "id": "75dc86c9-61ec-4662-8060-ead65f65d730",
   "metadata": {},
   "outputs": [],
   "source": [
    "import keras"
   ]
  },
  {
   "cell_type": "code",
   "execution_count": 4,
   "id": "72b28837-cfd5-40c1-9ccc-777c8507dedd",
   "metadata": {},
   "outputs": [],
   "source": [
    "class SimpleDense(keras.layers.Layer): # All keras layers inherit from base Layer class\n",
    "    def __init__(self, units, activation=None):\n",
    "        super().__init__()\n",
    "        self.units = units\n",
    "        self.activation = activation\n",
    "\n",
    "    def build(self, input_shape): # Weight creation takes place in build method\n",
    "        input_dim = input_shape[-1]\n",
    "        self.W = self.add_weight(shape=(input_dim, self.units),\n",
    "                                initializer=\"random_normal\")\n",
    "        self.b = self.add_weight(shape=(self.units,),\n",
    "                                initializer=\"zeros\")\n",
    "\n",
    "    def call(self, inputs): # we define forward pass computation in the call() method\n",
    "        y = tf.matmul(inputs, self.W) + self.b\n",
    "        if self.activation is not None:\n",
    "            y = self.activation(y)\n",
    "        return y"
   ]
  },
  {
   "cell_type": "code",
   "execution_count": 5,
   "id": "def87970-d6c3-4e52-9806-14955da70741",
   "metadata": {},
   "outputs": [],
   "source": [
    "my_dense = SimpleDense(units=32, activation=tf.nn.relu)\n",
    "input_tensor = tf.ones(shape=(2, 784))"
   ]
  },
  {
   "cell_type": "code",
   "execution_count": 7,
   "id": "e6df09b0-f48f-477e-aa87-ed504c7b5825",
   "metadata": {},
   "outputs": [
    {
     "name": "stdout",
     "output_type": "stream",
     "text": [
      "(2, 32)\n"
     ]
    }
   ],
   "source": [
    "output_tensor = my_dense(input_tensor) # call the layer on the inputs, just like a function\n",
    "print(output_tensor.shape)"
   ]
  },
  {
   "cell_type": "code",
   "execution_count": 8,
   "id": "3f30fa80-95cd-4abd-91ed-1df761e300ec",
   "metadata": {},
   "outputs": [],
   "source": [
    "model = keras.Sequential([keras.layers.Dense(1)])\n",
    "model.compile(optimizer=\"rmsprop\", # these strings get converted to objects so we can use keras objects instead of using strings\n",
    "              loss=\"mean_squared_error\", # for finer control and passing additional hyper parameters\n",
    "              metrics=[\"accuracy\"])"
   ]
  },
  {
   "cell_type": "code",
   "execution_count": 9,
   "id": "b4b00358-caf9-4a69-87ce-4cebf118cc45",
   "metadata": {},
   "outputs": [],
   "source": [
    "model.compile(optimizer=keras.optimizers.RMSprop(),\n",
    "              loss=keras.losses.MeanSquaredError(),\n",
    "              metrics=[keras.metrics.BinaryAccuracy()])"
   ]
  },
  {
   "cell_type": "code",
   "execution_count": 10,
   "id": "8c4c53bc-67f7-47bf-9c9b-33fa41f3ca0d",
   "metadata": {},
   "outputs": [
    {
     "data": {
      "text/plain": [
       "'\\nmodel.compile(optimizer=keras.optimizers.RMSprop(learning_rate=1e-4),\\n              loss=my_custom_loss,\\n              metrics=[my_custom_metric_1, my_custom_metric_2])\\n'"
      ]
     },
     "execution_count": 10,
     "metadata": {},
     "output_type": "execute_result"
    }
   ],
   "source": [
    "\"\"\"\n",
    "model.compile(optimizer=keras.optimizers.RMSprop(learning_rate=1e-4),\n",
    "              loss=my_custom_loss,\n",
    "              metrics=[my_custom_metric_1, my_custom_metric_2])\n",
    "\"\"\""
   ]
  },
  {
   "cell_type": "code",
   "execution_count": 12,
   "id": "8af5da00-3a79-49c5-a17d-719fb3ba6560",
   "metadata": {},
   "outputs": [],
   "source": [
    "num_samples_per_class = 1000\n",
    "negative_samples = np.random.multivariate_normal(\n",
    "    mean=[0, 3],\n",
    "    cov=[[1, 0.5], [0.5, 1]],\n",
    "    size=num_samples_per_class)\n",
    "positive_samples = np.random.multivariate_normal(\n",
    "    mean=[3, 0],\n",
    "    cov=[[1, 0.5], [0.5, 1]],\n",
    "    size=num_samples_per_class)\n",
    "inputs = np.vstack((negative_samples, positive_samples)).astype(np.float32)"
   ]
  },
  {
   "cell_type": "code",
   "execution_count": 14,
   "id": "dc46bcc0-e29f-4979-a1e0-c3d43fb6377a",
   "metadata": {},
   "outputs": [],
   "source": [
    "targets = np.vstack((np.zeros((num_samples_per_class, 1), dtype=\"float32\"),\n",
    "    np.ones((num_samples_per_class, 1), dtype=\"float32\")))"
   ]
  },
  {
   "cell_type": "code",
   "execution_count": 15,
   "id": "242eb499-d7d6-4eec-96ed-26dd2c2d5f15",
   "metadata": {},
   "outputs": [
    {
     "name": "stdout",
     "output_type": "stream",
     "text": [
      "Epoch 1/5\n",
      "16/16 [==============================] - 1s 12ms/step - loss: 0.6509 - binary_accuracy: 0.5000\n",
      "Epoch 2/5\n",
      "16/16 [==============================] - 0s 10ms/step - loss: 0.6400 - binary_accuracy: 0.5000\n",
      "Epoch 3/5\n",
      "16/16 [==============================] - 0s 11ms/step - loss: 0.6307 - binary_accuracy: 0.5000\n",
      "Epoch 4/5\n",
      "16/16 [==============================] - 0s 9ms/step - loss: 0.6218 - binary_accuracy: 0.5000\n",
      "Epoch 5/5\n",
      "16/16 [==============================] - 0s 10ms/step - loss: 0.6129 - binary_accuracy: 0.5000\n"
     ]
    }
   ],
   "source": [
    "history = model.fit(\n",
    "    inputs,\n",
    "    targets,\n",
    "    epochs=5,\n",
    "    batch_size=128\n",
    ")"
   ]
  },
  {
   "cell_type": "code",
   "execution_count": 16,
   "id": "2018ef92-6ec1-4553-ab3f-e190ccfdc237",
   "metadata": {},
   "outputs": [
    {
     "data": {
      "text/plain": [
       "{'loss': [0.6508787274360657,\n",
       "  0.6399975419044495,\n",
       "  0.6307152509689331,\n",
       "  0.6218016743659973,\n",
       "  0.6129449605941772],\n",
       " 'binary_accuracy': [0.5, 0.5, 0.5, 0.5, 0.5]}"
      ]
     },
     "execution_count": 16,
     "metadata": {},
     "output_type": "execute_result"
    }
   ],
   "source": [
    "history.history"
   ]
  },
  {
   "cell_type": "code",
   "execution_count": 19,
   "id": "8573d312-a60f-40f1-b2d6-452411d19267",
   "metadata": {},
   "outputs": [],
   "source": [
    "model = keras.Sequential([keras.layers.Dense(1)])\n",
    "model.compile(optimizer=keras.optimizers.RMSprop(learning_rate=0.1),\n",
    "              loss=keras.losses.MeanSquaredError(),\n",
    "              metrics=[keras.metrics.BinaryAccuracy()])"
   ]
  },
  {
   "cell_type": "code",
   "execution_count": 17,
   "id": "3b1c17a2-22b2-49d7-a937-d54c7ba424b6",
   "metadata": {},
   "outputs": [
    {
     "data": {
      "text/plain": [
       "0.0001"
      ]
     },
     "execution_count": 17,
     "metadata": {},
     "output_type": "execute_result"
    }
   ],
   "source": [
    "1e-4"
   ]
  },
  {
   "cell_type": "code",
   "execution_count": 18,
   "id": "7ee79e9c-1ff5-4fdf-905e-2ea7afe53b95",
   "metadata": {},
   "outputs": [
    {
     "data": {
      "text/plain": [
       "0.1"
      ]
     },
     "execution_count": 18,
     "metadata": {},
     "output_type": "execute_result"
    }
   ],
   "source": [
    "1e-1"
   ]
  },
  {
   "cell_type": "code",
   "execution_count": 20,
   "id": "768cc5d9-4059-48d4-9c25-f6aaba817759",
   "metadata": {},
   "outputs": [],
   "source": [
    "indices_permutation = np.random.permutation(len(inputs))\n",
    "shuffled_inputs = inputs[indices_permutation]\n",
    "shuffled_targets = targets[indices_permutation]"
   ]
  },
  {
   "cell_type": "code",
   "execution_count": 23,
   "id": "689f9249-5132-4a70-8f1d-220d6c8d5eaf",
   "metadata": {},
   "outputs": [],
   "source": [
    "num_validation_samples = int(0.3 * len(inputs))\n",
    "val_inputs = shuffled_inputs[:num_validation_samples]\n",
    "val_targets = shuffled_targets[:num_validation_samples]\n",
    "training_inputs = shuffled_inputs[num_validation_samples:]\n",
    "training_targets = shuffled_inputs[num_validation_samples:]"
   ]
  },
  {
   "cell_type": "code",
   "execution_count": 24,
   "id": "9d2a0309-addc-4d8d-a580-c174ffeae705",
   "metadata": {},
   "outputs": [
    {
     "name": "stdout",
     "output_type": "stream",
     "text": [
      "Epoch 1/5\n",
      "88/88 [==============================] - 1s 8ms/step - loss: 2.5924 - binary_accuracy: 0.0000e+00 - val_loss: 1.6817 - val_binary_accuracy: 0.5217\n",
      "Epoch 2/5\n",
      "88/88 [==============================] - 0s 6ms/step - loss: 2.5790 - binary_accuracy: 0.0000e+00 - val_loss: 2.2350 - val_binary_accuracy: 0.5033\n",
      "Epoch 3/5\n",
      "88/88 [==============================] - 1s 6ms/step - loss: 2.5732 - binary_accuracy: 0.0000e+00 - val_loss: 2.1310 - val_binary_accuracy: 0.5200\n",
      "Epoch 4/5\n",
      "88/88 [==============================] - 1s 6ms/step - loss: 2.5796 - binary_accuracy: 0.0000e+00 - val_loss: 1.3940 - val_binary_accuracy: 0.5250\n",
      "Epoch 5/5\n",
      "88/88 [==============================] - 1s 6ms/step - loss: 2.5858 - binary_accuracy: 0.0000e+00 - val_loss: 2.0752 - val_binary_accuracy: 0.5150\n"
     ]
    },
    {
     "data": {
      "text/plain": [
       "<keras.callbacks.History at 0x2072fff2230>"
      ]
     },
     "execution_count": 24,
     "metadata": {},
     "output_type": "execute_result"
    }
   ],
   "source": [
    "model.fit(\n",
    "    training_inputs,\n",
    "    training_targets,\n",
    "    epochs=5,\n",
    "    batch_size=16,\n",
    "    validation_data=(val_inputs, val_targets)\n",
    ")"
   ]
  },
  {
   "cell_type": "code",
   "execution_count": 25,
   "id": "b12c9750-6800-4e9b-9134-cd06ac004d72",
   "metadata": {},
   "outputs": [
    {
     "name": "stdout",
     "output_type": "stream",
     "text": [
      "5/5 [==============================] - 0s 4ms/step - loss: 2.0752 - binary_accuracy: 0.5150\n"
     ]
    }
   ],
   "source": [
    "loss_and_metrics = model.evaluate(val_inputs, val_targets, batch_size=128)"
   ]
  },
  {
   "cell_type": "code",
   "execution_count": 26,
   "id": "ae0b124c-71c4-4918-95a6-999e450e7da5",
   "metadata": {},
   "outputs": [
    {
     "data": {
      "text/plain": [
       "[2.07519268989563, 0.5149999856948853]"
      ]
     },
     "execution_count": 26,
     "metadata": {},
     "output_type": "execute_result"
    }
   ],
   "source": [
    "loss_and_metrics"
   ]
  },
  {
   "cell_type": "code",
   "execution_count": 28,
   "id": "8add641f-7d0c-4d63-86c9-d701275be4b8",
   "metadata": {},
   "outputs": [],
   "source": [
    "# predictions = model(new_inputs)"
   ]
  },
  {
   "cell_type": "code",
   "execution_count": null,
   "id": "f5a434b3-58b1-4c93-9a8d-0c11db9c4af8",
   "metadata": {},
   "outputs": [],
   "source": [
    "# predictions = model.predict(new_inputs, batch_size=128)"
   ]
  },
  {
   "cell_type": "code",
   "execution_count": 29,
   "id": "4be3e309-c234-4a68-b3c9-46c2c77a5cfb",
   "metadata": {},
   "outputs": [
    {
     "name": "stdout",
     "output_type": "stream",
     "text": [
      "5/5 [==============================] - 0s 0s/step\n"
     ]
    }
   ],
   "source": [
    "predictions = model.predict(val_inputs, batch_size=128)"
   ]
  },
  {
   "cell_type": "code",
   "execution_count": 31,
   "id": "3950f958-783d-4d9d-b149-983d6f678bbd",
   "metadata": {},
   "outputs": [
    {
     "name": "stdout",
     "output_type": "stream",
     "text": [
      "[[1.2824441 ]\n",
      " [0.28648052]\n",
      " [1.6377487 ]\n",
      " [1.9607891 ]\n",
      " [1.7688947 ]\n",
      " [1.145245  ]\n",
      " [2.5993347 ]\n",
      " [1.6784043 ]\n",
      " [0.947654  ]\n",
      " [1.7841741 ]]\n"
     ]
    }
   ],
   "source": [
    "print(predictions[:10])"
   ]
  },
  {
   "cell_type": "code",
   "execution_count": null,
   "id": "57aeeec4-17e0-41be-8d78-749874ae1a8b",
   "metadata": {},
   "outputs": [],
   "source": []
  },
  {
   "cell_type": "code",
   "execution_count": null,
   "id": "637a4d3c-044d-47e1-ac80-12b0a329752e",
   "metadata": {},
   "outputs": [],
   "source": []
  },
  {
   "cell_type": "code",
   "execution_count": null,
   "id": "697b9484-f493-4517-ba28-9b33ac98dc02",
   "metadata": {},
   "outputs": [],
   "source": []
  },
  {
   "cell_type": "code",
   "execution_count": null,
   "id": "1f088873-0093-4264-8e11-9cd8d099dac8",
   "metadata": {},
   "outputs": [],
   "source": []
  }
 ],
 "metadata": {
  "kernelspec": {
   "display_name": "Python 3 (ipykernel)",
   "language": "python",
   "name": "python3"
  },
  "language_info": {
   "codemirror_mode": {
    "name": "ipython",
    "version": 3
   },
   "file_extension": ".py",
   "mimetype": "text/x-python",
   "name": "python",
   "nbconvert_exporter": "python",
   "pygments_lexer": "ipython3",
   "version": "3.11.6"
  }
 },
 "nbformat": 4,
 "nbformat_minor": 5
}
