{
 "cells": [
  {
   "cell_type": "code",
   "execution_count": 1,
   "id": "eb7df70e-bf8a-468a-9d94-cdefc1cd827b",
   "metadata": {},
   "outputs": [],
   "source": [
    "from tensorflow.keras.datasets import mnist"
   ]
  },
  {
   "cell_type": "code",
   "execution_count": 2,
   "id": "2a37e807-d4e5-4cf1-ac64-4a31ce7947bb",
   "metadata": {},
   "outputs": [],
   "source": [
    "import numpy as np"
   ]
  },
  {
   "cell_type": "code",
   "execution_count": 3,
   "id": "61847965-8d77-4ca7-a917-b634028a7d8c",
   "metadata": {},
   "outputs": [
    {
     "name": "stdout",
     "output_type": "stream",
     "text": [
      "Downloading data from https://storage.googleapis.com/tensorflow/tf-keras-datasets/mnist.npz\n",
      "11490434/11490434 [==============================] - 4s 0us/step\n"
     ]
    }
   ],
   "source": [
    "(train_images, train_labels), _ = mnist.load_data()"
   ]
  },
  {
   "cell_type": "code",
   "execution_count": 4,
   "id": "811222c0-9ff6-4b59-8215-4a421ac9c079",
   "metadata": {},
   "outputs": [],
   "source": [
    "train_images = train_images.reshape((60000, 28 * 28))\n",
    "train_images = train_images.astype('float32') / 255"
   ]
  },
  {
   "cell_type": "code",
   "execution_count": 8,
   "id": "844b8757-5d8f-49ff-a8f7-b15dbe9eb697",
   "metadata": {},
   "outputs": [],
   "source": [
    "train_images_with_noise_channels = np.concatenate(\n",
    "    [train_images, np.random.random((len(train_images), 784))],\n",
    "    axis=1)"
   ]
  },
  {
   "cell_type": "code",
   "execution_count": 9,
   "id": "2ac919a7-4d92-47a6-9651-1245e33c5f77",
   "metadata": {},
   "outputs": [],
   "source": [
    "train_images_with_zeros_channels = np.concatenate(\n",
    "    [train_images, np.zeros((len(train_images), 784))],\n",
    "    axis=1)"
   ]
  },
  {
   "cell_type": "code",
   "execution_count": 10,
   "id": "20d4fd23-01da-4df4-afb9-d7188a70d996",
   "metadata": {},
   "outputs": [],
   "source": [
    "from tensorflow import keras\n",
    "from tensorflow.keras import layers"
   ]
  },
  {
   "cell_type": "code",
   "execution_count": 14,
   "id": "6e6453fb-a5c5-43fa-9c15-c0377ef0f743",
   "metadata": {},
   "outputs": [],
   "source": [
    "def get_model():\n",
    "    model = keras.Sequential([\n",
    "        layers.Dense(512, activation='relu'),\n",
    "        layers.Dense(10, activation='softmax')\n",
    "    ])\n",
    "    model.compile(optimizer='rmsprop',\n",
    "                 loss='sparse_categorical_crossentropy',\n",
    "                 metrics=['accuracy'])\n",
    "    return model"
   ]
  },
  {
   "cell_type": "code",
   "execution_count": 15,
   "id": "3dd6ff62-34ff-45ec-87f9-57469074e459",
   "metadata": {},
   "outputs": [],
   "source": [
    "model=get_model()"
   ]
  },
  {
   "cell_type": "code",
   "execution_count": 16,
   "id": "ca01084e-b36b-4936-b2e3-989e56cca9cc",
   "metadata": {},
   "outputs": [
    {
     "name": "stdout",
     "output_type": "stream",
     "text": [
      "Epoch 1/10\n",
      "375/375 [==============================] - 4s 5ms/step - loss: 0.6377 - accuracy: 0.8096 - val_loss: 0.3493 - val_accuracy: 0.8892\n",
      "Epoch 2/10\n",
      "375/375 [==============================] - 2s 5ms/step - loss: 0.2526 - accuracy: 0.9213 - val_loss: 0.2564 - val_accuracy: 0.9205\n",
      "Epoch 3/10\n",
      "375/375 [==============================] - 2s 4ms/step - loss: 0.1631 - accuracy: 0.9495 - val_loss: 0.1574 - val_accuracy: 0.9513\n",
      "Epoch 4/10\n",
      "375/375 [==============================] - 2s 4ms/step - loss: 0.1142 - accuracy: 0.9640 - val_loss: 0.1269 - val_accuracy: 0.9613\n",
      "Epoch 5/10\n",
      "375/375 [==============================] - 2s 5ms/step - loss: 0.0824 - accuracy: 0.9737 - val_loss: 0.1611 - val_accuracy: 0.9523\n",
      "Epoch 6/10\n",
      "375/375 [==============================] - 2s 5ms/step - loss: 0.0627 - accuracy: 0.9794 - val_loss: 0.1419 - val_accuracy: 0.9610\n",
      "Epoch 7/10\n",
      "375/375 [==============================] - 2s 5ms/step - loss: 0.0458 - accuracy: 0.9858 - val_loss: 0.1296 - val_accuracy: 0.9652\n",
      "Epoch 8/10\n",
      "375/375 [==============================] - 2s 5ms/step - loss: 0.0343 - accuracy: 0.9891 - val_loss: 0.1203 - val_accuracy: 0.9692\n",
      "Epoch 9/10\n",
      "375/375 [==============================] - 2s 5ms/step - loss: 0.0257 - accuracy: 0.9914 - val_loss: 0.1341 - val_accuracy: 0.9679\n",
      "Epoch 10/10\n",
      "375/375 [==============================] - 2s 5ms/step - loss: 0.0203 - accuracy: 0.9933 - val_loss: 0.1906 - val_accuracy: 0.9601\n"
     ]
    }
   ],
   "source": [
    "history_noise = model.fit(\n",
    "    train_images_with_noise_channels, train_labels,\n",
    "    epochs=10,\n",
    "    batch_size=128,\n",
    "    validation_split=0.2,)"
   ]
  },
  {
   "cell_type": "code",
   "execution_count": null,
   "id": "d85667da-bcb2-4a0b-9ef9-2b24f091a2fc",
   "metadata": {},
   "outputs": [],
   "source": []
  },
  {
   "cell_type": "code",
   "execution_count": 17,
   "id": "9b99548d-96cb-4ff3-946b-cd7b60df7a0e",
   "metadata": {},
   "outputs": [],
   "source": [
    "model=get_model()"
   ]
  },
  {
   "cell_type": "code",
   "execution_count": 18,
   "id": "1a7824cf-608e-485d-848a-a1f2f0f80888",
   "metadata": {},
   "outputs": [
    {
     "name": "stdout",
     "output_type": "stream",
     "text": [
      "Epoch 1/10\n",
      "375/375 [==============================] - 2s 5ms/step - loss: 0.2858 - accuracy: 0.9175 - val_loss: 0.1410 - val_accuracy: 0.9603\n",
      "Epoch 2/10\n",
      "375/375 [==============================] - 2s 5ms/step - loss: 0.1182 - accuracy: 0.9654 - val_loss: 0.1095 - val_accuracy: 0.9675\n",
      "Epoch 3/10\n",
      "375/375 [==============================] - 2s 5ms/step - loss: 0.0790 - accuracy: 0.9764 - val_loss: 0.0902 - val_accuracy: 0.9733\n",
      "Epoch 4/10\n",
      "375/375 [==============================] - 2s 5ms/step - loss: 0.0565 - accuracy: 0.9835 - val_loss: 0.0976 - val_accuracy: 0.9704\n",
      "Epoch 5/10\n",
      "375/375 [==============================] - 2s 5ms/step - loss: 0.0425 - accuracy: 0.9874 - val_loss: 0.0861 - val_accuracy: 0.9745\n",
      "Epoch 6/10\n",
      "375/375 [==============================] - 2s 5ms/step - loss: 0.0321 - accuracy: 0.9902 - val_loss: 0.0881 - val_accuracy: 0.9735\n",
      "Epoch 7/10\n",
      "375/375 [==============================] - 2s 5ms/step - loss: 0.0242 - accuracy: 0.9927 - val_loss: 0.0852 - val_accuracy: 0.9768\n",
      "Epoch 8/10\n",
      "375/375 [==============================] - 2s 4ms/step - loss: 0.0185 - accuracy: 0.9946 - val_loss: 0.0759 - val_accuracy: 0.9789\n",
      "Epoch 9/10\n",
      "375/375 [==============================] - 2s 4ms/step - loss: 0.0146 - accuracy: 0.9959 - val_loss: 0.0842 - val_accuracy: 0.9781\n",
      "Epoch 10/10\n",
      "375/375 [==============================] - 2s 5ms/step - loss: 0.0110 - accuracy: 0.9969 - val_loss: 0.0863 - val_accuracy: 0.9790\n"
     ]
    }
   ],
   "source": [
    "history_zeros = model.fit(\n",
    "    train_images_with_zeros_channels, train_labels,\n",
    "    epochs=10,\n",
    "    batch_size=128,\n",
    "    validation_split=0.2,\n",
    ")"
   ]
  },
  {
   "cell_type": "code",
   "execution_count": null,
   "id": "149fe6d9-f417-48ff-bbc1-6bdb208ef85e",
   "metadata": {},
   "outputs": [],
   "source": []
  },
  {
   "cell_type": "code",
   "execution_count": 19,
   "id": "ecb0b993-76e9-45d4-abe9-2b5db9e1a54b",
   "metadata": {},
   "outputs": [],
   "source": [
    "import matplotlib.pyplot as plt"
   ]
  },
  {
   "cell_type": "code",
   "execution_count": 20,
   "id": "3c517514-b72f-4738-badd-7ecb654d29f4",
   "metadata": {},
   "outputs": [
    {
     "data": {
      "image/png": "[encoded data removed]",
      "text/plain": [
       "<Figure size 640x480 with 1 Axes>"
      ]
     },
     "metadata": {},
     "output_type": "display_data"
    }
   ],
   "source": [
    "val_acc_noise = history_noise.history['val_accuracy']\n",
    "val_acc_zeros = history_zeros.history['val_accuracy']\n",
    "epochs=range(1, 11)\n",
    "plt.plot(epochs, val_acc_noise, 'b-',\n",
    "        label='Validation accuracy with noise channels')\n",
    "plt.plot(epochs, val_acc_zeros, 'b--',\n",
    "        label='Validation accuracy with zeros channels')\n",
    "plt.title('Effect of noise channels on validation accuracy')\n",
    "plt.xlabel('Epochs')\n",
    "plt.ylabel('Accuracy')\n",
    "plt.legend()\n",
    "plt.show()"
   ]
  },
  {
   "cell_type": "code",
   "execution_count": null,
   "id": "4cb5e88b-ffad-441c-b2a2-0b260fc66201",
   "metadata": {},
   "outputs": [],
   "source": []
  },
  {
   "cell_type": "code",
   "execution_count": 21,
   "id": "0cdfcfc6-0f39-4beb-ada1-759db77a0119",
   "metadata": {},
   "outputs": [],
   "source": [
    "(train_images, train_labels), _ = mnist.load_data()"
   ]
  },
  {
   "cell_type": "code",
   "execution_count": 22,
   "id": "df07142a-cc3d-40d3-a5e5-fab4c302a5dc",
   "metadata": {},
   "outputs": [],
   "source": [
    "train_images = train_images.reshape((60000, 28 * 28))\n",
    "train_images = train_images.astype('float32') / 255"
   ]
  },
  {
   "cell_type": "code",
   "execution_count": 23,
   "id": "c8a46712-2118-4507-bc19-0cc9a7228209",
   "metadata": {},
   "outputs": [],
   "source": [
    "random_train_labels = train_labels[:]\n",
    "np.random.shuffle(random_train_labels)"
   ]
  },
  {
   "cell_type": "code",
   "execution_count": 24,
   "id": "fcfbeef9-5add-4fcc-8526-2e7d86c80859",
   "metadata": {},
   "outputs": [],
   "source": [
    "model = keras.Sequential([\n",
    "    layers.Dense(512, activation='relu'),\n",
    "    layers.Dense(10, activation = 'softmax')\n",
    "])"
   ]
  },
  {
   "cell_type": "code",
   "execution_count": 26,
   "id": "d72c4e5d-ac8f-4b35-bce9-582ff3bcdae8",
   "metadata": {},
   "outputs": [],
   "source": [
    "model.compile(optimizer='rmsprop',\n",
    "             loss='sparse_categorical_crossentropy',\n",
    "             metrics=['accuracy'])"
   ]
  },
  {
   "cell_type": "code",
   "execution_count": 27,
   "id": "7629e3aa-eb41-4e8b-bd8b-db41322b4ddb",
   "metadata": {},
   "outputs": [
    {
     "name": "stdout",
     "output_type": "stream",
     "text": [
      "Epoch 1/100\n",
      "375/375 [==============================] - 2s 6ms/step - loss: 2.3169 - accuracy: 0.1034 - val_loss: 2.3068 - val_accuracy: 0.1080\n",
      "Epoch 2/100\n",
      "375/375 [==============================] - 2s 5ms/step - loss: 2.3001 - accuracy: 0.1151 - val_loss: 2.3133 - val_accuracy: 0.1032\n",
      "Epoch 3/100\n",
      "375/375 [==============================] - 2s 5ms/step - loss: 2.2916 - accuracy: 0.1298 - val_loss: 2.3199 - val_accuracy: 0.0978\n",
      "Epoch 4/100\n",
      "375/375 [==============================] - 2s 5ms/step - loss: 2.2768 - accuracy: 0.1412 - val_loss: 2.3292 - val_accuracy: 0.0960\n",
      "Epoch 5/100\n",
      "375/375 [==============================] - 2s 5ms/step - loss: 2.2607 - accuracy: 0.1540 - val_loss: 2.3369 - val_accuracy: 0.1015\n",
      "Epoch 6/100\n",
      "375/375 [==============================] - 2s 5ms/step - loss: 2.2371 - accuracy: 0.1715 - val_loss: 2.3539 - val_accuracy: 0.1019\n",
      "Epoch 7/100\n",
      "375/375 [==============================] - 2s 5ms/step - loss: 2.2141 - accuracy: 0.1853 - val_loss: 2.3699 - val_accuracy: 0.1010\n",
      "Epoch 8/100\n",
      "375/375 [==============================] - 2s 5ms/step - loss: 2.1846 - accuracy: 0.2008 - val_loss: 2.3855 - val_accuracy: 0.0956\n",
      "Epoch 9/100\n",
      "375/375 [==============================] - 2s 5ms/step - loss: 2.1565 - accuracy: 0.2163 - val_loss: 2.4044 - val_accuracy: 0.0993\n",
      "Epoch 10/100\n",
      "375/375 [==============================] - 2s 5ms/step - loss: 2.1243 - accuracy: 0.2314 - val_loss: 2.4251 - val_accuracy: 0.1001\n",
      "Epoch 11/100\n",
      "375/375 [==============================] - 2s 5ms/step - loss: 2.0921 - accuracy: 0.2511 - val_loss: 2.4588 - val_accuracy: 0.0985\n",
      "Epoch 12/100\n",
      "375/375 [==============================] - 2s 5ms/step - loss: 2.0567 - accuracy: 0.2645 - val_loss: 2.4743 - val_accuracy: 0.0986\n",
      "Epoch 13/100\n",
      "375/375 [==============================] - 2s 5ms/step - loss: 2.0238 - accuracy: 0.2805 - val_loss: 2.4922 - val_accuracy: 0.0977\n",
      "Epoch 14/100\n",
      "375/375 [==============================] - 2s 5ms/step - loss: 1.9906 - accuracy: 0.2919 - val_loss: 2.5324 - val_accuracy: 0.1005\n",
      "Epoch 15/100\n",
      "375/375 [==============================] - 2s 5ms/step - loss: 1.9548 - accuracy: 0.3074 - val_loss: 2.5661 - val_accuracy: 0.0972\n",
      "Epoch 16/100\n",
      "375/375 [==============================] - 2s 5ms/step - loss: 1.9208 - accuracy: 0.3236 - val_loss: 2.6018 - val_accuracy: 0.1013\n",
      "Epoch 17/100\n",
      "375/375 [==============================] - 2s 5ms/step - loss: 1.8862 - accuracy: 0.3378 - val_loss: 2.6262 - val_accuracy: 0.0964\n",
      "Epoch 18/100\n",
      "375/375 [==============================] - 2s 5ms/step - loss: 1.8519 - accuracy: 0.3526 - val_loss: 2.6623 - val_accuracy: 0.0987\n",
      "Epoch 19/100\n",
      "375/375 [==============================] - 2s 5ms/step - loss: 1.8188 - accuracy: 0.3623 - val_loss: 2.6871 - val_accuracy: 0.1007\n",
      "Epoch 20/100\n",
      "375/375 [==============================] - 2s 5ms/step - loss: 1.7854 - accuracy: 0.3780 - val_loss: 2.7282 - val_accuracy: 0.0973\n",
      "Epoch 21/100\n",
      "375/375 [==============================] - 2s 5ms/step - loss: 1.7516 - accuracy: 0.3889 - val_loss: 2.7723 - val_accuracy: 0.1003\n",
      "Epoch 22/100\n",
      "375/375 [==============================] - 2s 5ms/step - loss: 1.7200 - accuracy: 0.4010 - val_loss: 2.7970 - val_accuracy: 0.1016\n",
      "Epoch 23/100\n",
      "375/375 [==============================] - 2s 5ms/step - loss: 1.6896 - accuracy: 0.4136 - val_loss: 2.8665 - val_accuracy: 0.1015\n",
      "Epoch 24/100\n",
      "375/375 [==============================] - 2s 5ms/step - loss: 1.6600 - accuracy: 0.4248 - val_loss: 2.8845 - val_accuracy: 0.1014\n",
      "Epoch 25/100\n",
      "375/375 [==============================] - 2s 5ms/step - loss: 1.6284 - accuracy: 0.4383 - val_loss: 2.9254 - val_accuracy: 0.0997\n",
      "Epoch 26/100\n",
      "375/375 [==============================] - 2s 5ms/step - loss: 1.5979 - accuracy: 0.4498 - val_loss: 2.9781 - val_accuracy: 0.1008\n",
      "Epoch 27/100\n",
      "375/375 [==============================] - 2s 5ms/step - loss: 1.5697 - accuracy: 0.4582 - val_loss: 3.0113 - val_accuracy: 0.1033\n",
      "Epoch 28/100\n",
      "375/375 [==============================] - 2s 5ms/step - loss: 1.5426 - accuracy: 0.4711 - val_loss: 3.0622 - val_accuracy: 0.0993\n",
      "Epoch 29/100\n",
      "375/375 [==============================] - 2s 5ms/step - loss: 1.5133 - accuracy: 0.4801 - val_loss: 3.0993 - val_accuracy: 0.1017\n",
      "Epoch 30/100\n",
      "375/375 [==============================] - 2s 5ms/step - loss: 1.4873 - accuracy: 0.4900 - val_loss: 3.1423 - val_accuracy: 0.0991\n",
      "Epoch 31/100\n",
      "375/375 [==============================] - 2s 5ms/step - loss: 1.4606 - accuracy: 0.5021 - val_loss: 3.1991 - val_accuracy: 0.0999\n",
      "Epoch 32/100\n",
      "375/375 [==============================] - 2s 5ms/step - loss: 1.4363 - accuracy: 0.5084 - val_loss: 3.2544 - val_accuracy: 0.0997\n",
      "Epoch 33/100\n",
      "375/375 [==============================] - 2s 5ms/step - loss: 1.4104 - accuracy: 0.5184 - val_loss: 3.2925 - val_accuracy: 0.1002\n",
      "Epoch 34/100\n",
      "375/375 [==============================] - 2s 5ms/step - loss: 1.3855 - accuracy: 0.5282 - val_loss: 3.3389 - val_accuracy: 0.0981\n",
      "Epoch 35/100\n",
      "375/375 [==============================] - 2s 5ms/step - loss: 1.3628 - accuracy: 0.5330 - val_loss: 3.3656 - val_accuracy: 0.1018\n",
      "Epoch 36/100\n",
      "375/375 [==============================] - 2s 5ms/step - loss: 1.3381 - accuracy: 0.5445 - val_loss: 3.4443 - val_accuracy: 0.1033\n",
      "Epoch 37/100\n",
      "375/375 [==============================] - 2s 5ms/step - loss: 1.3150 - accuracy: 0.5548 - val_loss: 3.4864 - val_accuracy: 0.1018\n",
      "Epoch 38/100\n",
      "375/375 [==============================] - 2s 5ms/step - loss: 1.2929 - accuracy: 0.5603 - val_loss: 3.5346 - val_accuracy: 0.1017\n",
      "Epoch 39/100\n",
      "375/375 [==============================] - 2s 5ms/step - loss: 1.2696 - accuracy: 0.5711 - val_loss: 3.5731 - val_accuracy: 0.1015\n",
      "Epoch 40/100\n",
      "375/375 [==============================] - 2s 5ms/step - loss: 1.2495 - accuracy: 0.5763 - val_loss: 3.6392 - val_accuracy: 0.1012\n",
      "Epoch 41/100\n",
      "375/375 [==============================] - 2s 5ms/step - loss: 1.2251 - accuracy: 0.5851 - val_loss: 3.6831 - val_accuracy: 0.0977\n",
      "Epoch 42/100\n",
      "375/375 [==============================] - 2s 5ms/step - loss: 1.2063 - accuracy: 0.5926 - val_loss: 3.7777 - val_accuracy: 0.1036\n",
      "Epoch 43/100\n",
      "375/375 [==============================] - 2s 5ms/step - loss: 1.1856 - accuracy: 0.5969 - val_loss: 3.7920 - val_accuracy: 0.0996\n",
      "Epoch 44/100\n",
      "375/375 [==============================] - 2s 5ms/step - loss: 1.1668 - accuracy: 0.6080 - val_loss: 3.8850 - val_accuracy: 0.1027\n",
      "Epoch 45/100\n",
      "375/375 [==============================] - 2s 5ms/step - loss: 1.1488 - accuracy: 0.6137 - val_loss: 3.8987 - val_accuracy: 0.1004\n",
      "Epoch 46/100\n",
      "375/375 [==============================] - 2s 5ms/step - loss: 1.1285 - accuracy: 0.6193 - val_loss: 3.9630 - val_accuracy: 0.0993\n",
      "Epoch 47/100\n",
      "375/375 [==============================] - 2s 5ms/step - loss: 1.1100 - accuracy: 0.6252 - val_loss: 3.9868 - val_accuracy: 0.0995\n",
      "Epoch 48/100\n",
      "375/375 [==============================] - 2s 5ms/step - loss: 1.0921 - accuracy: 0.6334 - val_loss: 4.0743 - val_accuracy: 0.0989\n",
      "Epoch 49/100\n",
      "375/375 [==============================] - 2s 5ms/step - loss: 1.0753 - accuracy: 0.6401 - val_loss: 4.1192 - val_accuracy: 0.0993\n",
      "Epoch 50/100\n",
      "375/375 [==============================] - 2s 5ms/step - loss: 1.0571 - accuracy: 0.6428 - val_loss: 4.1965 - val_accuracy: 0.1027\n",
      "Epoch 51/100\n",
      "375/375 [==============================] - 2s 5ms/step - loss: 1.0394 - accuracy: 0.6518 - val_loss: 4.2486 - val_accuracy: 0.1008\n",
      "Epoch 52/100\n",
      "375/375 [==============================] - 2s 5ms/step - loss: 1.0252 - accuracy: 0.6543 - val_loss: 4.3261 - val_accuracy: 0.0984\n",
      "Epoch 53/100\n",
      "375/375 [==============================] - 2s 5ms/step - loss: 1.0075 - accuracy: 0.6632 - val_loss: 4.3538 - val_accuracy: 0.1025\n",
      "Epoch 54/100\n",
      "375/375 [==============================] - 2s 5ms/step - loss: 0.9900 - accuracy: 0.6690 - val_loss: 4.4406 - val_accuracy: 0.1005\n",
      "Epoch 55/100\n",
      "375/375 [==============================] - 2s 5ms/step - loss: 0.9751 - accuracy: 0.6738 - val_loss: 4.4721 - val_accuracy: 0.0996\n",
      "Epoch 56/100\n",
      "375/375 [==============================] - 2s 5ms/step - loss: 0.9597 - accuracy: 0.6806 - val_loss: 4.5447 - val_accuracy: 0.0993\n",
      "Epoch 57/100\n",
      "375/375 [==============================] - 2s 5ms/step - loss: 0.9454 - accuracy: 0.6848 - val_loss: 4.5849 - val_accuracy: 0.0986\n",
      "Epoch 58/100\n",
      "375/375 [==============================] - 2s 5ms/step - loss: 0.9303 - accuracy: 0.6899 - val_loss: 4.6432 - val_accuracy: 0.0974\n",
      "Epoch 59/100\n",
      "375/375 [==============================] - 2s 5ms/step - loss: 0.9168 - accuracy: 0.6944 - val_loss: 4.7145 - val_accuracy: 0.0988\n",
      "Epoch 60/100\n",
      "375/375 [==============================] - 2s 5ms/step - loss: 0.8991 - accuracy: 0.7014 - val_loss: 4.7951 - val_accuracy: 0.0972\n",
      "Epoch 61/100\n",
      "375/375 [==============================] - 2s 5ms/step - loss: 0.8863 - accuracy: 0.7065 - val_loss: 4.8562 - val_accuracy: 0.0987\n",
      "Epoch 62/100\n",
      "375/375 [==============================] - 2s 5ms/step - loss: 0.8718 - accuracy: 0.7100 - val_loss: 4.8874 - val_accuracy: 0.1011\n",
      "Epoch 63/100\n",
      "375/375 [==============================] - 2s 5ms/step - loss: 0.8592 - accuracy: 0.7158 - val_loss: 4.9604 - val_accuracy: 0.1000\n",
      "Epoch 64/100\n",
      "375/375 [==============================] - 2s 5ms/step - loss: 0.8465 - accuracy: 0.7184 - val_loss: 5.0083 - val_accuracy: 0.1009\n",
      "Epoch 65/100\n",
      "375/375 [==============================] - 2s 5ms/step - loss: 0.8327 - accuracy: 0.7233 - val_loss: 5.1019 - val_accuracy: 0.0978\n",
      "Epoch 66/100\n",
      "375/375 [==============================] - 2s 5ms/step - loss: 0.8201 - accuracy: 0.7282 - val_loss: 5.1316 - val_accuracy: 0.0957\n",
      "Epoch 67/100\n",
      "375/375 [==============================] - 2s 5ms/step - loss: 0.8057 - accuracy: 0.7368 - val_loss: 5.2346 - val_accuracy: 0.0978\n",
      "Epoch 68/100\n",
      "375/375 [==============================] - 2s 5ms/step - loss: 0.7953 - accuracy: 0.7380 - val_loss: 5.2672 - val_accuracy: 0.0973\n",
      "Epoch 69/100\n",
      "375/375 [==============================] - 2s 5ms/step - loss: 0.7828 - accuracy: 0.7417 - val_loss: 5.3616 - val_accuracy: 0.0982\n",
      "Epoch 70/100\n",
      "375/375 [==============================] - 2s 5ms/step - loss: 0.7730 - accuracy: 0.7441 - val_loss: 5.4066 - val_accuracy: 0.1000\n",
      "Epoch 71/100\n",
      "375/375 [==============================] - 2s 5ms/step - loss: 0.7573 - accuracy: 0.7525 - val_loss: 5.4850 - val_accuracy: 0.1002\n",
      "Epoch 72/100\n",
      "375/375 [==============================] - 2s 5ms/step - loss: 0.7454 - accuracy: 0.7552 - val_loss: 5.4905 - val_accuracy: 0.0986\n",
      "Epoch 73/100\n",
      "375/375 [==============================] - 2s 5ms/step - loss: 0.7361 - accuracy: 0.7596 - val_loss: 5.5920 - val_accuracy: 0.1042\n",
      "Epoch 74/100\n",
      "375/375 [==============================] - 2s 5ms/step - loss: 0.7247 - accuracy: 0.7620 - val_loss: 5.6496 - val_accuracy: 0.0988\n",
      "Epoch 75/100\n",
      "375/375 [==============================] - 2s 5ms/step - loss: 0.7126 - accuracy: 0.7674 - val_loss: 5.7378 - val_accuracy: 0.0984\n",
      "Epoch 76/100\n",
      "375/375 [==============================] - 2s 5ms/step - loss: 0.7039 - accuracy: 0.7688 - val_loss: 5.8472 - val_accuracy: 0.0993\n",
      "Epoch 77/100\n",
      "375/375 [==============================] - 2s 5ms/step - loss: 0.6909 - accuracy: 0.7743 - val_loss: 5.8309 - val_accuracy: 0.0987\n",
      "Epoch 78/100\n",
      "375/375 [==============================] - 2s 5ms/step - loss: 0.6807 - accuracy: 0.7776 - val_loss: 5.9122 - val_accuracy: 0.0986\n",
      "Epoch 79/100\n",
      "375/375 [==============================] - 2s 5ms/step - loss: 0.6709 - accuracy: 0.7815 - val_loss: 5.9967 - val_accuracy: 0.0991\n",
      "Epoch 80/100\n",
      "375/375 [==============================] - 2s 5ms/step - loss: 0.6594 - accuracy: 0.7849 - val_loss: 6.1263 - val_accuracy: 0.0987\n",
      "Epoch 81/100\n",
      "375/375 [==============================] - 2s 5ms/step - loss: 0.6534 - accuracy: 0.7877 - val_loss: 6.1201 - val_accuracy: 0.1004\n",
      "Epoch 82/100\n",
      "375/375 [==============================] - 2s 5ms/step - loss: 0.6406 - accuracy: 0.7922 - val_loss: 6.1711 - val_accuracy: 0.1003\n",
      "Epoch 83/100\n",
      "375/375 [==============================] - 2s 5ms/step - loss: 0.6328 - accuracy: 0.7952 - val_loss: 6.2891 - val_accuracy: 0.0996\n",
      "Epoch 84/100\n",
      "375/375 [==============================] - 2s 5ms/step - loss: 0.6235 - accuracy: 0.7964 - val_loss: 6.3359 - val_accuracy: 0.0982\n",
      "Epoch 85/100\n",
      "375/375 [==============================] - 2s 5ms/step - loss: 0.6145 - accuracy: 0.8009 - val_loss: 6.4251 - val_accuracy: 0.0977\n",
      "Epoch 86/100\n",
      "375/375 [==============================] - 2s 5ms/step - loss: 0.6039 - accuracy: 0.8040 - val_loss: 6.5155 - val_accuracy: 0.1010\n",
      "Epoch 87/100\n",
      "375/375 [==============================] - 2s 5ms/step - loss: 0.5944 - accuracy: 0.8068 - val_loss: 6.5211 - val_accuracy: 0.1000\n",
      "Epoch 88/100\n",
      "375/375 [==============================] - 2s 5ms/step - loss: 0.5875 - accuracy: 0.8104 - val_loss: 6.5865 - val_accuracy: 0.0988\n",
      "Epoch 89/100\n",
      "375/375 [==============================] - 2s 5ms/step - loss: 0.5793 - accuracy: 0.8123 - val_loss: 6.6999 - val_accuracy: 0.1008\n",
      "Epoch 90/100\n",
      "375/375 [==============================] - 2s 5ms/step - loss: 0.5699 - accuracy: 0.8164 - val_loss: 6.7510 - val_accuracy: 0.1014\n",
      "Epoch 91/100\n",
      "375/375 [==============================] - 2s 5ms/step - loss: 0.5635 - accuracy: 0.8187 - val_loss: 6.7987 - val_accuracy: 0.0998\n",
      "Epoch 92/100\n",
      "375/375 [==============================] - 2s 5ms/step - loss: 0.5533 - accuracy: 0.8215 - val_loss: 6.8900 - val_accuracy: 0.1006\n",
      "Epoch 93/100\n",
      "375/375 [==============================] - 2s 5ms/step - loss: 0.5455 - accuracy: 0.8236 - val_loss: 6.8875 - val_accuracy: 0.0993\n",
      "Epoch 94/100\n",
      "375/375 [==============================] - 2s 5ms/step - loss: 0.5379 - accuracy: 0.8268 - val_loss: 7.0287 - val_accuracy: 0.0971\n",
      "Epoch 95/100\n",
      "375/375 [==============================] - 2s 5ms/step - loss: 0.5305 - accuracy: 0.8295 - val_loss: 7.0692 - val_accuracy: 0.0979\n",
      "Epoch 96/100\n",
      "375/375 [==============================] - 2s 5ms/step - loss: 0.5219 - accuracy: 0.8319 - val_loss: 7.1797 - val_accuracy: 0.0998\n",
      "Epoch 97/100\n",
      "375/375 [==============================] - 2s 5ms/step - loss: 0.5167 - accuracy: 0.8343 - val_loss: 7.2740 - val_accuracy: 0.0985\n",
      "Epoch 98/100\n",
      "375/375 [==============================] - 2s 5ms/step - loss: 0.5079 - accuracy: 0.8384 - val_loss: 7.3089 - val_accuracy: 0.0995\n",
      "Epoch 99/100\n",
      "375/375 [==============================] - 2s 5ms/step - loss: 0.5017 - accuracy: 0.8393 - val_loss: 7.3547 - val_accuracy: 0.0975\n",
      "Epoch 100/100\n",
      "375/375 [==============================] - 2s 5ms/step - loss: 0.4931 - accuracy: 0.8417 - val_loss: 7.4753 - val_accuracy: 0.1000\n"
     ]
    },
    {
     "data": {
      "text/plain": [
       "<keras.callbacks.History at 0x1bd79e8e8f0>"
      ]
     },
     "execution_count": 27,
     "metadata": {},
     "output_type": "execute_result"
    }
   ],
   "source": [
    "model.fit(train_images, random_train_labels,\n",
    "         epochs=100,\n",
    "         batch_size=128,\n",
    "         validation_split=0.2)"
   ]
  },
  {
   "cell_type": "code",
   "execution_count": null,
   "id": "309dd673-f3b6-45ea-9753-c0b605870c64",
   "metadata": {},
   "outputs": [],
   "source": []
  },
  {
   "cell_type": "code",
   "execution_count": null,
   "id": "5b3f48e3-fe8c-458d-a306-7f0c46f20d7a",
   "metadata": {},
   "outputs": [],
   "source": []
  },
  {
   "cell_type": "code",
   "execution_count": null,
   "id": "a993ad91-808f-4668-ba8b-90170d2b6859",
   "metadata": {},
   "outputs": [],
   "source": []
  }
 ],
 "metadata": {
  "kernelspec": {
   "display_name": "Python 3 (ipykernel)",
   "language": "python",
   "name": "python3"
  },
  "language_info": {
   "codemirror_mode": {
    "name": "ipython",
    "version": 3
   },
   "file_extension": ".py",
   "mimetype": "text/x-python",
   "name": "python",
   "nbconvert_exporter": "python",
   "pygments_lexer": "ipython3",
   "version": "3.11.6"
  }
 },
 "nbformat": 4,
 "nbformat_minor": 5
}
