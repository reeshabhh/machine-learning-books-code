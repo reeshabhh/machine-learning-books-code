{
 "cells": [
  {
   "cell_type": "code",
   "execution_count": 27,
   "id": "89f89ba2-35af-47a3-a1eb-2c400e160ee2",
   "metadata": {},
   "outputs": [
    {
     "name": "stdout",
     "output_type": "stream",
     "text": [
      "The tensorboard extension is already loaded. To reload it, use:\n",
      "  %reload_ext tensorboard\n"
     ]
    }
   ],
   "source": [
    "# Load the TensorBoard notebook extension\n",
    "%load_ext tensorboard"
   ]
  },
  {
   "cell_type": "code",
   "execution_count": 28,
   "id": "f8daf30d-02d3-40fa-b9a6-6e69443590a5",
   "metadata": {},
   "outputs": [],
   "source": [
    "import tensorflow as tf\n",
    "import datetime\n",
    "import numpy as np"
   ]
  },
  {
   "cell_type": "code",
   "execution_count": 29,
   "id": "59afe14d-217d-4c9d-a1ea-3e5b3ee9e59c",
   "metadata": {},
   "outputs": [],
   "source": [
    "from tensorflow import keras\n",
    "from keras import layers"
   ]
  },
  {
   "cell_type": "code",
   "execution_count": 30,
   "id": "b198849e-cb77-4437-8730-bbf8800106e9",
   "metadata": {},
   "outputs": [],
   "source": [
    "from tensorflow.keras.datasets import imdb"
   ]
  },
  {
   "cell_type": "code",
   "execution_count": 31,
   "id": "5ac28b18-b9f7-4efd-bdc7-5e7a4b49fffa",
   "metadata": {},
   "outputs": [],
   "source": [
    "((train_data, train_labels), (_)) = imdb.load_data(num_words=1000)"
   ]
  },
  {
   "cell_type": "code",
   "execution_count": 32,
   "id": "f0efebc9-d05b-43e6-a6bf-f1555ccf4597",
   "metadata": {},
   "outputs": [],
   "source": [
    "def vectorize_sequences(sequences, dimension=10000): # hot encoding\n",
    "    results= np.zeros((len(sequences), dimension))\n",
    "    for i, sequence in enumerate(sequences):\n",
    "        results[i, sequence] = 1\n",
    "    return results"
   ]
  },
  {
   "cell_type": "code",
   "execution_count": 33,
   "id": "b2a51512-faa8-4070-b0e0-569e49bc5444",
   "metadata": {},
   "outputs": [],
   "source": [
    "train_data = vectorize_sequences(train_data)"
   ]
  },
  {
   "cell_type": "code",
   "execution_count": 34,
   "id": "67c531a2-3ed2-4550-ae3d-00f4deff01cf",
   "metadata": {},
   "outputs": [],
   "source": [
    "log_dir = \"logs/fit/\" + datetime.datetime.now().strftime(\"%Y%m%d-%H%M%S\")"
   ]
  },
  {
   "cell_type": "code",
   "execution_count": 35,
   "id": "407dedc2-5dff-4bc0-87a7-6741c2aa4067",
   "metadata": {},
   "outputs": [],
   "source": [
    "tensorboard_callback = keras.callbacks.TensorBoard(log_dir=log_dir, histogram_freq=1)"
   ]
  },
  {
   "cell_type": "code",
   "execution_count": 36,
   "id": "c05cc5d1-0217-41a8-94f8-b57030d79d02",
   "metadata": {},
   "outputs": [],
   "source": [
    "model = keras.Sequential([\n",
    "    layers.Dense(16, activation='relu'),\n",
    "    layers.Dropout(0.5),\n",
    "    layers.Dense(16, activation='relu'),\n",
    "    layers.Dropout(0.5),\n",
    "    layers.Dense(1, activation='sigmoid')\n",
    "])"
   ]
  },
  {
   "cell_type": "code",
   "execution_count": 37,
   "id": "02d55418-dfd0-4a50-9425-16229fab3554",
   "metadata": {},
   "outputs": [],
   "source": [
    "model.compile(optimizer='rmsprop',\n",
    "             loss='binary_crossentropy',\n",
    "             metrics=['accuracy'])"
   ]
  },
  {
   "cell_type": "code",
   "execution_count": 38,
   "id": "61b8a77d-cb4d-42c9-bf2e-aec729065c61",
   "metadata": {},
   "outputs": [
    {
     "name": "stdout",
     "output_type": "stream",
     "text": [
      "Epoch 1/20\n",
      "30/30 [==============================] - 8s 175ms/step - loss: 0.6548 - accuracy: 0.5977 - val_loss: 0.5682 - val_accuracy: 0.8088\n",
      "Epoch 2/20\n",
      "30/30 [==============================] - 1s 22ms/step - loss: 0.5721 - accuracy: 0.7246 - val_loss: 0.4818 - val_accuracy: 0.8436\n",
      "Epoch 3/20\n",
      "30/30 [==============================] - 1s 21ms/step - loss: 0.5111 - accuracy: 0.7778 - val_loss: 0.4290 - val_accuracy: 0.8485\n",
      "Epoch 4/20\n",
      "30/30 [==============================] - 1s 22ms/step - loss: 0.4561 - accuracy: 0.8153 - val_loss: 0.3919 - val_accuracy: 0.8497\n",
      "Epoch 5/20\n",
      "30/30 [==============================] - 1s 21ms/step - loss: 0.4223 - accuracy: 0.8358 - val_loss: 0.3779 - val_accuracy: 0.8471\n",
      "Epoch 6/20\n",
      "30/30 [==============================] - 1s 24ms/step - loss: 0.3952 - accuracy: 0.8489 - val_loss: 0.3548 - val_accuracy: 0.8596\n",
      "Epoch 7/20\n",
      "30/30 [==============================] - 1s 23ms/step - loss: 0.3794 - accuracy: 0.8561 - val_loss: 0.3417 - val_accuracy: 0.8594\n",
      "Epoch 8/20\n",
      "30/30 [==============================] - 1s 22ms/step - loss: 0.3672 - accuracy: 0.8647 - val_loss: 0.3411 - val_accuracy: 0.8585\n",
      "Epoch 9/20\n",
      "30/30 [==============================] - 1s 22ms/step - loss: 0.3520 - accuracy: 0.8697 - val_loss: 0.3358 - val_accuracy: 0.8560\n",
      "Epoch 10/20\n",
      "30/30 [==============================] - 1s 21ms/step - loss: 0.3380 - accuracy: 0.8730 - val_loss: 0.3390 - val_accuracy: 0.8612\n",
      "Epoch 11/20\n",
      "30/30 [==============================] - 1s 21ms/step - loss: 0.3328 - accuracy: 0.8749 - val_loss: 0.3346 - val_accuracy: 0.8581\n",
      "Epoch 12/20\n",
      "30/30 [==============================] - 1s 22ms/step - loss: 0.3263 - accuracy: 0.8793 - val_loss: 0.3661 - val_accuracy: 0.8513\n",
      "Epoch 13/20\n",
      "30/30 [==============================] - 1s 23ms/step - loss: 0.3174 - accuracy: 0.8797 - val_loss: 0.3823 - val_accuracy: 0.8487\n",
      "Epoch 14/20\n",
      "30/30 [==============================] - 1s 25ms/step - loss: 0.3149 - accuracy: 0.8807 - val_loss: 0.3521 - val_accuracy: 0.8577\n",
      "Epoch 15/20\n",
      "30/30 [==============================] - 1s 21ms/step - loss: 0.3024 - accuracy: 0.8841 - val_loss: 0.3537 - val_accuracy: 0.8553\n",
      "Epoch 16/20\n",
      "30/30 [==============================] - 1s 22ms/step - loss: 0.2981 - accuracy: 0.8880 - val_loss: 0.3461 - val_accuracy: 0.8532\n",
      "Epoch 17/20\n",
      "30/30 [==============================] - 1s 22ms/step - loss: 0.2927 - accuracy: 0.8889 - val_loss: 0.3500 - val_accuracy: 0.8530\n",
      "Epoch 18/20\n",
      "30/30 [==============================] - 1s 22ms/step - loss: 0.2885 - accuracy: 0.8943 - val_loss: 0.3486 - val_accuracy: 0.8520\n",
      "Epoch 19/20\n",
      "30/30 [==============================] - 1s 22ms/step - loss: 0.2871 - accuracy: 0.8939 - val_loss: 0.3686 - val_accuracy: 0.8537\n",
      "Epoch 20/20\n",
      "30/30 [==============================] - 1s 20ms/step - loss: 0.2809 - accuracy: 0.8954 - val_loss: 0.3557 - val_accuracy: 0.8517\n"
     ]
    }
   ],
   "source": [
    "history_dropout=model.fit(\n",
    "    train_data, train_labels,\n",
    "    epochs=20, batch_size=512, validation_split=0.4, callbacks=[tensorboard_callback]\n",
    ")"
   ]
  },
  {
   "cell_type": "code",
   "execution_count": 42,
   "id": "40bd0bd5-cf1b-45aa-92e8-b91cab9f1cc3",
   "metadata": {},
   "outputs": [
    {
     "data": {
      "image/png": "[encoded data removed]",
      "text/plain": [
       "<Figure size 640x480 with 1 Axes>"
      ]
     },
     "metadata": {},
     "output_type": "display_data"
    }
   ],
   "source": [
    "dropout_val_acc=history_dropout.history['val_loss']\n",
    "epoch=range(1, 21)\n",
    "import matplotlib.pyplot as plt\n",
    "plt.plot(dropout_val_acc, epoch, 'b-', label='Dropout validation accuracy')\n",
    "plt.xlabel('Epoch')\n",
    "plt.ylabel('Validation loss')\n",
    "plt.legend()\n",
    "plt.show()"
   ]
  },
  {
   "cell_type": "code",
   "execution_count": null,
   "id": "ea2d288c-963f-4b9a-8433-3ca15ea5b8b7",
   "metadata": {},
   "outputs": [],
   "source": []
  },
  {
   "cell_type": "code",
   "execution_count": null,
   "id": "3f62e2b2-9d65-4d73-9dc1-35f1a846e104",
   "metadata": {},
   "outputs": [],
   "source": []
  },
  {
   "cell_type": "code",
   "execution_count": null,
   "id": "9ebc4985-574e-4067-983e-8f97c18fea85",
   "metadata": {},
   "outputs": [],
   "source": []
  },
  {
   "cell_type": "code",
   "execution_count": 40,
   "id": "9b63066d-5cb8-4717-974c-cb5fe2c82133",
   "metadata": {},
   "outputs": [
    {
     "name": "stdout",
     "output_type": "stream",
     "text": [
      "^C\n"
     ]
    }
   ],
   "source": [
    "!tensorboard --logdir logs/fit"
   ]
  },
  {
   "cell_type": "code",
   "execution_count": 39,
   "id": "0ce1c5c4-2b47-421f-a4a6-3f06e9d260a9",
   "metadata": {},
   "outputs": [
    {
     "data": {
      "text/html": [
       "\n",
       "      <iframe id=\"tensorboard-frame-80e8382aaadf9faf\" width=\"100%\" height=\"800\" frameborder=\"0\">\n",
       "      </iframe>\n",
       "      <script>\n",
       "        (function() {\n",
       "          const frame = document.getElementById(\"tensorboard-frame-80e8382aaadf9faf\");\n",
       "          const url = new URL(\"/\", window.location);\n",
       "          const port = 6006;\n",
       "          if (port) {\n",
       "            url.port = port;\n",
       "          }\n",
       "          frame.src = url;\n",
       "        })();\n",
       "      </script>\n",
       "    "
      ],
      "text/plain": [
       "<IPython.core.display.HTML object>"
      ]
     },
     "metadata": {},
     "output_type": "display_data"
    }
   ],
   "source": [
    "%tensorboard --logdir logs/fit"
   ]
  },
  {
   "cell_type": "code",
   "execution_count": null,
   "id": "b2dbc29e-8367-420b-981f-361037ee922e",
   "metadata": {},
   "outputs": [],
   "source": []
  }
 ],
 "metadata": {
  "kernelspec": {
   "display_name": "Python 3 (ipykernel)",
   "language": "python",
   "name": "python3"
  },
  "language_info": {
   "codemirror_mode": {
    "name": "ipython",
    "version": 3
   },
   "file_extension": ".py",
   "mimetype": "text/x-python",
   "name": "python",
   "nbconvert_exporter": "python",
   "pygments_lexer": "ipython3",
   "version": "3.10.13"
  }
 },
 "nbformat": 4,
 "nbformat_minor": 5
}
