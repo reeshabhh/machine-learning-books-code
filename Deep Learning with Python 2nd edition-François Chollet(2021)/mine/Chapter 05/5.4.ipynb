{
 "cells": [
  {
   "cell_type": "code",
   "execution_count": 1,
   "id": "e198e8fa-0fdf-4185-b572-61a1efa65360",
   "metadata": {},
   "outputs": [
    {
     "name": "stdout",
     "output_type": "stream",
     "text": [
      "WARNING:tensorflow:From C:\\Users\\reeshabh.choudhary\\AppData\\Local\\Programs\\Python\\Python311\\Lib\\site-packages\\keras\\src\\losses.py:2976: The name tf.losses.sparse_softmax_cross_entropy is deprecated. Please use tf.compat.v1.losses.sparse_softmax_cross_entropy instead.\n",
      "\n"
     ]
    }
   ],
   "source": [
    "from tensorflow import keras\n",
    "from keras import layers\n",
    "import numpy as np\n",
    "from tensorflow.keras.datasets import imdb"
   ]
  },
  {
   "cell_type": "code",
   "execution_count": 2,
   "id": "88a2436c-b3b7-4f2d-9a74-ea1397583b3b",
   "metadata": {},
   "outputs": [],
   "source": [
    "(X_train, y_train), (X_test, y_test) = imdb.load_data()"
   ]
  },
  {
   "cell_type": "code",
   "execution_count": 3,
   "id": "6fc543e3-3431-4779-a251-bc89c1eadd69",
   "metadata": {},
   "outputs": [],
   "source": [
    "((train_data, train_labels), (_)) = imdb.load_data(num_words=1000)"
   ]
  },
  {
   "cell_type": "code",
   "execution_count": 4,
   "id": "e135405f-4c78-416e-8384-729db5d4601e",
   "metadata": {},
   "outputs": [
    {
     "name": "stdout",
     "output_type": "stream",
     "text": [
      "[1, 14, 22, 16, 43, 530, 973, 2, 2, 65, 458, 2, 66, 2, 4, 173, 36, 256, 5, 25, 100, 43, 838, 112, 50, 670, 2, 9, 35, 480, 284, 5, 150, 4, 172, 112, 167, 2, 336, 385, 39, 4, 172, 2, 2, 17, 546, 38, 13, 447, 4, 192, 50, 16, 6, 147, 2, 19, 14, 22, 4, 2, 2, 469, 4, 22, 71, 87, 12, 16, 43, 530, 38, 76, 15, 13, 2, 4, 22, 17, 515, 17, 12, 16, 626, 18, 2, 5, 62, 386, 12, 8, 316, 8, 106, 5, 4, 2, 2, 16, 480, 66, 2, 33, 4, 130, 12, 16, 38, 619, 5, 25, 124, 51, 36, 135, 48, 25, 2, 33, 6, 22, 12, 215, 28, 77, 52, 5, 14, 407, 16, 82, 2, 8, 4, 107, 117, 2, 15, 256, 4, 2, 7, 2, 5, 723, 36, 71, 43, 530, 476, 26, 400, 317, 46, 7, 4, 2, 2, 13, 104, 88, 4, 381, 15, 297, 98, 32, 2, 56, 26, 141, 6, 194, 2, 18, 4, 226, 22, 21, 134, 476, 26, 480, 5, 144, 30, 2, 18, 51, 36, 28, 224, 92, 25, 104, 4, 226, 65, 16, 38, 2, 88, 12, 16, 283, 5, 16, 2, 113, 103, 32, 15, 16, 2, 19, 178, 32]\n"
     ]
    }
   ],
   "source": [
    "print(train_data[0])"
   ]
  },
  {
   "cell_type": "code",
   "execution_count": 5,
   "id": "cc901983-aebf-4e2d-a6c5-5eca613ffc1b",
   "metadata": {},
   "outputs": [
    {
     "name": "stdout",
     "output_type": "stream",
     "text": [
      "[1, 194, 2, 194, 2, 78, 228, 5, 6, 2, 2, 2, 134, 26, 4, 715, 8, 118, 2, 14, 394, 20, 13, 119, 954, 189, 102, 5, 207, 110, 2, 21, 14, 69, 188, 8, 30, 23, 7, 4, 249, 126, 93, 4, 114, 9, 2, 2, 5, 647, 4, 116, 9, 35, 2, 4, 229, 9, 340, 2, 4, 118, 9, 4, 130, 2, 19, 4, 2, 5, 89, 29, 952, 46, 37, 4, 455, 9, 45, 43, 38, 2, 2, 398, 4, 2, 26, 2, 5, 163, 11, 2, 2, 4, 2, 9, 194, 775, 7, 2, 2, 349, 2, 148, 605, 2, 2, 15, 123, 125, 68, 2, 2, 15, 349, 165, 2, 98, 5, 4, 228, 9, 43, 2, 2, 15, 299, 120, 5, 120, 174, 11, 220, 175, 136, 50, 9, 2, 228, 2, 5, 2, 656, 245, 2, 5, 4, 2, 131, 152, 491, 18, 2, 32, 2, 2, 14, 9, 6, 371, 78, 22, 625, 64, 2, 9, 8, 168, 145, 23, 4, 2, 15, 16, 4, 2, 5, 28, 6, 52, 154, 462, 33, 89, 78, 285, 16, 145, 95]\n"
     ]
    }
   ],
   "source": [
    "print(train_data[1])"
   ]
  },
  {
   "cell_type": "code",
   "execution_count": 6,
   "id": "2ac14149-570e-459a-b744-ca1cf3c6a6d5",
   "metadata": {},
   "outputs": [
    {
     "name": "stdout",
     "output_type": "stream",
     "text": [
      "218\n"
     ]
    }
   ],
   "source": [
    "print(len(train_data[0]))"
   ]
  },
  {
   "cell_type": "code",
   "execution_count": 7,
   "id": "29c67352-10a2-483a-ba08-fae3b15539cb",
   "metadata": {},
   "outputs": [
    {
     "name": "stdout",
     "output_type": "stream",
     "text": [
      "189\n"
     ]
    }
   ],
   "source": [
    "print(len(train_data[1]))"
   ]
  },
  {
   "cell_type": "code",
   "execution_count": 8,
   "id": "936ffb03-e1d9-4fab-adf8-ef932488bec7",
   "metadata": {},
   "outputs": [
    {
     "name": "stdout",
     "output_type": "stream",
     "text": [
      "141\n"
     ]
    }
   ],
   "source": [
    "print(len(train_data[2]))"
   ]
  },
  {
   "cell_type": "code",
   "execution_count": 9,
   "id": "585876c9-3939-44b7-9edc-d1cb9f8e5686",
   "metadata": {},
   "outputs": [
    {
     "data": {
      "text/plain": [
       "tuple"
      ]
     },
     "execution_count": 9,
     "metadata": {},
     "output_type": "execute_result"
    }
   ],
   "source": [
    "type(_)"
   ]
  },
  {
   "cell_type": "code",
   "execution_count": 10,
   "id": "6288fb0d-bf79-414a-9280-678bad3bfff4",
   "metadata": {},
   "outputs": [
    {
     "data": {
      "text/plain": [
       "numpy.ndarray"
      ]
     },
     "execution_count": 10,
     "metadata": {},
     "output_type": "execute_result"
    }
   ],
   "source": [
    "type(train_data)"
   ]
  },
  {
   "cell_type": "code",
   "execution_count": 11,
   "id": "d67e9d2d-6028-4093-8948-4adfa2235442",
   "metadata": {},
   "outputs": [
    {
     "data": {
      "text/plain": [
       "numpy.ndarray"
      ]
     },
     "execution_count": 11,
     "metadata": {},
     "output_type": "execute_result"
    }
   ],
   "source": [
    "type(X_train)"
   ]
  },
  {
   "cell_type": "code",
   "execution_count": 12,
   "id": "3bacc426-7c4a-4ff2-bbcf-8a64bdef501b",
   "metadata": {},
   "outputs": [
    {
     "data": {
      "text/plain": [
       "numpy.ndarray"
      ]
     },
     "execution_count": 12,
     "metadata": {},
     "output_type": "execute_result"
    }
   ],
   "source": [
    "type(X_test)"
   ]
  },
  {
   "cell_type": "code",
   "execution_count": 13,
   "id": "4c9a3921-350e-4462-8114-2626b0a7c576",
   "metadata": {},
   "outputs": [],
   "source": [
    "(train_data, train_labels), _ = imdb.load_data(num_words=10000)"
   ]
  },
  {
   "cell_type": "code",
   "execution_count": 14,
   "id": "b2d8f954-d16d-46a9-b1f1-23c19666c382",
   "metadata": {},
   "outputs": [],
   "source": [
    "sequences = train_data"
   ]
  },
  {
   "cell_type": "code",
   "execution_count": 15,
   "id": "7f2b1911-254e-4acd-8d2c-c968c7ca2e18",
   "metadata": {},
   "outputs": [
    {
     "name": "stdout",
     "output_type": "stream",
     "text": [
      "[1, 14, 22, 16, 43, 530, 973, 1622, 1385, 65, 458, 4468, 66, 3941, 4, 173, 36, 256, 5, 25, 100, 43, 838, 112, 50, 670, 2, 9, 35, 480, 284, 5, 150, 4, 172, 112, 167, 2, 336, 385, 39, 4, 172, 4536, 1111, 17, 546, 38, 13, 447, 4, 192, 50, 16, 6, 147, 2025, 19, 14, 22, 4, 1920, 4613, 469, 4, 22, 71, 87, 12, 16, 43, 530, 38, 76, 15, 13, 1247, 4, 22, 17, 515, 17, 12, 16, 626, 18, 2, 5, 62, 386, 12, 8, 316, 8, 106, 5, 4, 2223, 5244, 16, 480, 66, 3785, 33, 4, 130, 12, 16, 38, 619, 5, 25, 124, 51, 36, 135, 48, 25, 1415, 33, 6, 22, 12, 215, 28, 77, 52, 5, 14, 407, 16, 82, 2, 8, 4, 107, 117, 5952, 15, 256, 4, 2, 7, 3766, 5, 723, 36, 71, 43, 530, 476, 26, 400, 317, 46, 7, 4, 2, 1029, 13, 104, 88, 4, 381, 15, 297, 98, 32, 2071, 56, 26, 141, 6, 194, 7486, 18, 4, 226, 22, 21, 134, 476, 26, 480, 5, 144, 30, 5535, 18, 51, 36, 28, 224, 92, 25, 104, 4, 226, 65, 16, 38, 1334, 88, 12, 16, 283, 5, 16, 4472, 113, 103, 32, 15, 16, 5345, 19, 178, 32]\n"
     ]
    }
   ],
   "source": [
    "print(sequences[0])"
   ]
  },
  {
   "cell_type": "code",
   "execution_count": 16,
   "id": "14990c19-a9b2-4686-9636-60262aaf17a0",
   "metadata": {},
   "outputs": [
    {
     "name": "stdout",
     "output_type": "stream",
     "text": [
      "0 [1, 14, 22, 16, 43, 530, 973, 1622, 1385, 65, 458, 4468, 66, 3941, 4, 173, 36, 256, 5, 25, 100, 43, 838, 112, 50, 670, 2, 9, 35, 480, 284, 5, 150, 4, 172, 112, 167, 2, 336, 385, 39, 4, 172, 4536, 1111, 17, 546, 38, 13, 447, 4, 192, 50, 16, 6, 147, 2025, 19, 14, 22, 4, 1920, 4613, 469, 4, 22, 71, 87, 12, 16, 43, 530, 38, 76, 15, 13, 1247, 4, 22, 17, 515, 17, 12, 16, 626, 18, 2, 5, 62, 386, 12, 8, 316, 8, 106, 5, 4, 2223, 5244, 16, 480, 66, 3785, 33, 4, 130, 12, 16, 38, 619, 5, 25, 124, 51, 36, 135, 48, 25, 1415, 33, 6, 22, 12, 215, 28, 77, 52, 5, 14, 407, 16, 82, 2, 8, 4, 107, 117, 5952, 15, 256, 4, 2, 7, 3766, 5, 723, 36, 71, 43, 530, 476, 26, 400, 317, 46, 7, 4, 2, 1029, 13, 104, 88, 4, 381, 15, 297, 98, 32, 2071, 56, 26, 141, 6, 194, 7486, 18, 4, 226, 22, 21, 134, 476, 26, 480, 5, 144, 30, 5535, 18, 51, 36, 28, 224, 92, 25, 104, 4, 226, 65, 16, 38, 1334, 88, 12, 16, 283, 5, 16, 4472, 113, 103, 32, 15, 16, 5345, 19, 178, 32]\n",
      "1 [1, 194, 1153, 194, 8255, 78, 228, 5, 6, 1463, 4369, 5012, 134, 26, 4, 715, 8, 118, 1634, 14, 394, 20, 13, 119, 954, 189, 102, 5, 207, 110, 3103, 21, 14, 69, 188, 8, 30, 23, 7, 4, 249, 126, 93, 4, 114, 9, 2300, 1523, 5, 647, 4, 116, 9, 35, 8163, 4, 229, 9, 340, 1322, 4, 118, 9, 4, 130, 4901, 19, 4, 1002, 5, 89, 29, 952, 46, 37, 4, 455, 9, 45, 43, 38, 1543, 1905, 398, 4, 1649, 26, 6853, 5, 163, 11, 3215, 2, 4, 1153, 9, 194, 775, 7, 8255, 2, 349, 2637, 148, 605, 2, 8003, 15, 123, 125, 68, 2, 6853, 15, 349, 165, 4362, 98, 5, 4, 228, 9, 43, 2, 1157, 15, 299, 120, 5, 120, 174, 11, 220, 175, 136, 50, 9, 4373, 228, 8255, 5, 2, 656, 245, 2350, 5, 4, 9837, 131, 152, 491, 18, 2, 32, 7464, 1212, 14, 9, 6, 371, 78, 22, 625, 64, 1382, 9, 8, 168, 145, 23, 4, 1690, 15, 16, 4, 1355, 5, 28, 6, 52, 154, 462, 33, 89, 78, 285, 16, 145, 95]\n",
      "2 [1, 14, 47, 8, 30, 31, 7, 4, 249, 108, 7, 4, 5974, 54, 61, 369, 13, 71, 149, 14, 22, 112, 4, 2401, 311, 12, 16, 3711, 33, 75, 43, 1829, 296, 4, 86, 320, 35, 534, 19, 263, 4821, 1301, 4, 1873, 33, 89, 78, 12, 66, 16, 4, 360, 7, 4, 58, 316, 334, 11, 4, 1716, 43, 645, 662, 8, 257, 85, 1200, 42, 1228, 2578, 83, 68, 3912, 15, 36, 165, 1539, 278, 36, 69, 2, 780, 8, 106, 14, 6905, 1338, 18, 6, 22, 12, 215, 28, 610, 40, 6, 87, 326, 23, 2300, 21, 23, 22, 12, 272, 40, 57, 31, 11, 4, 22, 47, 6, 2307, 51, 9, 170, 23, 595, 116, 595, 1352, 13, 191, 79, 638, 89, 2, 14, 9, 8, 106, 607, 624, 35, 534, 6, 227, 7, 129, 113]\n",
      "3 [1, 4, 2, 2, 33, 2804, 4, 2040, 432, 111, 153, 103, 4, 1494, 13, 70, 131, 67, 11, 61, 2, 744, 35, 3715, 761, 61, 5766, 452, 9214, 4, 985, 7, 2, 59, 166, 4, 105, 216, 1239, 41, 1797, 9, 15, 7, 35, 744, 2413, 31, 8, 4, 687, 23, 4, 2, 7339, 6, 3693, 42, 38, 39, 121, 59, 456, 10, 10, 7, 265, 12, 575, 111, 153, 159, 59, 16, 1447, 21, 25, 586, 482, 39, 4, 96, 59, 716, 12, 4, 172, 65, 9, 579, 11, 6004, 4, 1615, 5, 2, 7, 5168, 17, 13, 7064, 12, 19, 6, 464, 31, 314, 11, 2, 6, 719, 605, 11, 8, 202, 27, 310, 4, 3772, 3501, 8, 2722, 58, 10, 10, 537, 2116, 180, 40, 14, 413, 173, 7, 263, 112, 37, 152, 377, 4, 537, 263, 846, 579, 178, 54, 75, 71, 476, 36, 413, 263, 2504, 182, 5, 17, 75, 2306, 922, 36, 279, 131, 2895, 17, 2867, 42, 17, 35, 921, 2, 192, 5, 1219, 3890, 19, 2, 217, 4122, 1710, 537, 2, 1236, 5, 736, 10, 10, 61, 403, 9, 2, 40, 61, 4494, 5, 27, 4494, 159, 90, 263, 2311, 4319, 309, 8, 178, 5, 82, 4319, 4, 65, 15, 9225, 145, 143, 5122, 12, 7039, 537, 746, 537, 537, 15, 7979, 4, 2, 594, 7, 5168, 94, 9096, 3987, 2, 11, 2, 4, 538, 7, 1795, 246, 2, 9, 2, 11, 635, 14, 9, 51, 408, 12, 94, 318, 1382, 12, 47, 6, 2683, 936, 5, 6307, 2, 19, 49, 7, 4, 1885, 2, 1118, 25, 80, 126, 842, 10, 10, 2, 2, 4726, 27, 4494, 11, 1550, 3633, 159, 27, 341, 29, 2733, 19, 4185, 173, 7, 90, 2, 8, 30, 11, 4, 1784, 86, 1117, 8, 3261, 46, 11, 2, 21, 29, 9, 2841, 23, 4, 1010, 2, 793, 6, 2, 1386, 1830, 10, 10, 246, 50, 9, 6, 2750, 1944, 746, 90, 29, 2, 8, 124, 4, 882, 4, 882, 496, 27, 2, 2213, 537, 121, 127, 1219, 130, 5, 29, 494, 8, 124, 4, 882, 496, 4, 341, 7, 27, 846, 10, 10, 29, 9, 1906, 8, 97, 6, 236, 2, 1311, 8, 4, 2, 7, 31, 7, 2, 91, 2, 3987, 70, 4, 882, 30, 579, 42, 9, 12, 32, 11, 537, 10, 10, 11, 14, 65, 44, 537, 75, 2, 1775, 3353, 2, 1846, 4, 2, 7, 154, 5, 4, 518, 53, 2, 2, 7, 3211, 882, 11, 399, 38, 75, 257, 3807, 19, 2, 17, 29, 456, 4, 65, 7, 27, 205, 113, 10, 10, 2, 4, 2, 2, 9, 242, 4, 91, 1202, 2, 5, 2070, 307, 22, 7, 5168, 126, 93, 40, 2, 13, 188, 1076, 3222, 19, 4, 2, 7, 2348, 537, 23, 53, 537, 21, 82, 40, 2, 13, 2, 14, 280, 13, 219, 4, 2, 431, 758, 859, 4, 953, 1052, 2, 7, 5991, 5, 94, 40, 25, 238, 60, 2, 4, 2, 804, 2, 7, 4, 9941, 132, 8, 67, 6, 22, 15, 9, 283, 8, 5168, 14, 31, 9, 242, 955, 48, 25, 279, 2, 23, 12, 1685, 195, 25, 238, 60, 796, 2, 4, 671, 7, 2804, 5, 4, 559, 154, 888, 7, 726, 50, 26, 49, 7008, 15, 566, 30, 579, 21, 64, 2574]\n",
      "4 [1, 249, 1323, 7, 61, 113, 10, 10, 13, 1637, 14, 20, 56, 33, 2401, 18, 457, 88, 13, 2626, 1400, 45, 3171, 13, 70, 79, 49, 706, 919, 13, 16, 355, 340, 355, 1696, 96, 143, 4, 22, 32, 289, 7, 61, 369, 71, 2359, 5, 13, 16, 131, 2073, 249, 114, 249, 229, 249, 20, 13, 28, 126, 110, 13, 473, 8, 569, 61, 419, 56, 429, 6, 1513, 18, 35, 534, 95, 474, 570, 5, 25, 124, 138, 88, 12, 421, 1543, 52, 725, 6397, 61, 419, 11, 13, 1571, 15, 1543, 20, 11, 4, 2, 5, 296, 12, 3524, 5, 15, 421, 128, 74, 233, 334, 207, 126, 224, 12, 562, 298, 2167, 1272, 7, 2601, 5, 516, 988, 43, 8, 79, 120, 15, 595, 13, 784, 25, 3171, 18, 165, 170, 143, 19, 14, 5, 7224, 6, 226, 251, 7, 61, 113]\n"
     ]
    }
   ],
   "source": [
    "for i, sequence in enumerate(sequences[:5]):\n",
    "    print(i, sequence)"
   ]
  },
  {
   "cell_type": "code",
   "execution_count": 17,
   "id": "3bb3f7c0-0ccd-4d3c-857b-92181a2fcde5",
   "metadata": {},
   "outputs": [
    {
     "data": {
      "text/plain": [
       "1"
      ]
     },
     "execution_count": 17,
     "metadata": {},
     "output_type": "execute_result"
    }
   ],
   "source": [
    "sequences[0][0]"
   ]
  },
  {
   "cell_type": "code",
   "execution_count": 18,
   "id": "adcd2cdd-b244-4fe5-985a-94b235bf26c1",
   "metadata": {},
   "outputs": [
    {
     "data": {
      "text/plain": [
       "14"
      ]
     },
     "execution_count": 18,
     "metadata": {},
     "output_type": "execute_result"
    }
   ],
   "source": [
    "sequences[0][1]"
   ]
  },
  {
   "cell_type": "code",
   "execution_count": 19,
   "id": "3d062987-24db-401c-a2c8-77099dd455fb",
   "metadata": {},
   "outputs": [],
   "source": [
    "r = np.zeros((2, 4))"
   ]
  },
  {
   "cell_type": "code",
   "execution_count": 20,
   "id": "4e2f0300-8ed6-4e86-b098-803804e4a078",
   "metadata": {},
   "outputs": [
    {
     "data": {
      "text/plain": [
       "array([[0., 0., 0., 0.],\n",
       "       [0., 0., 0., 0.]])"
      ]
     },
     "execution_count": 20,
     "metadata": {},
     "output_type": "execute_result"
    }
   ],
   "source": [
    "r"
   ]
  },
  {
   "cell_type": "code",
   "execution_count": 21,
   "id": "726538b1-0a10-4b78-8efa-ef53359b1aef",
   "metadata": {},
   "outputs": [],
   "source": [
    "r[0, [1, 3]] = 1"
   ]
  },
  {
   "cell_type": "code",
   "execution_count": 22,
   "id": "7e3c7ab3-d945-4a67-9c48-11651a176403",
   "metadata": {},
   "outputs": [
    {
     "data": {
      "text/plain": [
       "array([[0., 1., 0., 1.],\n",
       "       [0., 0., 0., 0.]])"
      ]
     },
     "execution_count": 22,
     "metadata": {},
     "output_type": "execute_result"
    }
   ],
   "source": [
    "r"
   ]
  },
  {
   "cell_type": "code",
   "execution_count": 23,
   "id": "a30d2cee-fc42-4088-b45f-7481d1050024",
   "metadata": {},
   "outputs": [],
   "source": [
    "def vectorize_sequences(sequences, dimension=10000): # hot encoding\n",
    "    results= np.zeros((len(sequences), dimension))\n",
    "    for i, sequence in enumerate(sequences):\n",
    "        results[i, sequence] = 1\n",
    "    return results"
   ]
  },
  {
   "cell_type": "code",
   "execution_count": 24,
   "id": "6c4f1eb1-7a27-4078-845d-8836df5d29d1",
   "metadata": {},
   "outputs": [
    {
     "data": {
      "text/plain": [
       "25000"
      ]
     },
     "execution_count": 24,
     "metadata": {},
     "output_type": "execute_result"
    }
   ],
   "source": [
    "len(train_data)"
   ]
  },
  {
   "cell_type": "code",
   "execution_count": 25,
   "id": "df4ef5ce-9d05-4c6f-9dc8-420dd0a854e3",
   "metadata": {},
   "outputs": [
    {
     "data": {
      "text/plain": [
       "25000"
      ]
     },
     "execution_count": 25,
     "metadata": {},
     "output_type": "execute_result"
    }
   ],
   "source": [
    "len(train_labels)"
   ]
  },
  {
   "cell_type": "code",
   "execution_count": 26,
   "id": "f8e60cef-438b-46a9-b88e-a90319313b36",
   "metadata": {},
   "outputs": [
    {
     "data": {
      "text/plain": [
       "25000"
      ]
     },
     "execution_count": 26,
     "metadata": {},
     "output_type": "execute_result"
    }
   ],
   "source": [
    "len(_[0])"
   ]
  },
  {
   "cell_type": "code",
   "execution_count": 27,
   "id": "f4c0e41e-5ae7-4cd4-ba66-3ff36cd6fc5e",
   "metadata": {},
   "outputs": [
    {
     "data": {
      "text/plain": [
       "25000"
      ]
     },
     "execution_count": 27,
     "metadata": {},
     "output_type": "execute_result"
    }
   ],
   "source": [
    "len(_[1])"
   ]
  },
  {
   "cell_type": "code",
   "execution_count": 28,
   "id": "fb0f96b4-34d5-4c5b-91fe-a8a8941affe7",
   "metadata": {},
   "outputs": [
    {
     "data": {
      "text/plain": [
       "array([list([1, 14, 22, 16, 43, 530, 973, 1622, 1385, 65, 458, 4468, 66, 3941, 4, 173, 36, 256, 5, 25, 100, 43, 838, 112, 50, 670, 2, 9, 35, 480, 284, 5, 150, 4, 172, 112, 167, 2, 336, 385, 39, 4, 172, 4536, 1111, 17, 546, 38, 13, 447, 4, 192, 50, 16, 6, 147, 2025, 19, 14, 22, 4, 1920, 4613, 469, 4, 22, 71, 87, 12, 16, 43, 530, 38, 76, 15, 13, 1247, 4, 22, 17, 515, 17, 12, 16, 626, 18, 2, 5, 62, 386, 12, 8, 316, 8, 106, 5, 4, 2223, 5244, 16, 480, 66, 3785, 33, 4, 130, 12, 16, 38, 619, 5, 25, 124, 51, 36, 135, 48, 25, 1415, 33, 6, 22, 12, 215, 28, 77, 52, 5, 14, 407, 16, 82, 2, 8, 4, 107, 117, 5952, 15, 256, 4, 2, 7, 3766, 5, 723, 36, 71, 43, 530, 476, 26, 400, 317, 46, 7, 4, 2, 1029, 13, 104, 88, 4, 381, 15, 297, 98, 32, 2071, 56, 26, 141, 6, 194, 7486, 18, 4, 226, 22, 21, 134, 476, 26, 480, 5, 144, 30, 5535, 18, 51, 36, 28, 224, 92, 25, 104, 4, 226, 65, 16, 38, 1334, 88, 12, 16, 283, 5, 16, 4472, 113, 103, 32, 15, 16, 5345, 19, 178, 32]),\n",
       "       list([1, 194, 1153, 194, 8255, 78, 228, 5, 6, 1463, 4369, 5012, 134, 26, 4, 715, 8, 118, 1634, 14, 394, 20, 13, 119, 954, 189, 102, 5, 207, 110, 3103, 21, 14, 69, 188, 8, 30, 23, 7, 4, 249, 126, 93, 4, 114, 9, 2300, 1523, 5, 647, 4, 116, 9, 35, 8163, 4, 229, 9, 340, 1322, 4, 118, 9, 4, 130, 4901, 19, 4, 1002, 5, 89, 29, 952, 46, 37, 4, 455, 9, 45, 43, 38, 1543, 1905, 398, 4, 1649, 26, 6853, 5, 163, 11, 3215, 2, 4, 1153, 9, 194, 775, 7, 8255, 2, 349, 2637, 148, 605, 2, 8003, 15, 123, 125, 68, 2, 6853, 15, 349, 165, 4362, 98, 5, 4, 228, 9, 43, 2, 1157, 15, 299, 120, 5, 120, 174, 11, 220, 175, 136, 50, 9, 4373, 228, 8255, 5, 2, 656, 245, 2350, 5, 4, 9837, 131, 152, 491, 18, 2, 32, 7464, 1212, 14, 9, 6, 371, 78, 22, 625, 64, 1382, 9, 8, 168, 145, 23, 4, 1690, 15, 16, 4, 1355, 5, 28, 6, 52, 154, 462, 33, 89, 78, 285, 16, 145, 95]),\n",
       "       list([1, 14, 47, 8, 30, 31, 7, 4, 249, 108, 7, 4, 5974, 54, 61, 369, 13, 71, 149, 14, 22, 112, 4, 2401, 311, 12, 16, 3711, 33, 75, 43, 1829, 296, 4, 86, 320, 35, 534, 19, 263, 4821, 1301, 4, 1873, 33, 89, 78, 12, 66, 16, 4, 360, 7, 4, 58, 316, 334, 11, 4, 1716, 43, 645, 662, 8, 257, 85, 1200, 42, 1228, 2578, 83, 68, 3912, 15, 36, 165, 1539, 278, 36, 69, 2, 780, 8, 106, 14, 6905, 1338, 18, 6, 22, 12, 215, 28, 610, 40, 6, 87, 326, 23, 2300, 21, 23, 22, 12, 272, 40, 57, 31, 11, 4, 22, 47, 6, 2307, 51, 9, 170, 23, 595, 116, 595, 1352, 13, 191, 79, 638, 89, 2, 14, 9, 8, 106, 607, 624, 35, 534, 6, 227, 7, 129, 113]),\n",
       "       ...,\n",
       "       list([1, 11, 6, 230, 245, 6401, 9, 6, 1225, 446, 2, 45, 2174, 84, 8322, 4007, 21, 4, 912, 84, 2, 325, 725, 134, 2, 1715, 84, 5, 36, 28, 57, 1099, 21, 8, 140, 8, 703, 5, 2, 84, 56, 18, 1644, 14, 9, 31, 7, 4, 9406, 1209, 2295, 2, 1008, 18, 6, 20, 207, 110, 563, 12, 8, 2901, 2, 8, 97, 6, 20, 53, 4767, 74, 4, 460, 364, 1273, 29, 270, 11, 960, 108, 45, 40, 29, 2961, 395, 11, 6, 4065, 500, 7, 2, 89, 364, 70, 29, 140, 4, 64, 4780, 11, 4, 2678, 26, 178, 4, 529, 443, 2, 5, 27, 710, 117, 2, 8123, 165, 47, 84, 37, 131, 818, 14, 595, 10, 10, 61, 1242, 1209, 10, 10, 288, 2260, 1702, 34, 2901, 2, 4, 65, 496, 4, 231, 7, 790, 5, 6, 320, 234, 2766, 234, 1119, 1574, 7, 496, 4, 139, 929, 2901, 2, 7750, 5, 4241, 18, 4, 8497, 2, 250, 11, 1818, 7561, 4, 4217, 5408, 747, 1115, 372, 1890, 1006, 541, 9303, 7, 4, 59, 2, 4, 3586, 2]),\n",
       "       list([1, 1446, 7079, 69, 72, 3305, 13, 610, 930, 8, 12, 582, 23, 5, 16, 484, 685, 54, 349, 11, 4120, 2959, 45, 58, 1466, 13, 197, 12, 16, 43, 23, 2, 5, 62, 30, 145, 402, 11, 4131, 51, 575, 32, 61, 369, 71, 66, 770, 12, 1054, 75, 100, 2198, 8, 4, 105, 37, 69, 147, 712, 75, 3543, 44, 257, 390, 5, 69, 263, 514, 105, 50, 286, 1814, 23, 4, 123, 13, 161, 40, 5, 421, 4, 116, 16, 897, 13, 2, 40, 319, 5872, 112, 6700, 11, 4803, 121, 25, 70, 3468, 4, 719, 3798, 13, 18, 31, 62, 40, 8, 7200, 4, 2, 7, 14, 123, 5, 942, 25, 8, 721, 12, 145, 5, 202, 12, 160, 580, 202, 12, 6, 52, 58, 2, 92, 401, 728, 12, 39, 14, 251, 8, 15, 251, 5, 2, 12, 38, 84, 80, 124, 12, 9, 23]),\n",
       "       list([1, 17, 6, 194, 337, 7, 4, 204, 22, 45, 254, 8, 106, 14, 123, 4, 2, 270, 2, 5, 2, 2, 732, 2098, 101, 405, 39, 14, 1034, 4, 1310, 9, 115, 50, 305, 12, 47, 4, 168, 5, 235, 7, 38, 111, 699, 102, 7, 4, 4039, 9245, 9, 24, 6, 78, 1099, 17, 2345, 2, 21, 27, 9685, 6139, 5, 2, 1603, 92, 1183, 4, 1310, 7, 4, 204, 42, 97, 90, 35, 221, 109, 29, 127, 27, 118, 8, 97, 12, 157, 21, 6789, 2, 9, 6, 66, 78, 1099, 4, 631, 1191, 5, 2642, 272, 191, 1070, 6, 7585, 8, 2197, 2, 2, 544, 5, 383, 1271, 848, 1468, 2, 497, 2, 8, 1597, 8778, 2, 21, 60, 27, 239, 9, 43, 8368, 209, 405, 10, 10, 12, 764, 40, 4, 248, 20, 12, 16, 5, 174, 1791, 72, 7, 51, 6, 1739, 22, 4, 204, 131, 9])],\n",
       "      dtype=object)"
      ]
     },
     "execution_count": 28,
     "metadata": {},
     "output_type": "execute_result"
    }
   ],
   "source": [
    "train_data"
   ]
  },
  {
   "cell_type": "code",
   "execution_count": 29,
   "id": "f492b5fb-cef3-4fed-9c6c-07d5972660a8",
   "metadata": {},
   "outputs": [],
   "source": [
    "train_data = vectorize_sequences(train_data)"
   ]
  },
  {
   "cell_type": "code",
   "execution_count": 30,
   "id": "364002bc-8eb0-4e02-999c-0b71eca87bfc",
   "metadata": {},
   "outputs": [
    {
     "data": {
      "text/plain": [
       "array([[0., 1., 1., ..., 0., 0., 0.],\n",
       "       [0., 1., 1., ..., 0., 0., 0.],\n",
       "       [0., 1., 1., ..., 0., 0., 0.],\n",
       "       ...,\n",
       "       [0., 1., 1., ..., 0., 0., 0.],\n",
       "       [0., 1., 1., ..., 0., 0., 0.],\n",
       "       [0., 1., 1., ..., 0., 0., 0.]])"
      ]
     },
     "execution_count": 30,
     "metadata": {},
     "output_type": "execute_result"
    }
   ],
   "source": [
    "train_data"
   ]
  },
  {
   "cell_type": "code",
   "execution_count": 31,
   "id": "152983bf-c4e4-4b17-a413-3dca0ba89b66",
   "metadata": {},
   "outputs": [
    {
     "data": {
      "text/plain": [
       "(25000, 10000)"
      ]
     },
     "execution_count": 31,
     "metadata": {},
     "output_type": "execute_result"
    }
   ],
   "source": [
    "train_data.shape"
   ]
  },
  {
   "cell_type": "code",
   "execution_count": 32,
   "id": "8fc1f643-c458-4b17-8ef9-f6fa1e3433a4",
   "metadata": {},
   "outputs": [
    {
     "data": {
      "text/plain": [
       "numpy.ndarray"
      ]
     },
     "execution_count": 32,
     "metadata": {},
     "output_type": "execute_result"
    }
   ],
   "source": [
    "type(train_data)"
   ]
  },
  {
   "cell_type": "code",
   "execution_count": 33,
   "id": "213311b3-0ffe-4a8c-af2d-20c039dc99a8",
   "metadata": {},
   "outputs": [
    {
     "data": {
      "text/plain": [
       "numpy.ndarray"
      ]
     },
     "execution_count": 33,
     "metadata": {},
     "output_type": "execute_result"
    }
   ],
   "source": [
    "type(train_data[0])"
   ]
  },
  {
   "cell_type": "code",
   "execution_count": 34,
   "id": "a2b783a3-d6af-45e3-b355-2dba83a64b8e",
   "metadata": {},
   "outputs": [
    {
     "data": {
      "text/plain": [
       "numpy.ndarray"
      ]
     },
     "execution_count": 34,
     "metadata": {},
     "output_type": "execute_result"
    }
   ],
   "source": [
    "type(train_labels)"
   ]
  },
  {
   "cell_type": "code",
   "execution_count": 35,
   "id": "fc451d6c-1fda-4f23-b237-752ba9c80e23",
   "metadata": {},
   "outputs": [
    {
     "data": {
      "text/plain": [
       "numpy.int64"
      ]
     },
     "execution_count": 35,
     "metadata": {},
     "output_type": "execute_result"
    }
   ],
   "source": [
    "type(train_labels[0])"
   ]
  },
  {
   "cell_type": "code",
   "execution_count": 36,
   "id": "35a94e0d-6dcc-4bce-9bab-973b1cd3086f",
   "metadata": {},
   "outputs": [
    {
     "data": {
      "text/plain": [
       "0.0"
      ]
     },
     "execution_count": 36,
     "metadata": {},
     "output_type": "execute_result"
    }
   ],
   "source": [
    "train_data[0, 0]"
   ]
  },
  {
   "cell_type": "code",
   "execution_count": 37,
   "id": "634a980c-20e8-4091-8b31-9a32764894ac",
   "metadata": {},
   "outputs": [
    {
     "data": {
      "text/plain": [
       "1.0"
      ]
     },
     "execution_count": 37,
     "metadata": {},
     "output_type": "execute_result"
    }
   ],
   "source": [
    "train_data[0, 1]"
   ]
  },
  {
   "cell_type": "code",
   "execution_count": 38,
   "id": "315b6f9b-e57a-4270-8889-ee6207c22490",
   "metadata": {},
   "outputs": [
    {
     "data": {
      "text/plain": [
       "1.0"
      ]
     },
     "execution_count": 38,
     "metadata": {},
     "output_type": "execute_result"
    }
   ],
   "source": [
    "train_data[0, 2]"
   ]
  },
  {
   "cell_type": "code",
   "execution_count": 39,
   "id": "33cdc2fe-3d01-475c-b224-de78ba32e7e9",
   "metadata": {},
   "outputs": [
    {
     "data": {
      "text/plain": [
       "120.0"
      ]
     },
     "execution_count": 39,
     "metadata": {},
     "output_type": "execute_result"
    }
   ],
   "source": [
    "train_data[0, :].sum()"
   ]
  },
  {
   "cell_type": "code",
   "execution_count": 40,
   "id": "6319d06d-4ba6-45fe-9237-873721272ffa",
   "metadata": {},
   "outputs": [
    {
     "data": {
      "text/plain": [
       "10000"
      ]
     },
     "execution_count": 40,
     "metadata": {},
     "output_type": "execute_result"
    }
   ],
   "source": [
    "len(train_data[0, :])"
   ]
  },
  {
   "cell_type": "code",
   "execution_count": 41,
   "id": "dca7d8d0-0a92-426c-8c37-ff4eec6def3d",
   "metadata": {},
   "outputs": [
    {
     "data": {
      "text/plain": [
       "121.0"
      ]
     },
     "execution_count": 41,
     "metadata": {},
     "output_type": "execute_result"
    }
   ],
   "source": [
    "train_data[1, :].sum()"
   ]
  },
  {
   "cell_type": "code",
   "execution_count": 42,
   "id": "7ce06348-e7e5-44c5-b3bb-d1431dfb9257",
   "metadata": {},
   "outputs": [
    {
     "data": {
      "text/plain": [
       "97.0"
      ]
     },
     "execution_count": 42,
     "metadata": {},
     "output_type": "execute_result"
    }
   ],
   "source": [
    "train_data[2, :].sum()"
   ]
  },
  {
   "cell_type": "code",
   "execution_count": 43,
   "id": "1b384219-2dce-4b78-9453-5336dda56161",
   "metadata": {},
   "outputs": [],
   "source": [
    "(train_data, train_labels), _ = imdb.load_data(num_words=10000)\n",
    "def vectorize_sequences(sequences, dimension=10000): # hot encoding\n",
    "    results= np.zeros((len(sequences), dimension))\n",
    "    for i, sequence in enumerate(sequences):\n",
    "        results[i, sequence] = 1\n",
    "    return results\n",
    "train_data = vectorize_sequences(train_data)"
   ]
  },
  {
   "cell_type": "code",
   "execution_count": 44,
   "id": "9850f8b4-1254-4033-b25b-6b8072a79126",
   "metadata": {},
   "outputs": [
    {
     "name": "stdout",
     "output_type": "stream",
     "text": [
      "WARNING:tensorflow:From C:\\Users\\reeshabh.choudhary\\AppData\\Local\\Programs\\Python\\Python311\\Lib\\site-packages\\keras\\src\\backend.py:873: The name tf.get_default_graph is deprecated. Please use tf.compat.v1.get_default_graph instead.\n",
      "\n"
     ]
    }
   ],
   "source": [
    "model=keras.Sequential([\n",
    "    layers.Dense(16, activation='relu'),\n",
    "    layers.Dense(16, activation='relu'),\n",
    "    layers.Dense(1, activation='sigmoid'),\n",
    "])"
   ]
  },
  {
   "cell_type": "code",
   "execution_count": 45,
   "id": "e9d1d257-25cf-407b-a5f4-3f2454ce762c",
   "metadata": {},
   "outputs": [
    {
     "name": "stdout",
     "output_type": "stream",
     "text": [
      "WARNING:tensorflow:From C:\\Users\\reeshabh.choudhary\\AppData\\Local\\Programs\\Python\\Python311\\Lib\\site-packages\\keras\\src\\optimizers\\__init__.py:309: The name tf.train.Optimizer is deprecated. Please use tf.compat.v1.train.Optimizer instead.\n",
      "\n"
     ]
    }
   ],
   "source": [
    "model.compile(optimizer='rmsprop',\n",
    "             loss='binary_crossentropy',\n",
    "             metrics=['accuracy'])"
   ]
  },
  {
   "cell_type": "code",
   "execution_count": 46,
   "id": "c3057ec2-4351-4a0a-9029-368aadb3fdc4",
   "metadata": {},
   "outputs": [
    {
     "name": "stdout",
     "output_type": "stream",
     "text": [
      "Epoch 1/20\n",
      "WARNING:tensorflow:From C:\\Users\\reeshabh.choudhary\\AppData\\Local\\Programs\\Python\\Python311\\Lib\\site-packages\\keras\\src\\utils\\tf_utils.py:492: The name tf.ragged.RaggedTensorValue is deprecated. Please use tf.compat.v1.ragged.RaggedTensorValue instead.\n",
      "\n",
      "WARNING:tensorflow:From C:\\Users\\reeshabh.choudhary\\AppData\\Local\\Programs\\Python\\Python311\\Lib\\site-packages\\keras\\src\\engine\\base_layer_utils.py:384: The name tf.executing_eagerly_outside_functions is deprecated. Please use tf.compat.v1.executing_eagerly_outside_functions instead.\n",
      "\n",
      "30/30 [==============================] - 3s 51ms/step - loss: 0.5232 - accuracy: 0.7777 - val_loss: 0.4058 - val_accuracy: 0.8513\n",
      "Epoch 2/20\n",
      "30/30 [==============================] - 0s 13ms/step - loss: 0.3185 - accuracy: 0.8947 - val_loss: 0.3229 - val_accuracy: 0.8765\n",
      "Epoch 3/20\n",
      "30/30 [==============================] - 0s 12ms/step - loss: 0.2410 - accuracy: 0.9191 - val_loss: 0.2845 - val_accuracy: 0.8868\n",
      "Epoch 4/20\n",
      "30/30 [==============================] - 0s 12ms/step - loss: 0.1947 - accuracy: 0.9348 - val_loss: 0.3174 - val_accuracy: 0.8712\n",
      "Epoch 5/20\n",
      "30/30 [==============================] - 0s 12ms/step - loss: 0.1601 - accuracy: 0.9485 - val_loss: 0.2890 - val_accuracy: 0.8830\n",
      "Epoch 6/20\n",
      "30/30 [==============================] - 0s 12ms/step - loss: 0.1357 - accuracy: 0.9571 - val_loss: 0.2860 - val_accuracy: 0.8872\n",
      "Epoch 7/20\n",
      "30/30 [==============================] - 0s 12ms/step - loss: 0.1177 - accuracy: 0.9629 - val_loss: 0.2982 - val_accuracy: 0.8866\n",
      "Epoch 8/20\n",
      "30/30 [==============================] - 0s 11ms/step - loss: 0.1016 - accuracy: 0.9713 - val_loss: 0.3414 - val_accuracy: 0.8772\n",
      "Epoch 9/20\n",
      "30/30 [==============================] - 0s 11ms/step - loss: 0.0878 - accuracy: 0.9742 - val_loss: 0.3561 - val_accuracy: 0.8743\n",
      "Epoch 10/20\n",
      "30/30 [==============================] - 0s 12ms/step - loss: 0.0771 - accuracy: 0.9793 - val_loss: 0.3810 - val_accuracy: 0.8735\n",
      "Epoch 11/20\n",
      "30/30 [==============================] - 0s 12ms/step - loss: 0.0650 - accuracy: 0.9835 - val_loss: 0.4082 - val_accuracy: 0.8693\n",
      "Epoch 12/20\n",
      "30/30 [==============================] - 0s 11ms/step - loss: 0.0565 - accuracy: 0.9860 - val_loss: 0.3967 - val_accuracy: 0.8742\n",
      "Epoch 13/20\n",
      "30/30 [==============================] - 0s 11ms/step - loss: 0.0502 - accuracy: 0.9881 - val_loss: 0.4065 - val_accuracy: 0.8771\n",
      "Epoch 14/20\n",
      "30/30 [==============================] - 0s 11ms/step - loss: 0.0418 - accuracy: 0.9906 - val_loss: 0.4294 - val_accuracy: 0.8771\n",
      "Epoch 15/20\n",
      "30/30 [==============================] - 0s 11ms/step - loss: 0.0351 - accuracy: 0.9925 - val_loss: 0.4513 - val_accuracy: 0.8738\n",
      "Epoch 16/20\n",
      "30/30 [==============================] - 0s 11ms/step - loss: 0.0299 - accuracy: 0.9941 - val_loss: 0.4764 - val_accuracy: 0.8740\n",
      "Epoch 17/20\n",
      "30/30 [==============================] - 0s 12ms/step - loss: 0.0254 - accuracy: 0.9951 - val_loss: 0.5013 - val_accuracy: 0.8716\n",
      "Epoch 18/20\n",
      "30/30 [==============================] - 0s 11ms/step - loss: 0.0230 - accuracy: 0.9953 - val_loss: 0.5211 - val_accuracy: 0.8705\n",
      "Epoch 19/20\n",
      "30/30 [==============================] - 0s 11ms/step - loss: 0.0166 - accuracy: 0.9980 - val_loss: 0.5695 - val_accuracy: 0.8658\n",
      "Epoch 20/20\n",
      "30/30 [==============================] - 0s 10ms/step - loss: 0.0190 - accuracy: 0.9956 - val_loss: 0.5650 - val_accuracy: 0.8704\n"
     ]
    }
   ],
   "source": [
    "history_original=model.fit(train_data, train_labels,\n",
    "                          epochs=20, batch_size=512, validation_split=0.4)"
   ]
  },
  {
   "cell_type": "code",
   "execution_count": 47,
   "id": "a1ec016c-7f21-40bf-add0-d061dcdcd55d",
   "metadata": {},
   "outputs": [],
   "source": [
    "smaller_model=keras.Sequential([\n",
    "    layers.Dense(4, activation='relu'),\n",
    "    layers.Dense(4, activation='relu'),\n",
    "    layers.Dense(1, activation='sigmoid'),\n",
    "])"
   ]
  },
  {
   "cell_type": "code",
   "execution_count": 48,
   "id": "09ad492d-0438-4a65-b1b9-050e7659e640",
   "metadata": {},
   "outputs": [],
   "source": [
    "smaller_model.compile(optimizer='rmsprop',\n",
    "             loss='binary_crossentropy',\n",
    "             metrics=['accuracy'])"
   ]
  },
  {
   "cell_type": "code",
   "execution_count": 49,
   "id": "2d3e429e-2714-4dca-bdd8-5a171216b5a0",
   "metadata": {},
   "outputs": [
    {
     "name": "stdout",
     "output_type": "stream",
     "text": [
      "Epoch 1/20\n",
      "30/30 [==============================] - 1s 33ms/step - loss: 0.6487 - accuracy: 0.5611 - val_loss: 0.6097 - val_accuracy: 0.6377\n",
      "Epoch 2/20\n",
      "30/30 [==============================] - 0s 11ms/step - loss: 0.5769 - accuracy: 0.6997 - val_loss: 0.5633 - val_accuracy: 0.7725\n",
      "Epoch 3/20\n",
      "30/30 [==============================] - 0s 11ms/step - loss: 0.5269 - accuracy: 0.8001 - val_loss: 0.5297 - val_accuracy: 0.8410\n",
      "Epoch 4/20\n",
      "30/30 [==============================] - 0s 12ms/step - loss: 0.4875 - accuracy: 0.8511 - val_loss: 0.5016 - val_accuracy: 0.8293\n",
      "Epoch 5/20\n",
      "30/30 [==============================] - 0s 11ms/step - loss: 0.4548 - accuracy: 0.8774 - val_loss: 0.4828 - val_accuracy: 0.8697\n",
      "Epoch 6/20\n",
      "30/30 [==============================] - 0s 11ms/step - loss: 0.4285 - accuracy: 0.8997 - val_loss: 0.4709 - val_accuracy: 0.8500\n",
      "Epoch 7/20\n",
      "30/30 [==============================] - 0s 11ms/step - loss: 0.4056 - accuracy: 0.9135 - val_loss: 0.4648 - val_accuracy: 0.8510\n",
      "Epoch 8/20\n",
      "30/30 [==============================] - 0s 11ms/step - loss: 0.3859 - accuracy: 0.9269 - val_loss: 0.4596 - val_accuracy: 0.8564\n",
      "Epoch 9/20\n",
      "30/30 [==============================] - 0s 10ms/step - loss: 0.3680 - accuracy: 0.9370 - val_loss: 0.4480 - val_accuracy: 0.8710\n",
      "Epoch 10/20\n",
      "30/30 [==============================] - 0s 10ms/step - loss: 0.3520 - accuracy: 0.9464 - val_loss: 0.4482 - val_accuracy: 0.8700\n",
      "Epoch 11/20\n",
      "30/30 [==============================] - 0s 11ms/step - loss: 0.3365 - accuracy: 0.9539 - val_loss: 0.4734 - val_accuracy: 0.8530\n",
      "Epoch 12/20\n",
      "30/30 [==============================] - 0s 11ms/step - loss: 0.3233 - accuracy: 0.9600 - val_loss: 0.4399 - val_accuracy: 0.8789\n",
      "Epoch 13/20\n",
      "30/30 [==============================] - 0s 11ms/step - loss: 0.3099 - accuracy: 0.9667 - val_loss: 0.4553 - val_accuracy: 0.8709\n",
      "Epoch 14/20\n",
      "30/30 [==============================] - 0s 11ms/step - loss: 0.2987 - accuracy: 0.9709 - val_loss: 0.4517 - val_accuracy: 0.8737\n",
      "Epoch 15/20\n",
      "30/30 [==============================] - 0s 11ms/step - loss: 0.2875 - accuracy: 0.9745 - val_loss: 0.4344 - val_accuracy: 0.8796\n",
      "Epoch 16/20\n",
      "30/30 [==============================] - 0s 12ms/step - loss: 0.2777 - accuracy: 0.9783 - val_loss: 0.4810 - val_accuracy: 0.8671\n",
      "Epoch 17/20\n",
      "30/30 [==============================] - 0s 10ms/step - loss: 0.2677 - accuracy: 0.9801 - val_loss: 0.5063 - val_accuracy: 0.8614\n",
      "Epoch 18/20\n",
      "30/30 [==============================] - 0s 10ms/step - loss: 0.2590 - accuracy: 0.9821 - val_loss: 0.4526 - val_accuracy: 0.8765\n",
      "Epoch 19/20\n",
      "30/30 [==============================] - 0s 11ms/step - loss: 0.2505 - accuracy: 0.9845 - val_loss: 0.4969 - val_accuracy: 0.8670\n",
      "Epoch 20/20\n",
      "30/30 [==============================] - 0s 10ms/step - loss: 0.2426 - accuracy: 0.9853 - val_loss: 0.5480 - val_accuracy: 0.8595\n"
     ]
    }
   ],
   "source": [
    "history_smaller_model = smaller_model.fit(\n",
    "                train_data, train_labels,\n",
    "                epochs=20, batch_size=512, validation_split=0.4,\n",
    ")"
   ]
  },
  {
   "cell_type": "code",
   "execution_count": null,
   "id": "df2d71a8-cedc-4b0f-a973-e693282b42d3",
   "metadata": {},
   "outputs": [],
   "source": []
  },
  {
   "cell_type": "code",
   "execution_count": 50,
   "id": "65d8a858-2289-4fe8-bc50-1a8b7f70b018",
   "metadata": {},
   "outputs": [],
   "source": [
    "model = keras.Sequential([\n",
    "    layers.Dense(16, activation='relu'),\n",
    "    layers.Dropout(0.5),\n",
    "    layers.Dense(16, activation='relu'),\n",
    "    layers.Dropout(0.5),\n",
    "    layers.Dense(1, activation='sigmoid')\n",
    "])"
   ]
  },
  {
   "cell_type": "code",
   "execution_count": 51,
   "id": "a1402300-d6f4-434d-88be-bfa64aadb432",
   "metadata": {},
   "outputs": [],
   "source": [
    "model.compile(optimizer='rmsprop',\n",
    "             loss='binary_crossentropy',\n",
    "             metrics=['accuracy'])"
   ]
  },
  {
   "cell_type": "code",
   "execution_count": 52,
   "id": "33948490-0814-4073-a88b-911dfec710bd",
   "metadata": {},
   "outputs": [],
   "source": [
    "import os"
   ]
  },
  {
   "cell_type": "code",
   "execution_count": 53,
   "id": "58c86a0e-b648-4a03-9fda-6b565eda9762",
   "metadata": {},
   "outputs": [],
   "source": [
    "os.makedirs('logs/fit', exist_ok=True)"
   ]
  },
  {
   "cell_type": "code",
   "execution_count": 54,
   "id": "21a25482-f034-44bb-99d8-9e21ac1f61f5",
   "metadata": {},
   "outputs": [],
   "source": [
    "import datetime\n",
    "log_dir = \"logs/fit/\" + datetime.datetime.now().strftime(\"%Y%m%d-%H%M%S\")"
   ]
  },
  {
   "cell_type": "code",
   "execution_count": 55,
   "id": "5050f710-9477-4b8d-ae0f-17c5e75bd036",
   "metadata": {},
   "outputs": [],
   "source": [
    "tensorboard_callback = keras.callbacks.TensorBoard(log_dir=log_dir, histogram_freq=1)"
   ]
  },
  {
   "cell_type": "code",
   "execution_count": 56,
   "id": "88418b31-4560-492c-b1ee-75cef85050b4",
   "metadata": {},
   "outputs": [
    {
     "name": "stdout",
     "output_type": "stream",
     "text": [
      "Epoch 1/20\n",
      "118/118 [==============================] - 2s 10ms/step - loss: 0.5934 - accuracy: 0.6763 - val_loss: 0.4274 - val_accuracy: 0.8616\n",
      "Epoch 2/20\n",
      "118/118 [==============================] - 1s 5ms/step - loss: 0.4061 - accuracy: 0.8345 - val_loss: 0.3005 - val_accuracy: 0.8858\n",
      "Epoch 3/20\n",
      "118/118 [==============================] - 0s 4ms/step - loss: 0.3149 - accuracy: 0.8803 - val_loss: 0.2824 - val_accuracy: 0.8932\n",
      "Epoch 4/20\n",
      "118/118 [==============================] - 0s 4ms/step - loss: 0.2692 - accuracy: 0.9042 - val_loss: 0.2901 - val_accuracy: 0.8869\n",
      "Epoch 5/20\n",
      "118/118 [==============================] - 1s 4ms/step - loss: 0.2312 - accuracy: 0.9183 - val_loss: 0.3143 - val_accuracy: 0.8936\n",
      "Epoch 6/20\n",
      "118/118 [==============================] - 1s 5ms/step - loss: 0.2147 - accuracy: 0.9251 - val_loss: 0.3332 - val_accuracy: 0.8916\n",
      "Epoch 7/20\n",
      "118/118 [==============================] - 1s 5ms/step - loss: 0.1943 - accuracy: 0.9344 - val_loss: 0.3585 - val_accuracy: 0.8824\n",
      "Epoch 8/20\n",
      "118/118 [==============================] - 1s 4ms/step - loss: 0.1819 - accuracy: 0.9389 - val_loss: 0.3738 - val_accuracy: 0.8865\n",
      "Epoch 9/20\n",
      "118/118 [==============================] - 1s 5ms/step - loss: 0.1748 - accuracy: 0.9388 - val_loss: 0.3936 - val_accuracy: 0.8873\n",
      "Epoch 10/20\n",
      "118/118 [==============================] - 1s 5ms/step - loss: 0.1647 - accuracy: 0.9417 - val_loss: 0.4381 - val_accuracy: 0.8860\n",
      "Epoch 11/20\n",
      "118/118 [==============================] - 1s 5ms/step - loss: 0.1604 - accuracy: 0.9450 - val_loss: 0.4499 - val_accuracy: 0.8862\n",
      "Epoch 12/20\n",
      "118/118 [==============================] - 1s 5ms/step - loss: 0.1572 - accuracy: 0.9477 - val_loss: 0.4615 - val_accuracy: 0.8802\n",
      "Epoch 13/20\n",
      "118/118 [==============================] - 1s 4ms/step - loss: 0.1455 - accuracy: 0.9491 - val_loss: 0.4698 - val_accuracy: 0.8845\n",
      "Epoch 14/20\n",
      "118/118 [==============================] - 0s 4ms/step - loss: 0.1396 - accuracy: 0.9495 - val_loss: 0.5075 - val_accuracy: 0.8728\n",
      "Epoch 15/20\n",
      "118/118 [==============================] - 1s 4ms/step - loss: 0.1356 - accuracy: 0.9511 - val_loss: 0.5402 - val_accuracy: 0.8773\n",
      "Epoch 16/20\n",
      "118/118 [==============================] - 1s 4ms/step - loss: 0.1387 - accuracy: 0.9522 - val_loss: 0.5268 - val_accuracy: 0.8798\n",
      "Epoch 17/20\n",
      "118/118 [==============================] - 1s 5ms/step - loss: 0.1294 - accuracy: 0.9513 - val_loss: 0.5667 - val_accuracy: 0.8757\n",
      "Epoch 18/20\n",
      "118/118 [==============================] - 1s 4ms/step - loss: 0.1406 - accuracy: 0.9541 - val_loss: 0.5779 - val_accuracy: 0.8777\n",
      "Epoch 19/20\n",
      "118/118 [==============================] - 0s 4ms/step - loss: 0.1433 - accuracy: 0.9535 - val_loss: 0.5477 - val_accuracy: 0.8668\n",
      "Epoch 20/20\n",
      "118/118 [==============================] - 1s 5ms/step - loss: 0.1354 - accuracy: 0.9537 - val_loss: 0.5639 - val_accuracy: 0.8688\n"
     ]
    }
   ],
   "source": [
    "history_dropout=model.fit(\n",
    "    train_data, train_labels,\n",
    "    epochs=20, batch_size=128, validation_split=0.4#, callbacks=[tensorboard_callback]\n",
    ")"
   ]
  },
  {
   "cell_type": "code",
   "execution_count": null,
   "id": "fb29dbdd-dc0d-49cd-97da-3400e6364812",
   "metadata": {},
   "outputs": [],
   "source": []
  },
  {
   "cell_type": "code",
   "execution_count": 57,
   "id": "25b544e2-db06-4896-9e0d-e4a14acac39a",
   "metadata": {},
   "outputs": [
    {
     "data": {
      "image/png": "[encoded data removed]",
      "text/plain": [
       "<Figure size 640x480 with 1 Axes>"
      ]
     },
     "metadata": {},
     "output_type": "display_data"
    }
   ],
   "source": [
    "import matplotlib.pyplot as plt\n",
    "plt.clf()\n",
    "dropout_val_acc=history_dropout.history['val_loss']\n",
    "epoch=range(1, 21)\n",
    "import matplotlib.pyplot as plt\n",
    "plt.plot(dropout_val_acc, epoch, 'b-', label='Dropout validation accuracy')\n",
    "plt.xlabel('Epoch')\n",
    "plt.ylabel('Validation loss')\n",
    "plt.legend()\n",
    "plt.show()"
   ]
  },
  {
   "cell_type": "code",
   "execution_count": null,
   "id": "0e02fdc5-ee3f-423d-a511-e1920887d085",
   "metadata": {},
   "outputs": [],
   "source": []
  },
  {
   "cell_type": "code",
   "execution_count": 58,
   "id": "e155eb5a-19e9-4bf5-9015-604ade8da62c",
   "metadata": {},
   "outputs": [],
   "source": [
    "import matplotlib.pyplot as plt"
   ]
  },
  {
   "cell_type": "code",
   "execution_count": 59,
   "id": "ea6415e4-415c-4a98-8e48-b482533d8d8b",
   "metadata": {},
   "outputs": [
    {
     "data": {
      "image/png": "[encoded data removed]",
      "text/plain": [
       "<Figure size 640x480 with 1 Axes>"
      ]
     },
     "metadata": {},
     "output_type": "display_data"
    }
   ],
   "source": [
    "y_original=history_original.history['val_loss']\n",
    "x_original=range(1, 21)\n",
    "y_smaller=history_smaller_model.history['val_loss']\n",
    "x_smaller=range(1, 21)\n",
    "plt.plot(x_original, y_original, 'b--', label='Validation loss of powerful model')\n",
    "plt.plot(x_smaller, y_smaller, 'b-', label='Validation loss of less powerful model')\n",
    "plt.xlabel('Epoch')\n",
    "plt.ylabel('Validation loss')\n",
    "plt.title('')\n",
    "plt.legend()\n",
    "plt.show()"
   ]
  },
  {
   "cell_type": "code",
   "execution_count": 60,
   "id": "60da5a88-9378-417f-b9c8-7bb20aed2b43",
   "metadata": {},
   "outputs": [],
   "source": [
    "extra_powerful_model = keras.Sequential([\n",
    "    layers.Dense(512, activation='relu'),\n",
    "    layers.Dense(512, activation='relu'),\n",
    "    layers.Dense(1, activation='sigmoid'),\n",
    "])"
   ]
  },
  {
   "cell_type": "code",
   "execution_count": 61,
   "id": "c2f5e1f6-7889-4855-8e1d-163019688e46",
   "metadata": {},
   "outputs": [],
   "source": [
    "extra_powerful_model.compile(optimizer='rmsprop',\n",
    "                            loss='binary_crossentropy',\n",
    "                            metrics=['accuracy'])"
   ]
  },
  {
   "cell_type": "code",
   "execution_count": 62,
   "id": "d542c0fd-d633-455a-8ba5-af8300fc4fc9",
   "metadata": {},
   "outputs": [
    {
     "name": "stdout",
     "output_type": "stream",
     "text": [
      "Epoch 1/20\n",
      "118/118 [==============================] - 7s 52ms/step - loss: 0.3991 - accuracy: 0.8197 - val_loss: 0.3048 - val_accuracy: 0.8724\n",
      "Epoch 2/20\n",
      "118/118 [==============================] - 5s 46ms/step - loss: 0.1902 - accuracy: 0.9263 - val_loss: 0.3186 - val_accuracy: 0.8743\n",
      "Epoch 3/20\n",
      "118/118 [==============================] - 5s 46ms/step - loss: 0.0910 - accuracy: 0.9677 - val_loss: 0.4188 - val_accuracy: 0.8784\n",
      "Epoch 4/20\n",
      "118/118 [==============================] - 5s 44ms/step - loss: 0.0306 - accuracy: 0.9904 - val_loss: 0.5303 - val_accuracy: 0.8741\n",
      "Epoch 5/20\n",
      "118/118 [==============================] - 5s 44ms/step - loss: 0.0181 - accuracy: 0.9947 - val_loss: 0.5865 - val_accuracy: 0.8785\n",
      "Epoch 6/20\n",
      "118/118 [==============================] - 6s 47ms/step - loss: 0.0141 - accuracy: 0.9965 - val_loss: 0.5960 - val_accuracy: 0.8783\n",
      "Epoch 7/20\n",
      "118/118 [==============================] - 5s 44ms/step - loss: 3.6330e-04 - accuracy: 1.0000 - val_loss: 0.7889 - val_accuracy: 0.8803\n",
      "Epoch 8/20\n",
      "118/118 [==============================] - 5s 44ms/step - loss: 8.4162e-05 - accuracy: 1.0000 - val_loss: 0.8532 - val_accuracy: 0.8808\n",
      "Epoch 9/20\n",
      "118/118 [==============================] - 5s 43ms/step - loss: 4.8941e-05 - accuracy: 1.0000 - val_loss: 0.8895 - val_accuracy: 0.8802\n",
      "Epoch 10/20\n",
      "118/118 [==============================] - 5s 44ms/step - loss: 3.6425e-05 - accuracy: 1.0000 - val_loss: 0.9161 - val_accuracy: 0.8795\n",
      "Epoch 11/20\n",
      "118/118 [==============================] - 6s 50ms/step - loss: 2.9163e-05 - accuracy: 1.0000 - val_loss: 0.9317 - val_accuracy: 0.8799\n",
      "Epoch 12/20\n",
      "118/118 [==============================] - 5s 45ms/step - loss: 2.4357e-05 - accuracy: 1.0000 - val_loss: 0.9465 - val_accuracy: 0.8794\n",
      "Epoch 13/20\n",
      "118/118 [==============================] - 6s 47ms/step - loss: 2.0961e-05 - accuracy: 1.0000 - val_loss: 0.9585 - val_accuracy: 0.8797\n",
      "Epoch 14/20\n",
      "118/118 [==============================] - 5s 46ms/step - loss: 1.8329e-05 - accuracy: 1.0000 - val_loss: 0.9704 - val_accuracy: 0.8793\n",
      "Epoch 15/20\n",
      "118/118 [==============================] - 6s 47ms/step - loss: 1.6392e-05 - accuracy: 1.0000 - val_loss: 0.9805 - val_accuracy: 0.8794\n",
      "Epoch 16/20\n",
      "118/118 [==============================] - 5s 47ms/step - loss: 1.4778e-05 - accuracy: 1.0000 - val_loss: 0.9870 - val_accuracy: 0.8798\n",
      "Epoch 17/20\n",
      "118/118 [==============================] - 5s 47ms/step - loss: 1.3436e-05 - accuracy: 1.0000 - val_loss: 0.9937 - val_accuracy: 0.8794\n",
      "Epoch 18/20\n",
      "118/118 [==============================] - 6s 47ms/step - loss: 1.2342e-05 - accuracy: 1.0000 - val_loss: 1.0000 - val_accuracy: 0.8802\n",
      "Epoch 19/20\n",
      "118/118 [==============================] - 6s 51ms/step - loss: 1.1387e-05 - accuracy: 1.0000 - val_loss: 1.0073 - val_accuracy: 0.8798\n",
      "Epoch 20/20\n",
      "118/118 [==============================] - 6s 51ms/step - loss: 1.0562e-05 - accuracy: 1.0000 - val_loss: 1.0126 - val_accuracy: 0.8797\n"
     ]
    }
   ],
   "source": [
    "history_larger_model=extra_powerful_model.fit(\n",
    "    train_data, train_labels,\n",
    "    epochs=20, batch_size=128, validation_split=0.4\n",
    ")"
   ]
  },
  {
   "cell_type": "code",
   "execution_count": 63,
   "id": "9bd3df0f-8d37-4e34-86b8-4352def4cf4a",
   "metadata": {},
   "outputs": [
    {
     "data": {
      "image/png": "[encoded data removed]",
      "text/plain": [
       "<Figure size 640x480 with 1 Axes>"
      ]
     },
     "metadata": {},
     "output_type": "display_data"
    }
   ],
   "source": [
    "y_original=history_original.history['val_loss']\n",
    "x_original=range(1, 21)\n",
    "plt.plot(x_original, y_original, 'b--', label='Validation loss of original model')\n",
    "\n",
    "y=val_loss_larger=history_larger_model.history['val_loss']\n",
    "x=epoch=range(1, 21)\n",
    "plt.plot(x, y, 'b-', label='Validation loss of larger model')\n",
    "plt.xlabel('Epoch')\n",
    "plt.ylabel('Validation Loss')\n",
    "plt.title('Validation loss comparision')\n",
    "plt.legend()\n",
    "plt.show()"
   ]
  },
  {
   "cell_type": "code",
   "execution_count": 64,
   "id": "e9bf9b9f-f633-4e75-8f0a-1f9e27215337",
   "metadata": {},
   "outputs": [
    {
     "data": {
      "image/png": "[encoded data removed]",
      "text/plain": [
       "<Figure size 640x480 with 1 Axes>"
      ]
     },
     "metadata": {},
     "output_type": "display_data"
    }
   ],
   "source": [
    "y_smaller=history_smaller_model.history['val_loss']\n",
    "x_smaller=range(1, 21)\n",
    "plt.plot(x_smaller, y_smaller, 'b+--', label='Validation loss of smaller model')\n",
    "\n",
    "y_original=history_original.history['val_loss']\n",
    "x_original=range(1, 21)\n",
    "plt.plot(x_original, y_original, 'b--', label='Validation loss of original model')\n",
    "\n",
    "y=val_loss_larger=history_larger_model.history['val_loss']\n",
    "x=epoch=range(1, 21)\n",
    "plt.plot(x, y, 'b-', label='Validation loss of larger model')\n",
    "\n",
    "plt.xlabel('Epoch')\n",
    "plt.ylabel('Validation Loss')\n",
    "plt.title('Validation loss comparision')\n",
    "plt.legend()\n",
    "plt.show()"
   ]
  },
  {
   "cell_type": "code",
   "execution_count": null,
   "id": "a633c29f-5155-4dfa-a018-b5719085dee9",
   "metadata": {},
   "outputs": [],
   "source": []
  },
  {
   "cell_type": "markdown",
   "id": "dce2a420-a8eb-4611-8d03-9934d276a2e9",
   "metadata": {},
   "source": [
    "## Adding weight regularization"
   ]
  },
  {
   "cell_type": "markdown",
   "id": "0584adeb-c340-44eb-bbc3-614ae74cd555",
   "metadata": {},
   "source": [
    "Adding a cost function so that if the weight is more then model will be penalized. L1 norm - the cost added is proportional to absolute value of weight coefficient\n",
    "\n",
    "L2 norm - The cost added is proportional to square of value of weight coefficient"
   ]
  },
  {
   "cell_type": "code",
   "execution_count": 65,
   "id": "20d93300-c4f2-47ff-a975-5a9b787cf188",
   "metadata": {},
   "outputs": [],
   "source": [
    "from tensorflow.keras import regularizers\n",
    "model=keras.Sequential([\n",
    "    layers.Dense(16,\n",
    "                kernel_regularizer=regularizers.l2(0.002),\n",
    "                activation='relu'),\n",
    "    layers.Dense(16,\n",
    "                kernel_regularizer=regularizers.l2(0.002),\n",
    "                activation='relu'),\n",
    "    layers.Dense(1, activation='sigmoid')\n",
    "])"
   ]
  },
  {
   "cell_type": "code",
   "execution_count": 66,
   "id": "b68920cf-8967-4b13-86fb-21667e5551ee",
   "metadata": {},
   "outputs": [],
   "source": [
    "model.compile(optimizer='rmsprop',\n",
    "             loss='binary_crossentropy',\n",
    "             metrics=['accuracy'])"
   ]
  },
  {
   "cell_type": "code",
   "execution_count": 67,
   "id": "40f2801a-79ac-4be1-8df5-2d669b8d1795",
   "metadata": {},
   "outputs": [
    {
     "name": "stdout",
     "output_type": "stream",
     "text": [
      "Epoch 1/20\n",
      "469/469 [==============================] - 9s 5ms/step - loss: 0.4130 - accuracy: 0.8565 - val_loss: 0.4130 - val_accuracy: 0.8526\n",
      "Epoch 2/20\n",
      "469/469 [==============================] - 2s 5ms/step - loss: 0.3155 - accuracy: 0.8976 - val_loss: 0.3472 - val_accuracy: 0.8846\n",
      "Epoch 3/20\n",
      "469/469 [==============================] - 2s 4ms/step - loss: 0.3005 - accuracy: 0.9036 - val_loss: 0.3470 - val_accuracy: 0.8822\n",
      "Epoch 4/20\n",
      "469/469 [==============================] - 1s 3ms/step - loss: 0.2900 - accuracy: 0.9061 - val_loss: 0.3441 - val_accuracy: 0.8838\n",
      "Epoch 5/20\n",
      "469/469 [==============================] - 1s 3ms/step - loss: 0.2816 - accuracy: 0.9071 - val_loss: 0.3551 - val_accuracy: 0.8759\n",
      "Epoch 6/20\n",
      "469/469 [==============================] - 1s 3ms/step - loss: 0.2793 - accuracy: 0.9102 - val_loss: 0.3471 - val_accuracy: 0.8809\n",
      "Epoch 7/20\n",
      "469/469 [==============================] - 1s 3ms/step - loss: 0.2710 - accuracy: 0.9123 - val_loss: 0.3466 - val_accuracy: 0.8801\n",
      "Epoch 8/20\n",
      "469/469 [==============================] - 1s 3ms/step - loss: 0.2687 - accuracy: 0.9129 - val_loss: 0.3534 - val_accuracy: 0.8777\n",
      "Epoch 9/20\n",
      "469/469 [==============================] - 1s 3ms/step - loss: 0.2640 - accuracy: 0.9153 - val_loss: 0.3526 - val_accuracy: 0.8793\n",
      "Epoch 10/20\n",
      "469/469 [==============================] - 1s 3ms/step - loss: 0.2576 - accuracy: 0.9173 - val_loss: 0.3573 - val_accuracy: 0.8767\n",
      "Epoch 11/20\n",
      "469/469 [==============================] - 1s 3ms/step - loss: 0.2523 - accuracy: 0.9197 - val_loss: 0.4025 - val_accuracy: 0.8618\n",
      "Epoch 12/20\n",
      "469/469 [==============================] - 1s 3ms/step - loss: 0.2466 - accuracy: 0.9230 - val_loss: 0.3788 - val_accuracy: 0.8713\n",
      "Epoch 13/20\n",
      "469/469 [==============================] - 1s 3ms/step - loss: 0.2422 - accuracy: 0.9271 - val_loss: 0.3729 - val_accuracy: 0.8752\n",
      "Epoch 14/20\n",
      "469/469 [==============================] - 1s 3ms/step - loss: 0.2389 - accuracy: 0.9285 - val_loss: 0.3812 - val_accuracy: 0.8752\n",
      "Epoch 15/20\n",
      "469/469 [==============================] - 1s 3ms/step - loss: 0.2336 - accuracy: 0.9308 - val_loss: 0.3922 - val_accuracy: 0.8748\n",
      "Epoch 16/20\n",
      "469/469 [==============================] - 1s 3ms/step - loss: 0.2290 - accuracy: 0.9338 - val_loss: 0.3902 - val_accuracy: 0.8763\n",
      "Epoch 17/20\n",
      "469/469 [==============================] - 1s 3ms/step - loss: 0.2275 - accuracy: 0.9329 - val_loss: 0.3846 - val_accuracy: 0.8739\n",
      "Epoch 18/20\n",
      "469/469 [==============================] - 1s 2ms/step - loss: 0.2233 - accuracy: 0.9357 - val_loss: 0.3988 - val_accuracy: 0.8734\n",
      "Epoch 19/20\n",
      "469/469 [==============================] - 1s 2ms/step - loss: 0.2181 - accuracy: 0.9363 - val_loss: 0.3966 - val_accuracy: 0.8748\n",
      "Epoch 20/20\n",
      "469/469 [==============================] - 1s 2ms/step - loss: 0.2163 - accuracy: 0.9403 - val_loss: 0.3968 - val_accuracy: 0.8736\n"
     ]
    }
   ],
   "source": [
    "history_l2_reg=model.fit(\n",
    "    train_data, train_labels,\n",
    "    epochs=20, batch_size=32, validation_split=0.4\n",
    ")"
   ]
  },
  {
   "cell_type": "code",
   "execution_count": 68,
   "id": "5d330a56-40bc-4a0e-9482-f64ab286d1f1",
   "metadata": {},
   "outputs": [
    {
     "data": {
      "image/png": "[encoded data removed]",
      "text/plain": [
       "<Figure size 640x480 with 1 Axes>"
      ]
     },
     "metadata": {},
     "output_type": "display_data"
    }
   ],
   "source": [
    "plt.clf()\n",
    "y_original=history_original.history['val_loss']\n",
    "x_original=range(1, 21)\n",
    "plt.plot(x_original, y_original, 'b--', label='Validation loss of original model')\n",
    "\n",
    "x_l2_reg=range(1, 21)\n",
    "y_l2_reg=history_l2_reg.history['val_loss']\n",
    "plt.plot(x_l2_reg, y_l2_reg, 'b-', label='Validation loss of regularized model')\n",
    "plt.title('Effect of L2 weight regularization on model')\n",
    "plt.xlabel('Epoch')\n",
    "plt.ylabel('Validation Loss')\n",
    "plt.legend()\n",
    "plt.show()"
   ]
  },
  {
   "cell_type": "code",
   "execution_count": 69,
   "id": "cc5443af-faa8-4e33-afdf-285e8e77cc9f",
   "metadata": {},
   "outputs": [
    {
     "data": {
      "text/plain": [
       "<keras.src.regularizers.L1L2 at 0x2374fc33e50>"
      ]
     },
     "execution_count": 69,
     "metadata": {},
     "output_type": "execute_result"
    }
   ],
   "source": [
    "# Different weight regularizers available in Keras\n",
    "from tensorflow.keras import regularizers\n",
    "regularizers.l1(0.001)\n",
    "regularizers.l1_l2(l1=0.001, l2=0.001)"
   ]
  },
  {
   "cell_type": "code",
   "execution_count": null,
   "id": "59566357-2bef-4468-aa85-9f07b2afcfea",
   "metadata": {},
   "outputs": [],
   "source": []
  },
  {
   "cell_type": "code",
   "execution_count": null,
   "id": "80fad06c-5b39-47c5-9dbe-b6985355b892",
   "metadata": {},
   "outputs": [],
   "source": []
  },
  {
   "cell_type": "code",
   "execution_count": 70,
   "id": "2dc4c771-9746-4358-ab4b-7c610905960c",
   "metadata": {},
   "outputs": [],
   "source": [
    "model = keras.Sequential([\n",
    "    layers.Dense(16, activation='relu'),\n",
    "    layers.Dropout(0.5),\n",
    "    layers.Dense(16, activation='relu'),\n",
    "    layers.Dropout(0.5),\n",
    "    layers.Dense(1, activation='sigmoid')\n",
    "])"
   ]
  },
  {
   "cell_type": "code",
   "execution_count": 71,
   "id": "80572fe9-eba4-4bb5-a3d8-04401627f2f9",
   "metadata": {},
   "outputs": [],
   "source": [
    "model.compile(optimizer='rmsprop',\n",
    "             loss='binary_crossentropy',\n",
    "             metrics=['accuracy'])"
   ]
  },
  {
   "cell_type": "code",
   "execution_count": 72,
   "id": "05df9c9c-ab9c-4b50-89be-ad0315fcbe30",
   "metadata": {},
   "outputs": [
    {
     "name": "stdout",
     "output_type": "stream",
     "text": [
      "Epoch 1/20\n",
      "30/30 [==============================] - 1s 23ms/step - loss: 0.6188 - accuracy: 0.6515 - val_loss: 0.5014 - val_accuracy: 0.8445\n",
      "Epoch 2/20\n",
      "30/30 [==============================] - 0s 11ms/step - loss: 0.4952 - accuracy: 0.7835 - val_loss: 0.3899 - val_accuracy: 0.8755\n",
      "Epoch 3/20\n",
      "30/30 [==============================] - 0s 12ms/step - loss: 0.4161 - accuracy: 0.8345 - val_loss: 0.3379 - val_accuracy: 0.8834\n",
      "Epoch 4/20\n",
      "30/30 [==============================] - 0s 14ms/step - loss: 0.3527 - accuracy: 0.8690 - val_loss: 0.3012 - val_accuracy: 0.8898\n",
      "Epoch 5/20\n",
      "30/30 [==============================] - 0s 12ms/step - loss: 0.3091 - accuracy: 0.8903 - val_loss: 0.2961 - val_accuracy: 0.8869\n",
      "Epoch 6/20\n",
      "30/30 [==============================] - 0s 12ms/step - loss: 0.2684 - accuracy: 0.9061 - val_loss: 0.2923 - val_accuracy: 0.8838\n",
      "Epoch 7/20\n",
      "30/30 [==============================] - 0s 12ms/step - loss: 0.2465 - accuracy: 0.9189 - val_loss: 0.2731 - val_accuracy: 0.8907\n",
      "Epoch 8/20\n",
      "30/30 [==============================] - 0s 12ms/step - loss: 0.2157 - accuracy: 0.9290 - val_loss: 0.2847 - val_accuracy: 0.8909\n",
      "Epoch 9/20\n",
      "30/30 [==============================] - 0s 11ms/step - loss: 0.1963 - accuracy: 0.9352 - val_loss: 0.2896 - val_accuracy: 0.8901\n",
      "Epoch 10/20\n",
      "30/30 [==============================] - 0s 12ms/step - loss: 0.1767 - accuracy: 0.9429 - val_loss: 0.2971 - val_accuracy: 0.8906\n",
      "Epoch 11/20\n",
      "30/30 [==============================] - 0s 11ms/step - loss: 0.1594 - accuracy: 0.9509 - val_loss: 0.3240 - val_accuracy: 0.8852\n",
      "Epoch 12/20\n",
      "30/30 [==============================] - 0s 11ms/step - loss: 0.1463 - accuracy: 0.9536 - val_loss: 0.3477 - val_accuracy: 0.8883\n",
      "Epoch 13/20\n",
      "30/30 [==============================] - 0s 11ms/step - loss: 0.1317 - accuracy: 0.9593 - val_loss: 0.3751 - val_accuracy: 0.8863\n",
      "Epoch 14/20\n",
      "30/30 [==============================] - 0s 12ms/step - loss: 0.1214 - accuracy: 0.9606 - val_loss: 0.3880 - val_accuracy: 0.8811\n",
      "Epoch 15/20\n",
      "30/30 [==============================] - 0s 11ms/step - loss: 0.1174 - accuracy: 0.9626 - val_loss: 0.4004 - val_accuracy: 0.8843\n",
      "Epoch 16/20\n",
      "30/30 [==============================] - 0s 11ms/step - loss: 0.1003 - accuracy: 0.9669 - val_loss: 0.4369 - val_accuracy: 0.8853\n",
      "Epoch 17/20\n",
      "30/30 [==============================] - 0s 12ms/step - loss: 0.0976 - accuracy: 0.9685 - val_loss: 0.4529 - val_accuracy: 0.8838\n",
      "Epoch 18/20\n",
      "30/30 [==============================] - 0s 12ms/step - loss: 0.0918 - accuracy: 0.9709 - val_loss: 0.4687 - val_accuracy: 0.8831\n",
      "Epoch 19/20\n",
      "30/30 [==============================] - 0s 11ms/step - loss: 0.0858 - accuracy: 0.9715 - val_loss: 0.5010 - val_accuracy: 0.8844\n",
      "Epoch 20/20\n",
      "30/30 [==============================] - 0s 10ms/step - loss: 0.0856 - accuracy: 0.9718 - val_loss: 0.5318 - val_accuracy: 0.8840\n"
     ]
    }
   ],
   "source": [
    "history_dropout=model.fit(\n",
    "    train_data, train_labels,\n",
    "    epochs=20, batch_size=512, validation_split=0.4,# callbacks=[tensorboard_callback]\n",
    ")"
   ]
  },
  {
   "cell_type": "code",
   "execution_count": 73,
   "id": "0453320e-0183-4917-985f-00be2fd936aa",
   "metadata": {},
   "outputs": [
    {
     "data": {
      "image/png": "[encoded data removed]",
      "text/plain": [
       "<Figure size 640x480 with 1 Axes>"
      ]
     },
     "metadata": {},
     "output_type": "display_data"
    }
   ],
   "source": [
    "import matplotlib.pyplot as plt\n",
    "plt.clf()\n",
    "y_original=history_original.history['val_loss']\n",
    "x_original=range(1, 21)\n",
    "plt.plot(x_original, y_original, 'b--', label='Validation loss of original model')\n",
    "\n",
    "dropout_val_acc=history_dropout.history['val_loss']\n",
    "epoch=range(1, 21)\n",
    "plt.plot(dropout_val_acc, epoch, 'b-', label='Dropout validation accuracy')\n",
    "plt.xlabel('Epoch')\n",
    "plt.ylabel('Validation loss')\n",
    "plt.legend()\n",
    "plt.show()\n"
   ]
  },
  {
   "cell_type": "code",
   "execution_count": null,
   "id": "77e7dce6-f819-432d-8e3a-ad007b9b4887",
   "metadata": {},
   "outputs": [],
   "source": []
  },
  {
   "cell_type": "code",
   "execution_count": null,
   "id": "8ccc3c62-d1ac-4ada-ab4f-74d5c384b5af",
   "metadata": {},
   "outputs": [],
   "source": []
  },
  {
   "cell_type": "code",
   "execution_count": null,
   "id": "ec4f40a7-742a-44bd-837f-f8baf8ccf44f",
   "metadata": {},
   "outputs": [],
   "source": []
  },
  {
   "cell_type": "code",
   "execution_count": null,
   "id": "4693a43a-90b9-41f6-94f3-6d3274ec1945",
   "metadata": {},
   "outputs": [],
   "source": []
  },
  {
   "cell_type": "code",
   "execution_count": null,
   "id": "71da49fd-eae2-4252-8e63-00adf3bc399e",
   "metadata": {},
   "outputs": [],
   "source": []
  },
  {
   "cell_type": "code",
   "execution_count": null,
   "id": "1b765f7d-a9a2-4a30-89fd-98933feeb9eb",
   "metadata": {},
   "outputs": [],
   "source": []
  },
  {
   "cell_type": "code",
   "execution_count": 74,
   "id": "a2bba7fa-dd31-4ab0-9f5b-81b01c79c413",
   "metadata": {},
   "outputs": [],
   "source": [
    "# Load the TensorBoard notebook extension\n",
    "%load_ext tensorboard"
   ]
  },
  {
   "cell_type": "code",
   "execution_count": 75,
   "id": "123f66ff-d647-489b-abbb-59da65290dd1",
   "metadata": {},
   "outputs": [],
   "source": [
    "import tensorflow as tf\n",
    "import datetime"
   ]
  },
  {
   "cell_type": "code",
   "execution_count": 76,
   "id": "bd7f5955-fcc5-4272-bc3e-e0f57d393e21",
   "metadata": {},
   "outputs": [],
   "source": [
    "log_dir = \"logs/fit/\" + datetime.datetime.now().strftime(\"%Y%m%d-%H%M%S\")"
   ]
  },
  {
   "cell_type": "code",
   "execution_count": 77,
   "id": "bf5b39bf-36d7-4952-ae38-089c3e42d2ba",
   "metadata": {},
   "outputs": [],
   "source": [
    "tensorboard_callback = keras.callbacks.TensorBoard(log_dir=log_dir, histogram_freq=1)"
   ]
  },
  {
   "cell_type": "code",
   "execution_count": null,
   "id": "6c36d486-1b88-4af4-a75b-eb76bc386f39",
   "metadata": {},
   "outputs": [
    {
     "name": "stdout",
     "output_type": "stream",
     "text": [
      "Epoch 1/20\n",
      "469/469 [==============================] - 2s 4ms/step - loss: 0.1397 - accuracy: 0.9573 - val_loss: 0.5807 - val_accuracy: 0.8842\n",
      "Epoch 2/20\n",
      "469/469 [==============================] - 1s 2ms/step - loss: 0.1830 - accuracy: 0.9464 - val_loss: 0.5463 - val_accuracy: 0.8774\n",
      "Epoch 3/20\n",
      "469/469 [==============================] - 1s 2ms/step - loss: 0.1834 - accuracy: 0.9469 - val_loss: 0.5813 - val_accuracy: 0.8750\n",
      "Epoch 4/20\n",
      "469/469 [==============================] - 1s 2ms/step - loss: 0.2150 - accuracy: 0.9377 - val_loss: 0.5844 - val_accuracy: 0.8828\n",
      "Epoch 5/20\n",
      "469/469 [==============================] - 1s 3ms/step - loss: 0.2260 - accuracy: 0.9355 - val_loss: 0.5305 - val_accuracy: 0.8738\n",
      "Epoch 6/20\n",
      "469/469 [==============================] - 1s 2ms/step - loss: 0.2231 - accuracy: 0.9337 - val_loss: 0.5553 - val_accuracy: 0.8744\n",
      "Epoch 7/20\n",
      "469/469 [==============================] - 1s 3ms/step - loss: 0.2294 - accuracy: 0.9308 - val_loss: 0.5316 - val_accuracy: 0.8704\n",
      "Epoch 8/20\n",
      "469/469 [==============================] - 1s 2ms/step - loss: 0.2231 - accuracy: 0.9335 - val_loss: 0.5233 - val_accuracy: 0.8574\n",
      "Epoch 9/20\n",
      "469/469 [==============================] - 1s 2ms/step - loss: 0.2192 - accuracy: 0.9328 - val_loss: 0.5598 - val_accuracy: 0.8729\n",
      "Epoch 10/20\n",
      "469/469 [==============================] - 1s 2ms/step - loss: 0.2234 - accuracy: 0.9352 - val_loss: 0.5327 - val_accuracy: 0.8711\n",
      "Epoch 11/20\n",
      "469/469 [==============================] - 1s 2ms/step - loss: 0.2005 - accuracy: 0.9369 - val_loss: 0.5559 - val_accuracy: 0.8744\n",
      "Epoch 12/20\n",
      "469/469 [==============================] - 1s 2ms/step - loss: 0.1942 - accuracy: 0.9355 - val_loss: 0.5907 - val_accuracy: 0.8736\n",
      "Epoch 13/20\n",
      "469/469 [==============================] - 1s 2ms/step - loss: 0.1934 - accuracy: 0.9387 - val_loss: 0.6030 - val_accuracy: 0.8713\n",
      "Epoch 14/20\n",
      "469/469 [==============================] - 1s 2ms/step - loss: 0.2080 - accuracy: 0.9369 - val_loss: 0.6206 - val_accuracy: 0.8643\n",
      "Epoch 15/20\n",
      "469/469 [==============================] - 1s 3ms/step - loss: 0.1994 - accuracy: 0.9357 - val_loss: 0.5968 - val_accuracy: 0.8616\n",
      "Epoch 16/20\n",
      "469/469 [==============================] - 1s 2ms/step - loss: 0.2125 - accuracy: 0.9370 - val_loss: 0.6152 - val_accuracy: 0.8622\n",
      "Epoch 17/20\n",
      "461/469 [============================>.] - ETA: 0s - loss: 0.2065 - accuracy: 0.9374"
     ]
    }
   ],
   "source": [
    "history_l2_reg=model.fit(\n",
    "    train_data, train_labels,\n",
    "    epochs=20, batch_size=32, validation_split=0.4,# callbacks=[tensorboard_callback]\n",
    ")"
   ]
  },
  {
   "cell_type": "code",
   "execution_count": null,
   "id": "20ff7a01-cd4e-46d7-8767-00651cc1bcf9",
   "metadata": {},
   "outputs": [],
   "source": [
    "# %tensorboard --logdir logs/fit"
   ]
  },
  {
   "cell_type": "code",
   "execution_count": null,
   "id": "10a1373f-5bec-4167-873e-530508c23ccf",
   "metadata": {},
   "outputs": [],
   "source": []
  }
 ],
 "metadata": {
  "kernelspec": {
   "display_name": "Python 3 (ipykernel)",
   "language": "python",
   "name": "python3"
  },
  "language_info": {
   "codemirror_mode": {
    "name": "ipython",
    "version": 3
   },
   "file_extension": ".py",
   "mimetype": "text/x-python",
   "name": "python",
   "nbconvert_exporter": "python",
   "pygments_lexer": "ipython3",
   "version": "3.12.3"
  }
 },
 "nbformat": 4,
 "nbformat_minor": 5
}
