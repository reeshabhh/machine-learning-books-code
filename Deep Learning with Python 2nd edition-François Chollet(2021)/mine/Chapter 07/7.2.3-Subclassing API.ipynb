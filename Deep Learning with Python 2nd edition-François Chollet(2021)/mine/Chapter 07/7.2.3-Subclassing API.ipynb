{
 "cells": [
  {
   "cell_type": "markdown",
   "id": "2f5c2e7c-931e-4e55-87eb-a76764bdabbe",
   "metadata": {},
   "source": [
    "# 7.2.3-Subclassing API"
   ]
  },
  {
   "cell_type": "code",
   "execution_count": 17,
   "id": "f1fa90e8-ad9e-437d-95f7-f352f930e66d",
   "metadata": {},
   "outputs": [],
   "source": [
    "import tensorflow as tf, numpy as np\n",
    "from tensorflow import keras"
   ]
  },
  {
   "cell_type": "code",
   "execution_count": 7,
   "id": "bfddca62-8f0f-43d5-b437-1017fcc2d519",
   "metadata": {},
   "outputs": [],
   "source": [
    "vocabulary_size = 10000\n",
    "num_tags = 100\n",
    "num_departments = 4"
   ]
  },
  {
   "cell_type": "code",
   "execution_count": 9,
   "id": "f8ad0c6f-263e-4a50-af98-dc1023619cc7",
   "metadata": {},
   "outputs": [],
   "source": [
    "num_samples = 1280"
   ]
  },
  {
   "cell_type": "code",
   "execution_count": 10,
   "id": "d1f03189-2ddd-4250-b38f-03730494212c",
   "metadata": {},
   "outputs": [],
   "source": [
    "# Dummy input data\n",
    "title_data = np.random.randint(0, 2, size=(num_samples, vocabulary_size))\n",
    "text_body_data = np.random.randint(0, 2, size=(num_samples, vocabulary_size))\n",
    "tags_data = np.random.randint(0, 2, size=(num_samples, num_tags))"
   ]
  },
  {
   "cell_type": "code",
   "execution_count": 24,
   "id": "4aaf650f-d6df-4cfa-8df4-3d3ca6a1b70a",
   "metadata": {},
   "outputs": [],
   "source": [
    "# Dummy target data\n",
    "priority_data = np.random.random(size=(num_samples, 1))\n",
    "department_data = np.random.randint(0, 2, size=(num_samples, num_departments))"
   ]
  },
  {
   "cell_type": "code",
   "execution_count": 25,
   "id": "9b7e7bb0-71bd-4a5d-a30b-e524d998730f",
   "metadata": {},
   "outputs": [],
   "source": [
    "class CustomerTicketModel(keras.Model):\n",
    "\n",
    "    def __init__(self, num_departments):\n",
    "        super().__init__()\n",
    "        self.concat_layer = keras.layers.Concatenate()\n",
    "        self.mixing_layer = keras.layers.Dense(64, activation='relu')\n",
    "        self.priority_scorer = keras.layers.Dense(1, activation='sigmoid')\n",
    "        self.department_classifier = keras.layers.Dense(num_departments, activation='softmax')\n",
    "\n",
    "    def call(self, inputs):\n",
    "        title=inputs['title']\n",
    "        text_body = inputs['text_body']\n",
    "        tags = inputs['tags']\n",
    "\n",
    "        features = self.concat_layer([title, text_body, tags])\n",
    "        features = self.mixing_layer(features)\n",
    "        priority = self.priority_scorer(features)\n",
    "        department = self.department_classifier(features)\n",
    "        return priority, department"
   ]
  },
  {
   "cell_type": "code",
   "execution_count": 26,
   "id": "648cf722-7557-4756-a6f8-726513fd7081",
   "metadata": {},
   "outputs": [],
   "source": [
    "model = CustomerTicketModel(num_departments=4)"
   ]
  },
  {
   "cell_type": "code",
   "execution_count": 27,
   "id": "c7be4d7a-6ff9-44c0-aa49-7db5852a7354",
   "metadata": {},
   "outputs": [],
   "source": [
    "priority, department = model(\n",
    "    {'title': title_data, 'text_body': text_body_data, 'tags': tags_data}\n",
    ")"
   ]
  },
  {
   "cell_type": "code",
   "execution_count": 28,
   "id": "a6732142-f3a9-45d9-a182-69024ab2c895",
   "metadata": {},
   "outputs": [],
   "source": [
    "model.compile(optimizer='rmsprop',\n",
    "             loss=['mean_squared_error', 'categorical_crossentropy'],\n",
    "             metrics=[['mean_absolute_error'], ['accuracy']])"
   ]
  },
  {
   "cell_type": "code",
   "execution_count": 29,
   "id": "97e402e3-3a7b-4182-a513-1386f090ae97",
   "metadata": {},
   "outputs": [
    {
     "name": "stdout",
     "output_type": "stream",
     "text": [
      "\u001b[1m40/40\u001b[0m \u001b[32m━━━━━━━━━━━━━━━━━━━━\u001b[0m\u001b[37m\u001b[0m \u001b[1m1s\u001b[0m 8ms/step - accuracy: 0.2299 - loss: 47.5817 - mean_absolute_error: 0.4846\n"
     ]
    },
    {
     "data": {
      "text/plain": [
       "<keras.src.callbacks.history.History at 0x225d3313830>"
      ]
     },
     "execution_count": 29,
     "metadata": {},
     "output_type": "execute_result"
    }
   ],
   "source": [
    "model.fit(\n",
    "{\n",
    "    'title': title_data,\n",
    "    'text_body': text_body_data,\n",
    "    'tags': tags_data,\n",
    "},\n",
    "[\n",
    "    priority_data, department_data,\n",
    "],\n",
    "epochs=1       )"
   ]
  },
  {
   "cell_type": "code",
   "execution_count": 30,
   "id": "7dc1e896-335a-4940-b371-d0d49734100f",
   "metadata": {},
   "outputs": [
    {
     "name": "stdout",
     "output_type": "stream",
     "text": [
      "\u001b[1m40/40\u001b[0m \u001b[32m━━━━━━━━━━━━━━━━━━━━\u001b[0m\u001b[37m\u001b[0m \u001b[1m0s\u001b[0m 3ms/step - accuracy: 0.2441 - loss: 12.3791 - mean_absolute_error: 0.5052 \n"
     ]
    },
    {
     "data": {
      "text/plain": [
       "[12.388519287109375, 0.5086504817008972, 0.2515625059604645]"
      ]
     },
     "execution_count": 30,
     "metadata": {},
     "output_type": "execute_result"
    }
   ],
   "source": [
    "model.evaluate({\n",
    "    'title': title_data,\n",
    "    'text_body': text_body_data,\n",
    "    'tags': tags_data,\n",
    "},\n",
    "[\n",
    "    priority_data,\n",
    "    department_data,\n",
    "]\n",
    "              )"
   ]
  },
  {
   "cell_type": "code",
   "execution_count": 31,
   "id": "f0745c61-c893-4d23-9349-27f0d2df4913",
   "metadata": {},
   "outputs": [
    {
     "name": "stdout",
     "output_type": "stream",
     "text": [
      "\u001b[1m40/40\u001b[0m \u001b[32m━━━━━━━━━━━━━━━━━━━━\u001b[0m\u001b[37m\u001b[0m \u001b[1m0s\u001b[0m 3ms/step\n"
     ]
    }
   ],
   "source": [
    "priority_preds, department_preds = model.predict({'title': title_data,\n",
    "                                                 'text_body': text_body_data,\n",
    "                                                 'tags': tags_data})"
   ]
  },
  {
   "cell_type": "code",
   "execution_count": null,
   "id": "615ce11e-62df-4541-a229-55a3edfb2071",
   "metadata": {},
   "outputs": [],
   "source": []
  }
 ],
 "metadata": {
  "kernelspec": {
   "display_name": "Python 3 (ipykernel)",
   "language": "python",
   "name": "python3"
  },
  "language_info": {
   "codemirror_mode": {
    "name": "ipython",
    "version": 3
   },
   "file_extension": ".py",
   "mimetype": "text/x-python",
   "name": "python",
   "nbconvert_exporter": "python",
   "pygments_lexer": "ipython3",
   "version": "3.12.3"
  }
 },
 "nbformat": 4,
 "nbformat_minor": 5
}
