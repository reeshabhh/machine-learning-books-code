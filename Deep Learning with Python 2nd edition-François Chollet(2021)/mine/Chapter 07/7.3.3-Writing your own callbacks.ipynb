{
 "cells": [
  {
   "cell_type": "markdown",
   "id": "66b7cc3e-5776-4599-b420-8a981b1ff4f6",
   "metadata": {},
   "source": [
    "# 7.3.3 Writing your own callbacks"
   ]
  },
  {
   "cell_type": "code",
   "execution_count": 1,
   "id": "cb850a10-d1c3-4748-b9be-b9731b1eaba5",
   "metadata": {},
   "outputs": [],
   "source": [
    "# on_epoch_begin(epoch, logs)\n",
    "# on_epoch_end(epoch, logs)\n",
    "# on_batch_begin(batch, logs)\n",
    "# on_batch_end(batch, logs)\n",
    "# on_train_begin(logs)\n",
    "# on_train_end(logs)"
   ]
  },
  {
   "cell_type": "code",
   "execution_count": 3,
   "id": "9907c455-4803-41de-a186-ef03b51094a0",
   "metadata": {},
   "outputs": [],
   "source": [
    "from tensorflow import keras\n",
    "from matplotlib import pyplot as plt"
   ]
  },
  {
   "cell_type": "code",
   "execution_count": 4,
   "id": "fbbda270-f5b2-4260-9e8b-d46e969ad106",
   "metadata": {},
   "outputs": [],
   "source": [
    "class LossHistory(keras.callbacks.Callback):\n",
    "    def on_train_begin(self, logs):\n",
    "        self.per_batch_losses = []\n",
    "\n",
    "    def on_batch_end(self, batch, logs):\n",
    "        self.per_batch_losses.append(logs.get('loss'))\n",
    "\n",
    "    def on_epoch_end(self, epoch, logs):\n",
    "        plt.clf() # clear figure\n",
    "        plt.plot(range(len(self.per_batch_losses)), self.per_batch_losses,\n",
    "                label=\"Training loss for each batch\")\n",
    "        plt.xlabel(f\"Batch (epoch {epoch})\")\n",
    "        plt.ylabel(\"Loss\")\n",
    "        plt.legend()\n",
    "        plt.savefig(f\"plot_at_epoch_{epoch}\")\n",
    "        self.per_batch_losses = []"
   ]
  },
  {
   "cell_type": "code",
   "execution_count": 5,
   "id": "14889a73-2fc6-4686-971d-dbd352ce5bf6",
   "metadata": {},
   "outputs": [],
   "source": [
    "def get_mnist_model():\n",
    "    inputs = keras.Input(shape=(28 * 28, ))\n",
    "    features = keras.layers.Dense(512, activation='relu')(inputs)\n",
    "    features = keras.layers.Dropout(0.5)(features)\n",
    "    outputs = keras.layers.Dense(10, activation='softmax')(features)\n",
    "    model = keras.Model(inputs, outputs)\n",
    "    return model"
   ]
  },
  {
   "cell_type": "code",
   "execution_count": 6,
   "id": "f47300fa-1933-4a25-a21c-5898e6efc7fb",
   "metadata": {},
   "outputs": [],
   "source": [
    "from keras.datasets import mnist\n",
    "(images, labels), (test_images, test_labels) = mnist.load_data()"
   ]
  },
  {
   "cell_type": "code",
   "execution_count": 7,
   "id": "fbea4c9e-1809-4fe1-9040-f7361d717797",
   "metadata": {},
   "outputs": [],
   "source": [
    "images = images.reshape((60000, 28 * 28)).astype('float32') / 255"
   ]
  },
  {
   "cell_type": "code",
   "execution_count": 8,
   "id": "cab32244-ab64-4f7c-bb94-c0b2ac9a4ef5",
   "metadata": {},
   "outputs": [],
   "source": [
    "test_images = test_images.reshape((10000, 28 * 28)).astype('float32') / 255"
   ]
  },
  {
   "cell_type": "code",
   "execution_count": 9,
   "id": "e6270e40-a323-42a9-a42a-1d7395c5c859",
   "metadata": {},
   "outputs": [],
   "source": [
    "train_images, val_images = images[10000:], images[:10000]\n",
    "train_labels, val_labels = labels[10000:], labels[:10000]"
   ]
  },
  {
   "cell_type": "code",
   "execution_count": 11,
   "id": "abc03394-4fc2-4358-9f55-0ec2526d5bde",
   "metadata": {},
   "outputs": [],
   "source": [
    "import warnings"
   ]
  },
  {
   "cell_type": "code",
   "execution_count": 16,
   "id": "75e6760b-6e6d-4d5f-83d4-c860079d3d62",
   "metadata": {},
   "outputs": [],
   "source": [
    "warnings.filterwarnings(action=\"ignore\", category=DeprecationWarning)"
   ]
  },
  {
   "cell_type": "code",
   "execution_count": 20,
   "id": "b50ba29b-8250-49d0-bbf4-edc27993b312",
   "metadata": {},
   "outputs": [],
   "source": [
    "warnings.filterwarnings(action=\"ignore\", category=Warning)"
   ]
  },
  {
   "cell_type": "code",
   "execution_count": 21,
   "id": "a0704923-f4dd-4140-b61d-9d99d172221d",
   "metadata": {},
   "outputs": [],
   "source": [
    "model = get_mnist_model()"
   ]
  },
  {
   "cell_type": "code",
   "execution_count": 22,
   "id": "9b3eda1e-d288-43c0-9147-2c0d5f748c08",
   "metadata": {},
   "outputs": [],
   "source": [
    "model.compile(optimizer=\"rmsprop\",\n",
    "             loss=\"sparse_categorical_crossentropy\",\n",
    "             metrics=[\"accuracy\"])"
   ]
  },
  {
   "cell_type": "code",
   "execution_count": 24,
   "id": "eebdddc8-c92d-40f3-902b-1432120e1c3b",
   "metadata": {},
   "outputs": [
    {
     "name": "stdout",
     "output_type": "stream",
     "text": [
      "Epoch 1/10\n",
      "1563/1563 [==============================] - 5s 3ms/step - loss: 0.0692 - accuracy: 0.9813 - val_loss: 0.0886 - val_accuracy: 0.9799\n",
      "Epoch 2/10\n",
      "1563/1563 [==============================] - 5s 3ms/step - loss: 0.0656 - accuracy: 0.9829 - val_loss: 0.0871 - val_accuracy: 0.9811\n",
      "Epoch 3/10\n",
      "1563/1563 [==============================] - 4s 3ms/step - loss: 0.0626 - accuracy: 0.9828 - val_loss: 0.0844 - val_accuracy: 0.9822\n",
      "Epoch 4/10\n",
      "1563/1563 [==============================] - 4s 3ms/step - loss: 0.0576 - accuracy: 0.9846 - val_loss: 0.0896 - val_accuracy: 0.9818\n",
      "Epoch 5/10\n",
      "1563/1563 [==============================] - 5s 3ms/step - loss: 0.0608 - accuracy: 0.9844 - val_loss: 0.0882 - val_accuracy: 0.9825\n",
      "Epoch 6/10\n",
      "1563/1563 [==============================] - 5s 3ms/step - loss: 0.0516 - accuracy: 0.9858 - val_loss: 0.0807 - val_accuracy: 0.9832\n",
      "Epoch 7/10\n",
      "1563/1563 [==============================] - 5s 3ms/step - loss: 0.0522 - accuracy: 0.9868 - val_loss: 0.0864 - val_accuracy: 0.9824\n",
      "Epoch 8/10\n",
      "1563/1563 [==============================] - 5s 3ms/step - loss: 0.0489 - accuracy: 0.9866 - val_loss: 0.0956 - val_accuracy: 0.9820\n",
      "Epoch 9/10\n",
      "1563/1563 [==============================] - 5s 3ms/step - loss: 0.0517 - accuracy: 0.9860 - val_loss: 0.0970 - val_accuracy: 0.9819\n",
      "Epoch 10/10\n",
      "1563/1563 [==============================] - 5s 3ms/step - loss: 0.0468 - accuracy: 0.9880 - val_loss: 0.0876 - val_accuracy: 0.9837\n"
     ]
    },
    {
     "data": {
      "text/plain": [
       "<keras.src.callbacks.History at 0x21ec0fcb910>"
      ]
     },
     "execution_count": 24,
     "metadata": {},
     "output_type": "execute_result"
    },
    {
     "data": {
      "image/png": "[encoded data removed]",
      "text/plain": [
       "<Figure size 640x480 with 1 Axes>"
      ]
     },
     "metadata": {},
     "output_type": "display_data"
    }
   ],
   "source": [
    "model.fit(train_images, train_labels,\n",
    "         epochs=10,\n",
    "         callbacks=[LossHistory()],\n",
    "         validation_data=(val_images, val_labels))"
   ]
  },
  {
   "cell_type": "code",
   "execution_count": null,
   "id": "057b77f8-a36b-474c-b82b-8fcec6df8173",
   "metadata": {},
   "outputs": [],
   "source": []
  }
 ],
 "metadata": {
  "kernelspec": {
   "display_name": "Python 3 (ipykernel)",
   "language": "python",
   "name": "python3"
  },
  "language_info": {
   "codemirror_mode": {
    "name": "ipython",
    "version": 3
   },
   "file_extension": ".py",
   "mimetype": "text/x-python",
   "name": "python",
   "nbconvert_exporter": "python",
   "pygments_lexer": "ipython3",
   "version": "3.11.6"
  }
 },
 "nbformat": 4,
 "nbformat_minor": 5
}
