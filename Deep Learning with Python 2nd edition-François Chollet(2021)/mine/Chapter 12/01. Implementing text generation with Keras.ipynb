{
 "cells": [
  {
   "cell_type": "markdown",
   "id": "fc4ef097-c6ec-45b4-9c7a-bc59dacd9412",
   "metadata": {},
   "source": [
    "# Implementing text generation with Keras"
   ]
  },
  {
   "cell_type": "code",
   "execution_count": 37,
   "id": "26b237cc-34f0-4248-a7b1-3437f9fef798",
   "metadata": {
    "scrolled": true
   },
   "outputs": [],
   "source": [
    "# !wget https://ai.stanford.edu/~amaas/data/sentiment/aclImdb_v1.tar.gz\n",
    "# !tar -xf aclImdb_v1.tar.gz"
   ]
  },
  {
   "cell_type": "code",
   "execution_count": 19,
   "id": "fbf925ba-0ba0-4d50-bf0a-53ffd8cccf55",
   "metadata": {},
   "outputs": [],
   "source": [
    "import tensorflow as tf\n",
    "from tensorflow import keras"
   ]
  },
  {
   "cell_type": "code",
   "execution_count": 22,
   "id": "7a44e81b-ccb6-42ce-b9dd-3d272a22b36c",
   "metadata": {},
   "outputs": [],
   "source": [
    "# import chardet\n",
    "\n",
    "# with open('0_2.txt', 'rb') as f:\n",
    "#     rawdata = f.read()\n",
    "#     result = chardet.detect(rawdata)\n",
    "#     encoding = result['encoding']"
   ]
  },
  {
   "cell_type": "code",
   "execution_count": 38,
   "id": "2ac10c45-348b-4443-8ff2-c0535edf4fce",
   "metadata": {},
   "outputs": [],
   "source": [
    "# encoding"
   ]
  },
  {
   "cell_type": "code",
   "execution_count": 33,
   "id": "bbb64787-fc6a-4a24-9974-8201e088360b",
   "metadata": {},
   "outputs": [],
   "source": [
    "import os\n",
    "import re\n",
    "\n",
    "def remove_html_line_breaks(text):\n",
    "  \"\"\"Removes HTML line breaks (<br />) from a text string and replaces them with spaces.\n",
    "\n",
    "  Args:\n",
    "      text: The text string to process.\n",
    "\n",
    "  Returns:\n",
    "      The text string with HTML line breaks removed.\n",
    "  \"\"\"\n",
    "  return re.sub(r\"<br />\", \" \", text)\n",
    "\n",
    "def process_text_files(directory):\n",
    "  \"\"\"Processes text files in a directory, removing HTML line breaks.\n",
    "\n",
    "  Args:\n",
    "      directory: The directory containing the text files.\n",
    "\n",
    "  Returns:\n",
    "      A list of processed text strings.\n",
    "  \"\"\"\n",
    "  processed_texts = []\n",
    "  for subdir, _, filenames in os.walk(directory):\n",
    "    for filename in filenames:\n",
    "      filepath = os.path.join(subdir, filename)\n",
    "      with open(filepath, 'r', encoding='utf-8') as f:\n",
    "        text = f.read()\n",
    "        processed_text = remove_html_line_breaks(text)\n",
    "        processed_texts.append(processed_text)\n",
    "  return processed_texts"
   ]
  },
  {
   "cell_type": "code",
   "execution_count": 34,
   "id": "71213c31-9aa0-4397-8299-ddd72e703e5a",
   "metadata": {},
   "outputs": [],
   "source": [
    "# Example usage\n",
    "directory = \"aclImdb/\"  # Replace with your directory path\n",
    "processed_texts = process_text_files(directory)"
   ]
  },
  {
   "cell_type": "code",
   "execution_count": 39,
   "id": "926fea7e-1f13-4bd3-a5af-a94be439f0e1",
   "metadata": {
    "scrolled": true
   },
   "outputs": [],
   "source": [
    "# processed_texts"
   ]
  },
  {
   "cell_type": "code",
   "execution_count": 41,
   "id": "9a312cdf-5fbd-42bf-aa2c-b80bd048655f",
   "metadata": {},
   "outputs": [],
   "source": [
    "# # Access processed text (assuming no labels):\n",
    "# for text in processed_texts:\n",
    "#   print(text)"
   ]
  },
  {
   "cell_type": "code",
   "execution_count": 45,
   "id": "ad04cd82-1737-4526-b5ae-2091132fcd52",
   "metadata": {},
   "outputs": [],
   "source": [
    "dataset = processed_texts\n",
    "# dataset = keras.utils.text_dataset_from_directory(\n",
    "#     directory='aclImdb', label_mode=None, batch_size=256,\n",
    "# )\n",
    "# dataset = dataset.map(lambda x: tf.strings.regex_replace(x, \"<br />\", ' '))"
   ]
  },
  {
   "cell_type": "code",
   "execution_count": 46,
   "id": "664ba004-8c5e-4584-bdad-e78f425882ee",
   "metadata": {},
   "outputs": [],
   "source": [
    "from keras.layers import TextVectorization"
   ]
  },
  {
   "cell_type": "code",
   "execution_count": 47,
   "id": "ebad26eb-6f8b-4ab8-9482-437ae5901cd5",
   "metadata": {},
   "outputs": [],
   "source": [
    "sequence_length=100\n",
    "vocab_size=15000\n",
    "text_vectorization = TextVectorization(\n",
    "    max_tokens=vocab_size,\n",
    "    output_mode='int',\n",
    "    output_sequence_length=sequence_length,\n",
    ")"
   ]
  },
  {
   "cell_type": "code",
   "execution_count": 48,
   "id": "b4f1d8b9-e469-47e0-b901-953ba1e81189",
   "metadata": {},
   "outputs": [],
   "source": [
    "text_vectorization.adapt(dataset)"
   ]
  },
  {
   "cell_type": "code",
   "execution_count": 49,
   "id": "e199abb4-68fa-4b12-b795-843301129114",
   "metadata": {},
   "outputs": [],
   "source": [
    "def prepare_lm_dataset(text_batch):\n",
    "    vectorized_sequences=text_vectorization(text_batch)\n",
    "    x = vectorized_sequences[:, :-1]\n",
    "    y = vectorized_sequences[:, 1:]\n",
    "    return x, y"
   ]
  },
  {
   "cell_type": "code",
   "execution_count": 50,
   "id": "252b68c6-a60b-40d3-b4f4-4328d5c75d42",
   "metadata": {},
   "outputs": [],
   "source": [
    "lm_dataset = prepare_lm_dataset(dataset)"
   ]
  },
  {
   "cell_type": "code",
   "execution_count": 51,
   "id": "8e62648a-79ed-4248-96a5-63cce893e901",
   "metadata": {},
   "outputs": [],
   "source": [
    "from tensorflow.keras import layers"
   ]
  },
  {
   "cell_type": "code",
   "execution_count": 52,
   "id": "c3685508-d83c-4743-be51-54038a58aa7f",
   "metadata": {},
   "outputs": [],
   "source": [
    "embed_dim = 256\n",
    "latent_dim = 2048\n",
    "num_heads = 2"
   ]
  },
  {
   "cell_type": "code",
   "execution_count": 54,
   "id": "62cf720b-7896-4198-a25b-6b5a93fd0cd2",
   "metadata": {},
   "outputs": [],
   "source": [
    "class PositionalEmbedding(layers.Layer):\n",
    "    def __init__(self, sequence_length, input_dim, output_dim, **kwargs):\n",
    "        super().__init__(**kwargs)\n",
    "        self.token_embeddings = layers.Embedding(\n",
    "        input_dim=input_dim, output_dim=output_dim)\n",
    "        self.position_embeddings = layers.Embedding(\n",
    "        input_dim=sequence_length, output_dim=output_dim)\n",
    "        self.sequence_length = sequence_length\n",
    "        self.input_dim = input_dim\n",
    "        self.output_dim = output_dim\n",
    "    def call(self, inputs):\n",
    "        length = tf.shape(inputs)[-1]\n",
    "        positions = tf.range(start=0, limit=length, delta=1)\n",
    "        embedded_tokens = self.token_embeddings(inputs)\n",
    "        embedded_positions = self.position_embeddings(positions)\n",
    "        return embedded_tokens + embedded_positions\n",
    "    def compute_mask(self, inputs, mask=None):\n",
    "        return tf.math.not_equal(inputs, 0)\n",
    "    def get_config(self):\n",
    "        config = super().get_config()\n",
    "        config.update({\n",
    "        \"output_dim\": self.output_dim,\n",
    "            \"sequence_length\": self.sequence_length,\n",
    "            \"input_dim\": self.input_dim,})\n",
    "        return config"
   ]
  },
  {
   "cell_type": "code",
   "execution_count": 55,
   "id": "85706c02-371e-4fc3-a89e-803b7725b347",
   "metadata": {},
   "outputs": [
    {
     "name": "stdout",
     "output_type": "stream",
     "text": [
      "WARNING:tensorflow:From C:\\Users\\reesh\\anaconda3\\envs\\deepl\\Lib\\site-packages\\keras\\src\\backend\\tensorflow\\core.py:184: The name tf.placeholder is deprecated. Please use tf.compat.v1.placeholder instead.\n",
      "\n"
     ]
    },
    {
     "ename": "ValueError",
     "evalue": "A KerasTensor cannot be used as input to a TensorFlow function. A KerasTensor is a symbolic placeholder for a shape and dtype, used when constructing Keras Functional models or Keras Functions. You can only use it as input to a Keras layer or a Keras operation (from the namespaces `keras.layers` and `keras.operations`). You are likely doing something like:\n\n```\nx = Input(...)\n...\ntf_fn(x)  # Invalid.\n```\n\nWhat you should do instead is wrap `tf_fn` in a layer:\n\n```\nclass MyLayer(Layer):\n    def call(self, x):\n        return tf_fn(x)\n\nx = MyLayer()(x)\n```\n",
     "output_type": "error",
     "traceback": [
      "\u001b[1;31m---------------------------------------------------------------------------\u001b[0m",
      "\u001b[1;31mValueError\u001b[0m                                Traceback (most recent call last)",
      "Cell \u001b[1;32mIn[55], line 2\u001b[0m\n\u001b[0;32m      1\u001b[0m inputs \u001b[38;5;241m=\u001b[39m keras\u001b[38;5;241m.\u001b[39mInput(shape\u001b[38;5;241m=\u001b[39m(\u001b[38;5;28;01mNone\u001b[39;00m, ), dtype\u001b[38;5;241m=\u001b[39m\u001b[38;5;124m'\u001b[39m\u001b[38;5;124mint64\u001b[39m\u001b[38;5;124m'\u001b[39m)\n\u001b[1;32m----> 2\u001b[0m x \u001b[38;5;241m=\u001b[39m \u001b[43mPositionalEmbedding\u001b[49m\u001b[43m(\u001b[49m\u001b[43msequence_length\u001b[49m\u001b[43m,\u001b[49m\u001b[43m \u001b[49m\u001b[43mvocab_size\u001b[49m\u001b[43m,\u001b[49m\u001b[43m \u001b[49m\u001b[43membed_dim\u001b[49m\u001b[43m)\u001b[49m\u001b[43m(\u001b[49m\u001b[43minputs\u001b[49m\u001b[43m)\u001b[49m\n",
      "File \u001b[1;32m~\\anaconda3\\envs\\deepl\\Lib\\site-packages\\keras\\src\\utils\\traceback_utils.py:122\u001b[0m, in \u001b[0;36mfilter_traceback.<locals>.error_handler\u001b[1;34m(*args, **kwargs)\u001b[0m\n\u001b[0;32m    119\u001b[0m     filtered_tb \u001b[38;5;241m=\u001b[39m _process_traceback_frames(e\u001b[38;5;241m.\u001b[39m__traceback__)\n\u001b[0;32m    120\u001b[0m     \u001b[38;5;66;03m# To get the full stack trace, call:\u001b[39;00m\n\u001b[0;32m    121\u001b[0m     \u001b[38;5;66;03m# `keras.config.disable_traceback_filtering()`\u001b[39;00m\n\u001b[1;32m--> 122\u001b[0m     \u001b[38;5;28;01mraise\u001b[39;00m e\u001b[38;5;241m.\u001b[39mwith_traceback(filtered_tb) \u001b[38;5;28;01mfrom\u001b[39;00m \u001b[38;5;28;01mNone\u001b[39;00m\n\u001b[0;32m    123\u001b[0m \u001b[38;5;28;01mfinally\u001b[39;00m:\n\u001b[0;32m    124\u001b[0m     \u001b[38;5;28;01mdel\u001b[39;00m filtered_tb\n",
      "Cell \u001b[1;32mIn[54], line 18\u001b[0m, in \u001b[0;36mPositionalEmbedding.compute_mask\u001b[1;34m(self, inputs, mask)\u001b[0m\n\u001b[0;32m     17\u001b[0m \u001b[38;5;28;01mdef\u001b[39;00m \u001b[38;5;21mcompute_mask\u001b[39m(\u001b[38;5;28mself\u001b[39m, inputs, mask\u001b[38;5;241m=\u001b[39m\u001b[38;5;28;01mNone\u001b[39;00m):\n\u001b[1;32m---> 18\u001b[0m     \u001b[38;5;28;01mreturn\u001b[39;00m \u001b[43mtf\u001b[49m\u001b[38;5;241;43m.\u001b[39;49m\u001b[43mmath\u001b[49m\u001b[38;5;241;43m.\u001b[39;49m\u001b[43mnot_equal\u001b[49m\u001b[43m(\u001b[49m\u001b[43minputs\u001b[49m\u001b[43m,\u001b[49m\u001b[43m \u001b[49m\u001b[38;5;241;43m0\u001b[39;49m\u001b[43m)\u001b[49m\n",
      "\u001b[1;31mValueError\u001b[0m: A KerasTensor cannot be used as input to a TensorFlow function. A KerasTensor is a symbolic placeholder for a shape and dtype, used when constructing Keras Functional models or Keras Functions. You can only use it as input to a Keras layer or a Keras operation (from the namespaces `keras.layers` and `keras.operations`). You are likely doing something like:\n\n```\nx = Input(...)\n...\ntf_fn(x)  # Invalid.\n```\n\nWhat you should do instead is wrap `tf_fn` in a layer:\n\n```\nclass MyLayer(Layer):\n    def call(self, x):\n        return tf_fn(x)\n\nx = MyLayer()(x)\n```\n"
     ]
    }
   ],
   "source": [
    "inputs = keras.Input(shape=(None, ), dtype='int64')\n",
    "x = PositionalEmbedding(sequence_length, vocab_size, embed_dim)(inputs)"
   ]
  },
  {
   "cell_type": "code",
   "execution_count": null,
   "id": "7e9fd87f-7baa-474e-b77c-93a820ee1b67",
   "metadata": {},
   "outputs": [],
   "source": []
  },
  {
   "cell_type": "code",
   "execution_count": null,
   "id": "4c8bb7f2-130e-4f03-b3f7-8827ccabb60d",
   "metadata": {},
   "outputs": [],
   "source": []
  },
  {
   "cell_type": "code",
   "execution_count": null,
   "id": "1e488ba3-db5a-4f39-9d81-70284f553b93",
   "metadata": {},
   "outputs": [],
   "source": []
  },
  {
   "cell_type": "code",
   "execution_count": null,
   "id": "fd23f400-6214-4105-bb9f-ab99a514d1a3",
   "metadata": {},
   "outputs": [],
   "source": []
  },
  {
   "cell_type": "code",
   "execution_count": null,
   "id": "b9c9f0dd-a6af-42eb-b9b7-6981cb247ffe",
   "metadata": {},
   "outputs": [],
   "source": []
  },
  {
   "cell_type": "code",
   "execution_count": null,
   "id": "86fc52cf-2dcd-4f56-a2bb-a7c5d2892306",
   "metadata": {},
   "outputs": [],
   "source": []
  }
 ],
 "metadata": {
  "kernelspec": {
   "display_name": "Python 3 (ipykernel)",
   "language": "python",
   "name": "python3"
  },
  "language_info": {
   "codemirror_mode": {
    "name": "ipython",
    "version": 3
   },
   "file_extension": ".py",
   "mimetype": "text/x-python",
   "name": "python",
   "nbconvert_exporter": "python",
   "pygments_lexer": "ipython3",
   "version": "3.12.3"
  }
 },
 "nbformat": 4,
 "nbformat_minor": 5
}
