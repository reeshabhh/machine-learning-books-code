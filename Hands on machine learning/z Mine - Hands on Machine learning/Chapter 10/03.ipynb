{
 "cells": [
  {
   "cell_type": "markdown",
   "id": "39bcf364-3256-4854-8ac4-d0be000a1126",
   "metadata": {},
   "source": [
    "# Building a Regression MLP Using the Sequential API"
   ]
  },
  {
   "cell_type": "code",
   "execution_count": 1,
   "id": "4d7440b2-d615-4561-8115-a1a5eb4bdbec",
   "metadata": {},
   "outputs": [],
   "source": [
    "import warnings\n",
    "warnings.filterwarnings(action=\"ignore\", category=DeprecationWarning)\n",
    "\n",
    "import tensorflow as tf\n",
    "from tensorflow import keras\n",
    "import matplotlib.pyplot as plt\n",
    "from IPython.display import display\n",
    "import numpy as np, pandas as pd\n",
    "import keras\n",
    "import time"
   ]
  },
  {
   "cell_type": "code",
   "execution_count": 2,
   "id": "b856dfb9-a358-4a9d-a6b2-20dec7e96938",
   "metadata": {},
   "outputs": [],
   "source": [
    "from sklearn.datasets import fetch_california_housing\n",
    "from sklearn.model_selection import train_test_split\n",
    "from sklearn.preprocessing import StandardScaler\n",
    "from sklearn.metrics import mean_squared_error as mse"
   ]
  },
  {
   "cell_type": "code",
   "execution_count": 3,
   "id": "b35e9435-0d6c-4e89-a277-1389cdd82749",
   "metadata": {},
   "outputs": [],
   "source": [
    "housing = fetch_california_housing()\n",
    "# print(housing)"
   ]
  },
  {
   "cell_type": "code",
   "execution_count": 4,
   "id": "53287200-cef8-48a3-9725-710ea05a7d5c",
   "metadata": {},
   "outputs": [],
   "source": [
    "X_train_full, X_test, y_train_full, y_test = train_test_split(housing.data, housing.target, random_state=42)"
   ]
  },
  {
   "cell_type": "code",
   "execution_count": 5,
   "id": "28be03c4-4b9c-4033-9239-9f1a3d032d2d",
   "metadata": {},
   "outputs": [],
   "source": [
    "X_train, X_valid, y_train, y_valid = train_test_split(X_train_full, y_train_full)"
   ]
  },
  {
   "cell_type": "code",
   "execution_count": 6,
   "id": "bc7eeb05-bbd7-4313-893f-629b8f7475b0",
   "metadata": {},
   "outputs": [],
   "source": [
    "scaler = StandardScaler()\n",
    "X_train = scaler.fit_transform(X_train)\n",
    "X_valid = scaler.transform(X_valid)\n",
    "X_test = scaler.transform(X_test)"
   ]
  },
  {
   "cell_type": "code",
   "execution_count": 7,
   "id": "53f6f165-cc37-432c-931e-7f63d7b1307d",
   "metadata": {},
   "outputs": [
    {
     "data": {
      "text/plain": [
       "(8,)"
      ]
     },
     "execution_count": 7,
     "metadata": {},
     "output_type": "execute_result"
    }
   ],
   "source": [
    "X_train.shape[1:]"
   ]
  },
  {
   "cell_type": "code",
   "execution_count": 7,
   "id": "f6ea733b-ffa4-40ed-80cf-feeeaa51ae07",
   "metadata": {},
   "outputs": [
    {
     "name": "stdout",
     "output_type": "stream",
     "text": [
      "WARNING:tensorflow:From C:\\Users\\reesh\\anaconda3\\envs\\hands\\Lib\\site-packages\\keras\\src\\backend.py:873: The name tf.get_default_graph is deprecated. Please use tf.compat.v1.get_default_graph instead.\n",
      "\n"
     ]
    }
   ],
   "source": [
    "model = keras.models.Sequential([\n",
    "                                keras.layers.Dense(30, activation=\"relu\", input_shape=X_train.shape[1:]),\n",
    "                                keras.layers.Dense(1)\n",
    "                                ])"
   ]
  },
  {
   "cell_type": "code",
   "execution_count": 8,
   "id": "a15cc8b5-6da0-4b73-82f5-6ec417b43a65",
   "metadata": {},
   "outputs": [
    {
     "name": "stdout",
     "output_type": "stream",
     "text": [
      "WARNING:tensorflow:From C:\\Users\\reesh\\anaconda3\\envs\\hands\\Lib\\site-packages\\keras\\src\\optimizers\\__init__.py:309: The name tf.train.Optimizer is deprecated. Please use tf.compat.v1.train.Optimizer instead.\n",
      "\n",
      "Epoch 1/20\n",
      "WARNING:tensorflow:From C:\\Users\\reesh\\anaconda3\\envs\\hands\\Lib\\site-packages\\keras\\src\\utils\\tf_utils.py:492: The name tf.ragged.RaggedTensorValue is deprecated. Please use tf.compat.v1.ragged.RaggedTensorValue instead.\n",
      "\n",
      "363/363 [==============================] - 1s 3ms/step - loss: 0.8730 - val_loss: 2.1901\n",
      "Epoch 2/20\n",
      "363/363 [==============================] - 1s 2ms/step - loss: 0.6127 - val_loss: 0.5237\n",
      "Epoch 3/20\n",
      "363/363 [==============================] - 1s 2ms/step - loss: 0.4651 - val_loss: 0.4879\n",
      "Epoch 4/20\n",
      "363/363 [==============================] - 1s 2ms/step - loss: 0.4406 - val_loss: 0.4601\n",
      "Epoch 5/20\n",
      "363/363 [==============================] - 1s 2ms/step - loss: 0.4239 - val_loss: 0.4440\n",
      "Epoch 6/20\n",
      "363/363 [==============================] - 1s 2ms/step - loss: 0.4137 - val_loss: 0.4364\n",
      "Epoch 7/20\n",
      "363/363 [==============================] - 1s 2ms/step - loss: 0.4083 - val_loss: 0.4259\n",
      "Epoch 8/20\n",
      "363/363 [==============================] - 1s 2ms/step - loss: 0.3995 - val_loss: 0.4227\n",
      "Epoch 9/20\n",
      "363/363 [==============================] - 1s 2ms/step - loss: 0.3931 - val_loss: 0.4134\n",
      "Epoch 10/20\n",
      "363/363 [==============================] - 1s 2ms/step - loss: 0.3878 - val_loss: 0.4070\n",
      "Epoch 11/20\n",
      "363/363 [==============================] - 1s 2ms/step - loss: 0.3849 - val_loss: 0.4016\n",
      "Epoch 12/20\n",
      "363/363 [==============================] - 1s 2ms/step - loss: 0.3791 - val_loss: 0.3968\n",
      "Epoch 13/20\n",
      "363/363 [==============================] - 1s 2ms/step - loss: 0.3743 - val_loss: 0.3919\n",
      "Epoch 14/20\n",
      "363/363 [==============================] - 1s 2ms/step - loss: 0.3713 - val_loss: 0.3883\n",
      "Epoch 15/20\n",
      "363/363 [==============================] - 1s 2ms/step - loss: 0.3683 - val_loss: 0.3947\n",
      "Epoch 16/20\n",
      "363/363 [==============================] - 1s 2ms/step - loss: 0.3660 - val_loss: 0.3774\n",
      "Epoch 17/20\n",
      "363/363 [==============================] - 1s 2ms/step - loss: 0.3628 - val_loss: 0.3808\n",
      "Epoch 18/20\n",
      "363/363 [==============================] - 1s 2ms/step - loss: 0.3623 - val_loss: 0.3762\n",
      "Epoch 19/20\n",
      "363/363 [==============================] - 1s 2ms/step - loss: 0.3658 - val_loss: 0.3819\n",
      "Epoch 20/20\n",
      "363/363 [==============================] - 1s 2ms/step - loss: 0.3591 - val_loss: 0.3710\n"
     ]
    }
   ],
   "source": [
    "model.compile(loss=\"mean_squared_error\", optimizer=\"sgd\")\n",
    "history = model.fit(X_train, y_train, epochs=20,\n",
    "validation_data=(X_valid, y_valid))"
   ]
  },
  {
   "cell_type": "code",
   "execution_count": 9,
   "id": "0b8f1431-4b78-4228-8635-de742b0f1265",
   "metadata": {},
   "outputs": [
    {
     "name": "stdout",
     "output_type": "stream",
     "text": [
      "162/162 [==============================] - 0s 1ms/step - loss: 0.3628\n"
     ]
    }
   ],
   "source": [
    "mse_test = model.evaluate(X_test, y_test)"
   ]
  },
  {
   "cell_type": "code",
   "execution_count": 10,
   "id": "69a6a612-f558-406c-8b2b-b5a7490d49b9",
   "metadata": {},
   "outputs": [
    {
     "name": "stdout",
     "output_type": "stream",
     "text": [
      "1/1 [==============================] - 0s 71ms/step\n"
     ]
    }
   ],
   "source": [
    "X_new = X_test[:3] # pretend these are new instances\n",
    "y_pred = model.predict(X_new)"
   ]
  },
  {
   "cell_type": "code",
   "execution_count": 11,
   "id": "cdb0d5cf-1b0c-4adb-8a5a-eb4263b204a3",
   "metadata": {},
   "outputs": [
    {
     "data": {
      "text/plain": [
       "array([0.477  , 0.458  , 5.00001])"
      ]
     },
     "execution_count": 11,
     "metadata": {},
     "output_type": "execute_result"
    }
   ],
   "source": [
    "y_test[:3]"
   ]
  },
  {
   "cell_type": "code",
   "execution_count": 12,
   "id": "5700296d-a4fd-4c01-9ec7-2fe27e2ffb57",
   "metadata": {},
   "outputs": [
    {
     "data": {
      "text/plain": [
       "array([[0.6318078],\n",
       "       [1.4840474],\n",
       "       [3.708517 ]], dtype=float32)"
      ]
     },
     "execution_count": 12,
     "metadata": {},
     "output_type": "execute_result"
    }
   ],
   "source": [
    "y_pred"
   ]
  },
  {
   "cell_type": "code",
   "execution_count": 13,
   "id": "c640b3d8-6058-477a-b57e-cd715071ebe1",
   "metadata": {},
   "outputs": [
    {
     "data": {
      "text/plain": [
       "0.914897575357234"
      ]
     },
     "execution_count": 13,
     "metadata": {},
     "output_type": "execute_result"
    }
   ],
   "source": [
    "mse(y_pred, y_test[:3])"
   ]
  },
  {
   "cell_type": "code",
   "execution_count": 14,
   "id": "730b861d-8006-4ad2-9456-51f66760d847",
   "metadata": {},
   "outputs": [
    {
     "name": "stdout",
     "output_type": "stream",
     "text": [
      "1/1 [==============================] - 0s 26ms/step - loss: 0.9149\n"
     ]
    },
    {
     "data": {
      "text/plain": [
       "0.914897620677948"
      ]
     },
     "execution_count": 14,
     "metadata": {},
     "output_type": "execute_result"
    }
   ],
   "source": [
    "model.evaluate(X_test[:3], y_test[:3])"
   ]
  },
  {
   "cell_type": "code",
   "execution_count": null,
   "id": "392ec6e6-2bf8-4142-8129-e10e8173866b",
   "metadata": {},
   "outputs": [],
   "source": []
  },
  {
   "cell_type": "markdown",
   "id": "aac61a23-0ce8-4cc4-90dc-63585d3ba721",
   "metadata": {},
   "source": [
    "# Saving and Restoring a Model"
   ]
  },
  {
   "cell_type": "code",
   "execution_count": 15,
   "id": "66445fe0-7326-47ec-8782-afbf06abad2f",
   "metadata": {},
   "outputs": [],
   "source": [
    "model.save(\"3_my_keras_model.keras\")"
   ]
  },
  {
   "cell_type": "code",
   "execution_count": 16,
   "id": "a74da4aa-46f3-40ea-91a7-87731f4177ed",
   "metadata": {},
   "outputs": [],
   "source": [
    "loaded_model = keras.models.load_model(\"3_my_keras_model.keras\")"
   ]
  },
  {
   "cell_type": "code",
   "execution_count": 38,
   "id": "f68fa956-b541-4cb3-9ea5-b56cc61cb745",
   "metadata": {},
   "outputs": [],
   "source": [
    "from datetime import datetime\n",
    "from time import strftime, localtime"
   ]
  },
  {
   "cell_type": "code",
   "execution_count": 35,
   "id": "73409114-4614-48e4-91a2-74c40c340ed2",
   "metadata": {},
   "outputs": [
    {
     "data": {
      "text/plain": [
       "'05-Dec-2023 10:48 PM'"
      ]
     },
     "execution_count": 35,
     "metadata": {},
     "output_type": "execute_result"
    }
   ],
   "source": [
    "datetime.now().strftime('%d-%b-%Y %I:%M %p')"
   ]
  },
  {
   "cell_type": "code",
   "execution_count": 36,
   "id": "39506179-40d8-4794-8ee2-68c6590df950",
   "metadata": {},
   "outputs": [
    {
     "data": {
      "text/plain": [
       "1701796748.8890254"
      ]
     },
     "execution_count": 36,
     "metadata": {},
     "output_type": "execute_result"
    }
   ],
   "source": [
    "time.time()"
   ]
  },
  {
   "cell_type": "code",
   "execution_count": 39,
   "id": "8aac6ab1-e73c-414a-88f7-d52a7b4fe3c6",
   "metadata": {},
   "outputs": [
    {
     "data": {
      "text/plain": [
       "'2023-12-05 22:50:35'"
      ]
     },
     "execution_count": 39,
     "metadata": {},
     "output_type": "execute_result"
    }
   ],
   "source": [
    "strftime('%Y-%m-%d %H:%M:%S', localtime(time.time()))"
   ]
  },
  {
   "cell_type": "markdown",
   "id": "77681e07-4778-4321-83dd-997adc707133",
   "metadata": {},
   "source": [
    "%Y  Year with century as a decimal number.\r\n",
    "%m  Month as a decimal number [01,12].\r\n",
    "%d  Day of the month as a decimal number [01,31].\r\n",
    "%H  Hour (24-hour clock) as a decimal number [00,23].\r\n",
    "%M  Minute as a decimal number [00,59].\r\n",
    "%S  Second as a decimal number [00,61].\r\n",
    "%z  Time zone offset from UTC.\r\n",
    "%a  Locale's abbreviated weekday name.\r\n",
    "%A  Locale's full weekday name.\r\n",
    "%b  Locale's abbreviated month name.\r\n",
    "%B  Locale's full month name.\r\n",
    "%c  Locale's appropriate date and time representation.\r\n",
    "%I  Hour (12-hour clock) as a decimal number [01,12].\r\n",
    "%p  Locale's equivalent of either AM or PM.\r\n",
    "\r\n",
    "Other codes may be available on your platform.  See documentation for\r\n",
    "the C library strftime function."
   ]
  },
  {
   "cell_type": "markdown",
   "id": "73772f46-4929-4745-833b-68c3eb54ee40",
   "metadata": {},
   "source": [
    "+ %Y  Year with century as a decimal number.<br>\r\n",
    "+ %m  Month as a decimal number [01,12]. <br>\r\n",
    "+ %d  Day of the month as a decimal number [01,31].<br>\r\n",
    "+ %H  Hour (24-hour clock) as a decimal number [00,23].<br>\r\n",
    "+ %M  Minute as a decimal number [00,59].<br>\r\n",
    "+ %S  Second as a decimal number [00,61].<br>\r\n",
    "+ %z  Time zone offset from UTC.<br>\r\n",
    "+ %a  Locale's abbreviated weekday name.<br>\r\n",
    "+ %A  Locale's full weekday name.<br>\r\n",
    "+ %b  Locale's abbreviated month name.<br>\r\n",
    "+ %B  Locale's full month name.<br>\r\n",
    "+ %c  Locale's appropriate date and time representation.<br>\r\n",
    "+ %I  Hour (12-hour clock) as a decimal number [01,12].<br>\r\n",
    "+ %p  Locale's equivalent of either AM or PM.<br>\r\n",
    "  <br><br>\r\n",
    "+ Other codes may be available on your platform.  See do entation for\r\n",
    "  the C library strftime function.rftime function."
   ]
  }
 ],
 "metadata": {
  "kernelspec": {
   "display_name": "Python 3 (ipykernel)",
   "language": "python",
   "name": "python3"
  },
  "language_info": {
   "codemirror_mode": {
    "name": "ipython",
    "version": 3
   },
   "file_extension": ".py",
   "mimetype": "text/x-python",
   "name": "python",
   "nbconvert_exporter": "python",
   "pygments_lexer": "ipython3",
   "version": "3.10.13"
  }
 },
 "nbformat": 4,
 "nbformat_minor": 5
}
