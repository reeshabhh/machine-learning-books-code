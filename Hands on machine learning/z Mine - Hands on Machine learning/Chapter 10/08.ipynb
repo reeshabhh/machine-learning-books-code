{
 "cells": [
  {
   "cell_type": "markdown",
   "id": "bf58b967-da97-4ac5-85ab-9f70224b6fd5",
   "metadata": {},
   "source": [
    "# Saving and Restoring a Model"
   ]
  },
  {
   "cell_type": "markdown",
   "id": "24883906-e991-4444-8973-d254b7a09d6e",
   "metadata": {},
   "source": [
    "### When using the Sequential API or the Functional API, saving a trained Keras model\n",
    "### is  as simple as it gets:"
   ]
  },
  {
   "cell_type": "code",
   "execution_count": null,
   "id": "dd536639-30a6-4332-ab90-72ad64e8c321",
   "metadata": {},
   "outputs": [],
   "source": [
    "model = keras.models.Sequential([...]) # or keras.Model([...])\n",
    "model.compile([...])\n",
    "model.fit([...])\n",
    "\n",
    "model.save(\"my_keras_model.keras\")"
   ]
  },
  {
   "cell_type": "code",
   "execution_count": null,
   "id": "a045e94f-f0b4-47c9-bf0e-77824ee083ee",
   "metadata": {},
   "outputs": [],
   "source": [
    "model = keras.models.Sequential([...]) # or keras.Model([...])\n",
    "model.compile([...])\n",
    "model.fit([...])"
   ]
  },
  {
   "cell_type": "code",
   "execution_count": null,
   "id": "91b21a62-f6dc-492c-b0cb-d6b8b8be770c",
   "metadata": {},
   "outputs": [],
   "source": [
    "model.save(\"my_keras_model.keras\")"
   ]
  },
  {
   "cell_type": "markdown",
   "id": "ce8b00ff-e950-478e-8e23-a71564746ea2",
   "metadata": {},
   "source": [
    "### Loading the model is just as easy:"
   ]
  },
  {
   "cell_type": "code",
   "execution_count": null,
   "id": "b9032075-4535-4521-b691-a84fdae2ea7e",
   "metadata": {},
   "outputs": [],
   "source": [
    "model = keras.models.load_model(\"my_keras_model.keras\")"
   ]
  },
  {
   "cell_type": "code",
   "execution_count": null,
   "id": "19767095-31bc-4db5-8afc-893a6b021e5a",
   "metadata": {},
   "outputs": [],
   "source": []
  },
  {
   "cell_type": "markdown",
   "id": "190b4d93-87bb-4eb8-85e7-40193e819ba0",
   "metadata": {},
   "source": [
    "### In case of subclasing api it will not work"
   ]
  },
  {
   "cell_type": "markdown",
   "id": "4800d405-1e62-423d-9141-01efa41596c0",
   "metadata": {},
   "source": [
    "***This will work when using the Sequential API or the Functional\n",
    "API, but unfortunately not when using model subclassing. You can\n",
    "use save_weights() and load_weights() to at least save and\n",
    "restore the model parameters, but you will need to save and restore\n",
    "everything else yours***elf.elf."
   ]
  },
  {
   "cell_type": "code",
   "execution_count": null,
   "id": "b6e944be-3633-4780-82a5-5e060ce1f37d",
   "metadata": {},
   "outputs": [],
   "source": []
  }
 ],
 "metadata": {
  "kernelspec": {
   "display_name": "Python 3 (ipykernel)",
   "language": "python",
   "name": "python3"
  },
  "language_info": {
   "codemirror_mode": {
    "name": "ipython",
    "version": 3
   },
   "file_extension": ".py",
   "mimetype": "text/x-python",
   "name": "python",
   "nbconvert_exporter": "python",
   "pygments_lexer": "ipython3",
   "version": "3.10.13"
  }
 },
 "nbformat": 4,
 "nbformat_minor": 5
}
