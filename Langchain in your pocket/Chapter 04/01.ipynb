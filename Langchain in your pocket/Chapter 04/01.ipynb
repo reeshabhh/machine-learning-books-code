{
 "cells": [
  {
   "cell_type": "code",
   "execution_count": 1,
   "id": "f184b3c8-fa9b-4703-a449-f2714380a68d",
   "metadata": {},
   "outputs": [],
   "source": [
    "from langchain.prompts.chat import (\n",
    "ChatPromptTemplate,\n",
    "SystemMessagePromptTemplate,\n",
    "AIMessagePromptTemplate,\n",
    "HumanMessagePromptTemplate,\n",
    ")"
   ]
  },
  {
   "cell_type": "code",
   "execution_count": 3,
   "id": "a3ab45d0-6e80-4cd9-9d16-0768e7e6e551",
   "metadata": {},
   "outputs": [],
   "source": [
    "import os\n",
    "OPEN_AI_API_KEY = os.environ.get('OPEN_AI_API_KEY')"
   ]
  },
  {
   "cell_type": "code",
   "execution_count": 6,
   "id": "cfbe57c5-a934-4ef9-9d91-32fbe1da2930",
   "metadata": {},
   "outputs": [
    {
     "name": "stdout",
     "output_type": "stream",
     "text": [
      " ········\n"
     ]
    }
   ],
   "source": [
    "from getpass import getpass\n",
    "test = getpass()"
   ]
  },
  {
   "cell_type": "code",
   "execution_count": 7,
   "id": "fd479816-fec7-446f-ad41-001d8c11167d",
   "metadata": {},
   "outputs": [
    {
     "data": {
      "text/plain": [
       "'test'"
      ]
     },
     "execution_count": 7,
     "metadata": {},
     "output_type": "execute_result"
    }
   ],
   "source": [
    "test"
   ]
  },
  {
   "cell_type": "code",
   "execution_count": 9,
   "id": "7bea3311-d983-498f-90cc-ef076ceb7088",
   "metadata": {},
   "outputs": [],
   "source": [
    "template = 'You are a helpful assistant who can give {category} for given input'\n",
    "system_message_prompt = SystemMessagePromptTemplate.from_template(template)\n",
    "human_template = '{text}'\n",
    "human_message_prompt = HumanMessagePromptTemplate.from_template(human_template)\n",
    "chat_prompt = ChatPromptTemplate.from_messages([system_message_prompt, human_message_prompt])"
   ]
  },
  {
   "cell_type": "code",
   "execution_count": 15,
   "id": "3c867c32-ea03-443b-a38d-487f78645993",
   "metadata": {},
   "outputs": [],
   "source": [
    "from langchain.chat_models import ChatOpenAI\n",
    "chat = ChatOpenAI(openai_api_key = OPEN_AI_API_KEY)"
   ]
  },
  {
   "cell_type": "code",
   "execution_count": 17,
   "id": "33413fca-c7af-43bb-a59f-5cfb42b96e8b",
   "metadata": {},
   "outputs": [
    {
     "data": {
      "text/plain": [
       "AIMessage(content='Polite')"
      ]
     },
     "execution_count": 17,
     "metadata": {},
     "output_type": "execute_result"
    }
   ],
   "source": [
    "chat(chat_prompt.format_prompt(category='antonyms', text='Rude').to_messages())"
   ]
  },
  {
   "cell_type": "code",
   "execution_count": 18,
   "id": "785226bd-71eb-47ea-a7e7-f67a384e7fc2",
   "metadata": {},
   "outputs": [
    {
     "data": {
      "text/plain": [
       "AIMessage(content='Polite')"
      ]
     },
     "execution_count": 18,
     "metadata": {},
     "output_type": "execute_result"
    }
   ],
   "source": [
    "chat(chat_prompt.format_prompt(category='antonyms', text='Rude').to_messages())"
   ]
  },
  {
   "cell_type": "code",
   "execution_count": null,
   "id": "ba003942-722a-46d6-9a84-9050513382ea",
   "metadata": {},
   "outputs": [],
   "source": []
  }
 ],
 "metadata": {
  "kernelspec": {
   "display_name": "Python 3 (ipykernel)",
   "language": "python",
   "name": "python3"
  },
  "language_info": {
   "codemirror_mode": {
    "name": "ipython",
    "version": 3
   },
   "file_extension": ".py",
   "mimetype": "text/x-python",
   "name": "python",
   "nbconvert_exporter": "python",
   "pygments_lexer": "ipython3",
   "version": "3.11.6"
  }
 },
 "nbformat": 4,
 "nbformat_minor": 5
}
