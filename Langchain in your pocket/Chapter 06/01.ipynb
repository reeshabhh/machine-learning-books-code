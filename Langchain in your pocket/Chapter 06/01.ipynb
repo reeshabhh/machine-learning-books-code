{
 "cells": [
  {
   "cell_type": "code",
   "execution_count": 1,
   "id": "39bd4bdb-e455-49c1-a0e4-fb3cd60a2783",
   "metadata": {},
   "outputs": [],
   "source": [
    "from langchain.agents import ZeroShotAgent, Tool, AgentExecutor\n",
    "from langchain.memory import ConversationBufferMemory\n",
    "from langchain import OpenAI, LLMChain\n",
    "from langchain.tools import WikipediaQueryRun\n",
    "from langchain.utilities import WikipediaAPIWrapper\n",
    "from langchain.tools import YouTubeSearchTool\n",
    "import os"
   ]
  },
  {
   "cell_type": "code",
   "execution_count": 5,
   "id": "c2d037d5-9419-4242-aa22-c71f924d091a",
   "metadata": {},
   "outputs": [],
   "source": [
    "youtube = YouTubeSearchTool()"
   ]
  },
  {
   "cell_type": "code",
   "execution_count": 6,
   "id": "9d9a6059-53ae-4dbe-a95f-c2a877db62b6",
   "metadata": {},
   "outputs": [],
   "source": [
    "wiki = WikipediaQueryRun(api_wrapper = WikipediaAPIWrapper())"
   ]
  },
  {
   "cell_type": "code",
   "execution_count": 7,
   "id": "1c5a77b7-c8b5-4b07-9b2e-1c020530c854",
   "metadata": {},
   "outputs": [],
   "source": [
    "tools = [\n",
    "    Tool(\n",
    "        name = 'youtube',\n",
    "        func = youtube.run,\n",
    "        description= 'Helps in getting youtube videos',\n",
    "    ),\n",
    "    Tool(\n",
    "        name = 'wiki',\n",
    "        func = wiki.run,\n",
    "        description = 'Useful to search about a popular entity',\n",
    "    )\n",
    "]"
   ]
  },
  {
   "cell_type": "code",
   "execution_count": 8,
   "id": "068c4743-1728-4d6c-870c-787997a9e85a",
   "metadata": {},
   "outputs": [],
   "source": [
    "prefix = 'Answer the questions asked. You have access to the following tools:'\n",
    "suffix = 'Begin!\\\n",
    "{chat_history}\\\n",
    "Question: {input}\\\n",
    "{agent_scratchpad}'"
   ]
  },
  {
   "cell_type": "code",
   "execution_count": null,
   "id": "f6a7e0a2-f554-451f-9c04-5de51581a74a",
   "metadata": {},
   "outputs": [],
   "source": []
  },
  {
   "cell_type": "code",
   "execution_count": null,
   "id": "35bc22bf-b581-4316-98b4-02c66a0d8250",
   "metadata": {},
   "outputs": [],
   "source": []
  },
  {
   "cell_type": "code",
   "execution_count": null,
   "id": "7be3d822-b82d-4c1f-8055-422063d7743f",
   "metadata": {},
   "outputs": [],
   "source": []
  }
 ],
 "metadata": {
  "kernelspec": {
   "display_name": "Python 3 (ipykernel)",
   "language": "python",
   "name": "python3"
  },
  "language_info": {
   "codemirror_mode": {
    "name": "ipython",
    "version": 3
   },
   "file_extension": ".py",
   "mimetype": "text/x-python",
   "name": "python",
   "nbconvert_exporter": "python",
   "pygments_lexer": "ipython3",
   "version": "3.11.6"
  }
 },
 "nbformat": 4,
 "nbformat_minor": 5
}
