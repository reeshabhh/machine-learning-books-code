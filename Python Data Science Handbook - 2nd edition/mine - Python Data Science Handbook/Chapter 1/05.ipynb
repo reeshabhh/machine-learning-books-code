{
 "cells": [
  {
   "cell_type": "markdown",
   "id": "411d9bd5-9e8f-4e0a-9f5b-636e7c2ce75c",
   "metadata": {},
   "source": [
    "#### Suppressing Output"
   ]
  },
  {
   "cell_type": "code",
   "execution_count": 1,
   "id": "9c58cf64-67d1-426c-ac0e-7ec81f7d4c80",
   "metadata": {},
   "outputs": [],
   "source": [
    "import math"
   ]
  },
  {
   "cell_type": "code",
   "execution_count": 2,
   "id": "6feb95dc-8d9e-4442-b1e4-38df49ba04c9",
   "metadata": {},
   "outputs": [],
   "source": [
    "math.sin(2) + math.cos(2);"
   ]
  },
  {
   "cell_type": "code",
   "execution_count": 3,
   "id": "5d67c8fb-c036-48f4-986c-9687243d161b",
   "metadata": {},
   "outputs": [
    {
     "data": {
      "text/plain": [
       "False"
      ]
     },
     "execution_count": 3,
     "metadata": {},
     "output_type": "execute_result"
    }
   ],
   "source": [
    "2 in Out"
   ]
  },
  {
   "cell_type": "code",
   "execution_count": 5,
   "id": "d3b28d1f-f254-4e91-8383-26032e3ff65a",
   "metadata": {},
   "outputs": [
    {
     "name": "stdout",
     "output_type": "stream",
     "text": [
      "import math\n",
      "math.sin(2) + math.cos(2);\n",
      "2 in Out\n",
      "%histort\n",
      "%history\n"
     ]
    }
   ],
   "source": [
    "%history"
   ]
  },
  {
   "cell_type": "code",
   "execution_count": 6,
   "id": "f6e0b1a0-f4d7-477d-8be5-d88a89df370d",
   "metadata": {},
   "outputs": [
    {
     "name": "stdout",
     "output_type": "stream",
     "text": [
      "   1: import math\n",
      "   3: 2 in Out\n"
     ]
    }
   ],
   "source": [
    "%history -n 1 - 3"
   ]
  },
  {
   "cell_type": "code",
   "execution_count": 7,
   "id": "384e2e5c-78c5-4926-a0cc-0420fc2d5693",
   "metadata": {},
   "outputs": [
    {
     "name": "stdout",
     "output_type": "stream",
     "text": [
      "=== Executing: ===\n",
      "%history -n 1 - 3\n",
      "=== Output: ===\n",
      "   1: import math\n",
      "   3: 2 in Out\n"
     ]
    }
   ],
   "source": [
    "%rerun"
   ]
  },
  {
   "cell_type": "code",
   "execution_count": 8,
   "id": "ed9633e6-ef59-4546-b635-51cdbabb730a",
   "metadata": {},
   "outputs": [
    {
     "name": "stderr",
     "output_type": "stream",
     "text": [
      "UsageError: Missing filename.\n"
     ]
    }
   ],
   "source": [
    "%save"
   ]
  },
  {
   "cell_type": "code",
   "execution_count": 9,
   "id": "8ff6397c-5128-47bf-8f9f-3ddd9685662f",
   "metadata": {},
   "outputs": [
    {
     "data": {
      "text/plain": [
       "15"
      ]
     },
     "execution_count": 9,
     "metadata": {},
     "output_type": "execute_result"
    }
   ],
   "source": [
    "5 + 5 + 5"
   ]
  },
  {
   "cell_type": "code",
   "execution_count": 10,
   "id": "32530891-4dcb-4f99-9388-12132e17c713",
   "metadata": {},
   "outputs": [
    {
     "data": {
      "text/plain": [
       "20"
      ]
     },
     "execution_count": 10,
     "metadata": {},
     "output_type": "execute_result"
    }
   ],
   "source": [
    "15 + 5"
   ]
  },
  {
   "cell_type": "code",
   "execution_count": 11,
   "id": "6f935124-5fc0-4291-9ea5-43ca02957997",
   "metadata": {},
   "outputs": [
    {
     "name": "stdout",
     "output_type": "stream",
     "text": [
      "=== Executing: ===\n",
      "15 + 5\n",
      "=== Output: ===\n"
     ]
    },
    {
     "data": {
      "text/plain": [
       "20"
      ]
     },
     "execution_count": 11,
     "metadata": {},
     "output_type": "execute_result"
    }
   ],
   "source": [
    "%rerun"
   ]
  },
  {
   "cell_type": "code",
   "execution_count": null,
   "id": "cc222744-2c8c-458b-b41a-0d436f43fcee",
   "metadata": {},
   "outputs": [],
   "source": []
  },
  {
   "cell_type": "code",
   "execution_count": null,
   "id": "86b4ad82-43ca-4bf5-b59a-5e73f8f68705",
   "metadata": {},
   "outputs": [],
   "source": []
  },
  {
   "cell_type": "code",
   "execution_count": null,
   "id": "99929146-85b7-4ef0-a7a6-6fa9701546d8",
   "metadata": {},
   "outputs": [],
   "source": []
  },
  {
   "cell_type": "code",
   "execution_count": null,
   "id": "34c2b57d-ff58-47aa-8eec-a85ae7efba32",
   "metadata": {},
   "outputs": [],
   "source": []
  }
 ],
 "metadata": {
  "kernelspec": {
   "display_name": "Python 3 (ipykernel)",
   "language": "python",
   "name": "python3"
  },
  "language_info": {
   "codemirror_mode": {
    "name": "ipython",
    "version": 3
   },
   "file_extension": ".py",
   "mimetype": "text/x-python",
   "name": "python",
   "nbconvert_exporter": "python",
   "pygments_lexer": "ipython3",
   "version": "3.11.6"
  }
 },
 "nbformat": 4,
 "nbformat_minor": 5
}
