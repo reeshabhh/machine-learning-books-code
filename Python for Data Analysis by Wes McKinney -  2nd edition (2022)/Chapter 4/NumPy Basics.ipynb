{
 "cells": [
  {
   "cell_type": "code",
   "execution_count": 63,
   "id": "05975d2d-ffc7-40d3-8632-d7c25f697d0c",
   "metadata": {},
   "outputs": [],
   "source": [
    "import numpy as np"
   ]
  },
  {
   "cell_type": "code",
   "execution_count": 64,
   "id": "e47a250b-0097-4af7-b5c9-678979124dd4",
   "metadata": {},
   "outputs": [
    {
     "data": {
      "text/plain": [
       "array([[1., 0., 0., 0.],\n",
       "       [0., 1., 0., 0.],\n",
       "       [0., 0., 1., 0.]])"
      ]
     },
     "execution_count": 64,
     "metadata": {},
     "output_type": "execute_result"
    }
   ],
   "source": [
    "np.eye(3,4)"
   ]
  },
  {
   "cell_type": "code",
   "execution_count": 65,
   "id": "08044e28-22b8-44df-9577-397a48b96f59",
   "metadata": {},
   "outputs": [],
   "source": [
    "a = np.random.rand(1, 10,)"
   ]
  },
  {
   "cell_type": "code",
   "execution_count": 66,
   "id": "22ea0522-9bb2-46e5-a19a-dade8261bf78",
   "metadata": {},
   "outputs": [
    {
     "data": {
      "text/plain": [
       "array([[0.1367, 0.1616, 0.2365, 0.4473, 0.642 , 0.6265, 0.751 , 0.571 ,\n",
       "        0.8037, 0.635 ]], dtype=float16)"
      ]
     },
     "execution_count": 66,
     "metadata": {},
     "output_type": "execute_result"
    }
   ],
   "source": [
    "np.array(a, dtype='f2')"
   ]
  },
  {
   "cell_type": "code",
   "execution_count": 67,
   "id": "94499990-475f-40cc-957d-2768d2832302",
   "metadata": {},
   "outputs": [
    {
     "data": {
      "text/plain": [
       "array([[10, 10, 10, 10, 10]])"
      ]
     },
     "execution_count": 67,
     "metadata": {},
     "output_type": "execute_result"
    }
   ],
   "source": [
    "np.full(shape=(1, 5), fill_value=10)"
   ]
  },
  {
   "cell_type": "code",
   "execution_count": 68,
   "id": "2912d715-653a-448a-8b00-ee96fe9de97b",
   "metadata": {},
   "outputs": [
    {
     "data": {
      "text/plain": [
       "array([[100, 100, 100, 100, 100]])"
      ]
     },
     "execution_count": 68,
     "metadata": {},
     "output_type": "execute_result"
    }
   ],
   "source": [
    "np.full_like(np.full(shape=(1, 5), fill_value=10), fill_value=100)"
   ]
  },
  {
   "cell_type": "code",
   "execution_count": 69,
   "id": "831dfcfe-5615-489a-8a59-04cc83c073f2",
   "metadata": {},
   "outputs": [],
   "source": [
    "arr = np.zeros((8, 4))"
   ]
  },
  {
   "cell_type": "code",
   "execution_count": 70,
   "id": "2cf3b79e-c967-4be7-82e5-178a18094e09",
   "metadata": {},
   "outputs": [],
   "source": [
    "for i in range(8):\n",
    "    arr[i] = i"
   ]
  },
  {
   "cell_type": "code",
   "execution_count": 71,
   "id": "b3f1746f-50ea-4707-b2d5-e657a581b3ed",
   "metadata": {},
   "outputs": [
    {
     "data": {
      "text/plain": [
       "array([[4., 4., 4., 4.],\n",
       "       [3., 3., 3., 3.],\n",
       "       [0., 0., 0., 0.]])"
      ]
     },
     "execution_count": 71,
     "metadata": {},
     "output_type": "execute_result"
    }
   ],
   "source": [
    "arr[[4, 3, 0]]"
   ]
  },
  {
   "cell_type": "code",
   "execution_count": 72,
   "id": "7ff367f3-0928-4465-b575-11ce09533290",
   "metadata": {},
   "outputs": [
    {
     "data": {
      "text/plain": [
       "4.0"
      ]
     },
     "execution_count": 72,
     "metadata": {},
     "output_type": "execute_result"
    }
   ],
   "source": [
    "arr[4, 3,]"
   ]
  },
  {
   "cell_type": "code",
   "execution_count": 73,
   "id": "612b0ee9-423e-48d3-a858-039d786e223f",
   "metadata": {},
   "outputs": [
    {
     "data": {
      "text/plain": [
       "array([[5., 5., 5., 5.],\n",
       "       [3., 3., 3., 3.],\n",
       "       [1., 1., 1., 1.]])"
      ]
     },
     "execution_count": 73,
     "metadata": {},
     "output_type": "execute_result"
    }
   ],
   "source": [
    "arr[[-3, -5, -7]]"
   ]
  },
  {
   "cell_type": "code",
   "execution_count": 74,
   "id": "7c07aad2-dd53-4a40-b79c-949a2b026c65",
   "metadata": {},
   "outputs": [
    {
     "data": {
      "text/plain": [
       "array([5., 5., 5., 5.])"
      ]
     },
     "execution_count": 74,
     "metadata": {},
     "output_type": "execute_result"
    }
   ],
   "source": [
    "arr[-3]"
   ]
  },
  {
   "cell_type": "code",
   "execution_count": 75,
   "id": "355321ae-5a99-4cff-9ae5-23be6f6e5b3d",
   "metadata": {},
   "outputs": [
    {
     "data": {
      "text/plain": [
       "5.0"
      ]
     },
     "execution_count": 75,
     "metadata": {},
     "output_type": "execute_result"
    }
   ],
   "source": [
    "arr[-3, -0]"
   ]
  },
  {
   "cell_type": "code",
   "execution_count": 76,
   "id": "1463d608-1ef8-4419-8f9b-9e52758130ac",
   "metadata": {},
   "outputs": [],
   "source": [
    "arr = np.arange(32).reshape((8, 4))"
   ]
  },
  {
   "cell_type": "code",
   "execution_count": 77,
   "id": "622de528-29ba-437f-98f7-d4d0bb282702",
   "metadata": {},
   "outputs": [
    {
     "data": {
      "text/plain": [
       "array([[ 4,  5,  6,  7],\n",
       "       [20, 21, 22, 23],\n",
       "       [28, 29, 30, 31],\n",
       "       [ 8,  9, 10, 11]])"
      ]
     },
     "execution_count": 77,
     "metadata": {},
     "output_type": "execute_result"
    }
   ],
   "source": [
    "arr[[1, 5, 7, 2],]"
   ]
  },
  {
   "cell_type": "code",
   "execution_count": 78,
   "id": "46416f0a-9a59-4cdd-b7b3-33a5a71c2c7d",
   "metadata": {},
   "outputs": [
    {
     "data": {
      "text/plain": [
       "array([[ 0,  1,  2,  3],\n",
       "       [12, 13, 14, 15],\n",
       "       [ 4,  5,  6,  7],\n",
       "       [ 8,  9, 10, 11]])"
      ]
     },
     "execution_count": 78,
     "metadata": {},
     "output_type": "execute_result"
    }
   ],
   "source": [
    "arr[[0, 3, 1, 2]]"
   ]
  },
  {
   "cell_type": "code",
   "execution_count": 79,
   "id": "48094446-4fb7-4d59-95e7-9db6d9e09289",
   "metadata": {},
   "outputs": [
    {
     "data": {
      "text/plain": [
       "array([ 4, 23, 29, 10])"
      ]
     },
     "execution_count": 79,
     "metadata": {},
     "output_type": "execute_result"
    }
   ],
   "source": [
    "arr[[1, 5, 7, 2], [0, 3, 1, 2]]"
   ]
  },
  {
   "cell_type": "code",
   "execution_count": 80,
   "id": "1476bbc3-a8ef-4289-93a5-a82e252e2591",
   "metadata": {},
   "outputs": [
    {
     "data": {
      "text/plain": [
       "4"
      ]
     },
     "execution_count": 80,
     "metadata": {},
     "output_type": "execute_result"
    }
   ],
   "source": [
    "arr[1, 0]"
   ]
  },
  {
   "cell_type": "code",
   "execution_count": 81,
   "id": "75b15bce-3a96-4bc5-9d43-8df3bc3ac2fa",
   "metadata": {},
   "outputs": [
    {
     "data": {
      "text/plain": [
       "23"
      ]
     },
     "execution_count": 81,
     "metadata": {},
     "output_type": "execute_result"
    }
   ],
   "source": [
    "arr[5, 3]"
   ]
  },
  {
   "cell_type": "code",
   "execution_count": 82,
   "id": "02b98281-cbc2-4d4f-ab2f-a21a4d1b1dc7",
   "metadata": {},
   "outputs": [
    {
     "data": {
      "text/plain": [
       "29"
      ]
     },
     "execution_count": 82,
     "metadata": {},
     "output_type": "execute_result"
    }
   ],
   "source": [
    "arr[7, 1]"
   ]
  },
  {
   "cell_type": "code",
   "execution_count": 83,
   "id": "b090bf31-e39d-4c9d-8894-a147dec95a2d",
   "metadata": {},
   "outputs": [
    {
     "data": {
      "text/plain": [
       "10"
      ]
     },
     "execution_count": 83,
     "metadata": {},
     "output_type": "execute_result"
    }
   ],
   "source": [
    "arr[2, 2]"
   ]
  },
  {
   "cell_type": "code",
   "execution_count": 84,
   "id": "35c3d75e-0235-4947-a7e7-91b19a44d256",
   "metadata": {},
   "outputs": [
    {
     "data": {
      "text/plain": [
       "array([[ 4,  5,  6,  7],\n",
       "       [20, 21, 22, 23],\n",
       "       [28, 29, 30, 31],\n",
       "       [ 8,  9, 10, 11]])"
      ]
     },
     "execution_count": 84,
     "metadata": {},
     "output_type": "execute_result"
    }
   ],
   "source": [
    "arr[[1, 5, 7, 2]]"
   ]
  },
  {
   "cell_type": "code",
   "execution_count": 85,
   "id": "d1adc5d6-f5b1-464d-a11d-2e81fe1c7ae0",
   "metadata": {},
   "outputs": [
    {
     "data": {
      "text/plain": [
       "array([[ 4,  5,  6,  7],\n",
       "       [20, 21, 22, 23],\n",
       "       [28, 29, 30, 31],\n",
       "       [ 8,  9, 10, 11]])"
      ]
     },
     "execution_count": 85,
     "metadata": {},
     "output_type": "execute_result"
    }
   ],
   "source": [
    "arr[[1, 5, 7, 2]][:]"
   ]
  },
  {
   "cell_type": "code",
   "execution_count": 86,
   "id": "fc482acf-190b-410c-8266-aa67dde61a09",
   "metadata": {},
   "outputs": [
    {
     "data": {
      "text/plain": [
       "array([ 5, 21, 29,  9])"
      ]
     },
     "execution_count": 86,
     "metadata": {},
     "output_type": "execute_result"
    }
   ],
   "source": [
    "arr[[1, 5, 7, 2]][:, 1]"
   ]
  },
  {
   "cell_type": "code",
   "execution_count": 87,
   "id": "2fb0c774-195f-4f53-bbf4-73e24b4c94d1",
   "metadata": {},
   "outputs": [
    {
     "data": {
      "text/plain": [
       "array([ 5, 21])"
      ]
     },
     "execution_count": 87,
     "metadata": {},
     "output_type": "execute_result"
    }
   ],
   "source": [
    "arr[[1, 5, 7, 2]][:2, 1]"
   ]
  },
  {
   "cell_type": "code",
   "execution_count": 88,
   "id": "4fb2ec1a-3bd8-4367-acd5-7ae805132c98",
   "metadata": {},
   "outputs": [
    {
     "data": {
      "text/plain": [
       "array([[ 4,  7,  5,  6],\n",
       "       [20, 23, 21, 22],\n",
       "       [28, 31, 29, 30],\n",
       "       [ 8, 11,  9, 10]])"
      ]
     },
     "execution_count": 88,
     "metadata": {},
     "output_type": "execute_result"
    }
   ],
   "source": [
    "arr[[1, 5, 7, 2]][:, [0, 3, 1, 2]]"
   ]
  },
  {
   "cell_type": "code",
   "execution_count": 89,
   "id": "3b0200f4-9722-4e25-ab20-f31f6f02bf5e",
   "metadata": {},
   "outputs": [
    {
     "data": {
      "text/plain": [
       "array([[ 4,  5,  6,  7],\n",
       "       [20, 21, 22, 23]])"
      ]
     },
     "execution_count": 89,
     "metadata": {},
     "output_type": "execute_result"
    }
   ],
   "source": [
    "arr[[1, 5, 7, 2]][:2,]"
   ]
  },
  {
   "cell_type": "code",
   "execution_count": 90,
   "id": "3ff8aa98-8546-4490-a8fd-312d67b9d8c8",
   "metadata": {},
   "outputs": [
    {
     "data": {
      "text/plain": [
       "array([[ 5,  4],\n",
       "       [21, 20]])"
      ]
     },
     "execution_count": 90,
     "metadata": {},
     "output_type": "execute_result"
    }
   ],
   "source": [
    "arr[[1, 5, 7, 2]][:2, [1, 0]]"
   ]
  },
  {
   "cell_type": "code",
   "execution_count": 91,
   "id": "14b9fc73-4014-486b-a807-1b43496868e1",
   "metadata": {},
   "outputs": [
    {
     "data": {
      "text/plain": [
       "array([ 4, 23, 29, 10])"
      ]
     },
     "execution_count": 91,
     "metadata": {},
     "output_type": "execute_result"
    }
   ],
   "source": [
    "arr[[1, 5, 7, 2], [0, 3, 1, 2]]"
   ]
  },
  {
   "cell_type": "code",
   "execution_count": 92,
   "id": "930e5cd2-9fc7-48be-8f34-6724c8fb434a",
   "metadata": {},
   "outputs": [],
   "source": [
    "arr[[1, 5, 7, 2], [0, 3, 1, 2]] = 0"
   ]
  },
  {
   "cell_type": "code",
   "execution_count": 93,
   "id": "1bbdc3d4-b0f6-4edc-b149-451b95e72549",
   "metadata": {},
   "outputs": [
    {
     "data": {
      "text/plain": [
       "array([0, 0, 0, 0])"
      ]
     },
     "execution_count": 93,
     "metadata": {},
     "output_type": "execute_result"
    }
   ],
   "source": [
    "arr[[1, 5, 7, 2], [0, 3, 1, 2]]"
   ]
  },
  {
   "cell_type": "code",
   "execution_count": 94,
   "id": "71bf2797-08eb-404a-be23-5dbcfcc8a782",
   "metadata": {},
   "outputs": [
    {
     "data": {
      "text/plain": [
       "array([[ 0,  7,  5,  6],\n",
       "       [20,  0, 21, 22],\n",
       "       [28, 31,  0, 30],\n",
       "       [ 8, 11,  9,  0]])"
      ]
     },
     "execution_count": 94,
     "metadata": {},
     "output_type": "execute_result"
    }
   ],
   "source": [
    "arr[[1, 5, 7, 2]] [:, [0, 3, 1, 2]]"
   ]
  },
  {
   "cell_type": "code",
   "execution_count": 95,
   "id": "45c8b492-667f-499b-b652-f63de9a05a7a",
   "metadata": {},
   "outputs": [],
   "source": [
    "arr[[1, 5, 7, 2]] [:, [0, 3, 1, 2]] = 100"
   ]
  },
  {
   "cell_type": "code",
   "execution_count": 96,
   "id": "7584d4fd-ba4f-4129-898f-27d63a759cca",
   "metadata": {},
   "outputs": [
    {
     "data": {
      "text/plain": [
       "array([[ 0,  7,  5,  6],\n",
       "       [20,  0, 21, 22],\n",
       "       [28, 31,  0, 30],\n",
       "       [ 8, 11,  9,  0]])"
      ]
     },
     "execution_count": 96,
     "metadata": {},
     "output_type": "execute_result"
    }
   ],
   "source": [
    "arr[[1, 5, 7, 2]] [:, [0, 3, 1, 2]]"
   ]
  },
  {
   "cell_type": "code",
   "execution_count": null,
   "id": "1a0384b5-ba7f-4886-81ae-bc384a7adbb7",
   "metadata": {},
   "outputs": [],
   "source": [
    "arr[[1, 5, 7, 2], [0, 3, 1, 2]]"
   ]
  },
  {
   "cell_type": "code",
   "execution_count": 99,
   "id": "3c2e828a-b43a-4ede-b29d-d433bade03d1",
   "metadata": {},
   "outputs": [],
   "source": [
    "arr[[1, 5, 7, 2], [0, 3, 1, 2]] = 100"
   ]
  },
  {
   "cell_type": "code",
   "execution_count": 100,
   "id": "ca2d6323-c8d5-4fe6-852d-f65fb882ffc4",
   "metadata": {},
   "outputs": [
    {
     "data": {
      "text/plain": [
       "array([100, 100, 100, 100])"
      ]
     },
     "execution_count": 100,
     "metadata": {},
     "output_type": "execute_result"
    }
   ],
   "source": [
    "arr[[1, 5, 7, 2], [0, 3, 1, 2]]"
   ]
  },
  {
   "cell_type": "code",
   "execution_count": 101,
   "id": "16ea0d90-b0f9-4901-b4ad-980972f0cef7",
   "metadata": {},
   "outputs": [
    {
     "data": {
      "text/plain": [
       "array([[100,   5,   6,   7],\n",
       "       [ 20,  21,  22, 100],\n",
       "       [ 28, 100,  30,  31],\n",
       "       [  8,   9, 100,  11]])"
      ]
     },
     "execution_count": 101,
     "metadata": {},
     "output_type": "execute_result"
    }
   ],
   "source": [
    "arr[[1, 5, 7, 2]] #, [0, 3, 1, 2]]"
   ]
  },
  {
   "cell_type": "code",
   "execution_count": 105,
   "id": "2e4d20fe-5d56-4c29-9493-f4b824ec4ee9",
   "metadata": {},
   "outputs": [
    {
     "data": {
      "text/plain": [
       "array([[100,   7,   5,   6],\n",
       "       [ 20, 100,  21,  22],\n",
       "       [ 28,  31, 100,  30],\n",
       "       [  8,  11,   9, 100]])"
      ]
     },
     "execution_count": 105,
     "metadata": {},
     "output_type": "execute_result"
    }
   ],
   "source": [
    "arr[[1, 5, 7, 2]][:, [0, 3, 1, 2]]"
   ]
  },
  {
   "cell_type": "code",
   "execution_count": 103,
   "id": "a58db7ec-dd42-456b-9bf7-0b716b7998a7",
   "metadata": {},
   "outputs": [],
   "source": [
    "arr[[1, 5, 7, 2]][:, [0, 3, 1, 2]] = 6"
   ]
  },
  {
   "cell_type": "code",
   "execution_count": 104,
   "id": "15413c4b-4c1c-4597-bf78-d94676e6d65c",
   "metadata": {},
   "outputs": [
    {
     "data": {
      "text/plain": [
       "array([[100,   7,   5,   6],\n",
       "       [ 20, 100,  21,  22],\n",
       "       [ 28,  31, 100,  30],\n",
       "       [  8,  11,   9, 100]])"
      ]
     },
     "execution_count": 104,
     "metadata": {},
     "output_type": "execute_result"
    }
   ],
   "source": [
    "arr[[1, 5, 7, 2]][:, [0, 3, 1, 2]]"
   ]
  },
  {
   "cell_type": "code",
   "execution_count": 106,
   "id": "914d1c79-1c92-4af9-8a2d-13954d12a4f0",
   "metadata": {},
   "outputs": [],
   "source": [
    "arr[[1, 5, 7, 2], [0, 3, 1, 2]]  = 6"
   ]
  },
  {
   "cell_type": "code",
   "execution_count": 107,
   "id": "ea76c4d7-4890-43c9-a1eb-536591945505",
   "metadata": {},
   "outputs": [
    {
     "data": {
      "text/plain": [
       "array([6, 6, 6, 6])"
      ]
     },
     "execution_count": 107,
     "metadata": {},
     "output_type": "execute_result"
    }
   ],
   "source": [
    "arr[[1, 5, 7, 2], [0, 3, 1, 2]]"
   ]
  },
  {
   "cell_type": "code",
   "execution_count": null,
   "id": "b6ebd5d1-8144-42e8-b224-92126bb842da",
   "metadata": {},
   "outputs": [],
   "source": []
  }
 ],
 "metadata": {
  "kernelspec": {
   "display_name": "Python 3 (ipykernel)",
   "language": "python",
   "name": "python3"
  },
  "language_info": {
   "codemirror_mode": {
    "name": "ipython",
    "version": 3
   },
   "file_extension": ".py",
   "mimetype": "text/x-python",
   "name": "python",
   "nbconvert_exporter": "python",
   "pygments_lexer": "ipython3",
   "version": "3.11.6"
  }
 },
 "nbformat": 4,
 "nbformat_minor": 5
}
